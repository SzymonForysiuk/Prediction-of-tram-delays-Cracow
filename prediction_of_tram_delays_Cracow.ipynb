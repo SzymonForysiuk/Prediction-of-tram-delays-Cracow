{
 "cells": [
  {
   "cell_type": "markdown",
   "id": "united-dallas",
   "metadata": {},
   "source": [
    "# Prediction of tram delays in Cracow"
   ]
  },
  {
   "cell_type": "markdown",
   "id": "gorgeous-coffee",
   "metadata": {},
   "source": [
    "## Dataset\n",
    "\n",
    "There are 308,152 rows/records in the data that have been divided into almost equal parts:\n",
    "\n",
    "-tram.train.h5 (175 986 rows)\n",
    "\n",
    "-tram.test.h5 (132 166 rows)\n",
    "\n",
    "<strong>This is real data.</strong>"
   ]
  },
  {
   "cell_type": "code",
   "execution_count": 213,
   "id": "structural-cache",
   "metadata": {},
   "outputs": [],
   "source": [
    "import pandas as pd\n",
    "import numpy as np\n",
    "np.random.seed(0)"
   ]
  },
  {
   "cell_type": "code",
   "execution_count": 214,
   "id": "separated-invite",
   "metadata": {
    "ExecuteTime": {
     "end_time": "2021-10-30T17:17:21.704820Z",
     "start_time": "2021-10-30T17:17:19.902476Z"
    }
   },
   "outputs": [],
   "source": [
    "df_train = pd.read_hdf('../input/tram.train.h5')\n",
    "df_test = pd.read_hdf('../input/tram.test.h5') #dataset without labels"
   ]
  },
  {
   "cell_type": "markdown",
   "id": "rubber-cleaning",
   "metadata": {},
   "source": [
    "## Concat datasets\n",
    "\n",
    "Concatting `df_train` with ` df_test` and signing it to `df`."
   ]
  },
  {
   "cell_type": "code",
   "execution_count": 215,
   "id": "bibliographic-excellence",
   "metadata": {
    "ExecuteTime": {
     "end_time": "2021-10-30T17:17:22.336441Z",
     "start_time": "2021-10-30T17:17:21.806489Z"
    },
    "scrolled": true
   },
   "outputs": [
    {
     "data": {
      "text/plain": [
       "(308152, 11)"
      ]
     },
     "execution_count": 215,
     "metadata": {},
     "output_type": "execute_result"
    }
   ],
   "source": [
    "df = pd.concat([df_train, df_test])\n",
    "df.shape"
   ]
  },
  {
   "cell_type": "code",
   "execution_count": 216,
   "id": "isolated-bolivia",
   "metadata": {},
   "outputs": [
    {
     "data": {
      "text/html": [
       "<div>\n",
       "<style scoped>\n",
       "    .dataframe tbody tr th:only-of-type {\n",
       "        vertical-align: middle;\n",
       "    }\n",
       "\n",
       "    .dataframe tbody tr th {\n",
       "        vertical-align: top;\n",
       "    }\n",
       "\n",
       "    .dataframe thead th {\n",
       "        text-align: right;\n",
       "    }\n",
       "</style>\n",
       "<table border=\"1\" class=\"dataframe\">\n",
       "  <thead>\n",
       "    <tr style=\"text-align: right;\">\n",
       "      <th></th>\n",
       "      <th>id</th>\n",
       "      <th>delay</th>\n",
       "      <th>datetime</th>\n",
       "      <th>stop</th>\n",
       "      <th>stop_name</th>\n",
       "      <th>number</th>\n",
       "      <th>direction</th>\n",
       "      <th>planned_time</th>\n",
       "      <th>vehicle_id</th>\n",
       "      <th>trip_id</th>\n",
       "      <th>seq_num</th>\n",
       "    </tr>\n",
       "  </thead>\n",
       "  <tbody>\n",
       "    <tr>\n",
       "      <th>46049</th>\n",
       "      <td>46049</td>\n",
       "      <td>180.0</td>\n",
       "      <td>2018-07-23 22:46:12</td>\n",
       "      <td>409</td>\n",
       "      <td>Centralna</td>\n",
       "      <td>22</td>\n",
       "      <td>Kombinat</td>\n",
       "      <td>2018-07-23 22:43:00</td>\n",
       "      <td>6.352185e+18</td>\n",
       "      <td>6351558574044899599</td>\n",
       "      <td>NaN</td>\n",
       "    </tr>\n",
       "    <tr>\n",
       "      <th>70448</th>\n",
       "      <td>70448</td>\n",
       "      <td>NaN</td>\n",
       "      <td>NaN</td>\n",
       "      <td>367</td>\n",
       "      <td>Francesco Nullo</td>\n",
       "      <td>14</td>\n",
       "      <td>Mistrzejowice</td>\n",
       "      <td>2018-07-24 14:09:00</td>\n",
       "      <td>6.352185e+18</td>\n",
       "      <td>6351558574044727817</td>\n",
       "      <td>18.0</td>\n",
       "    </tr>\n",
       "    <tr>\n",
       "      <th>82986</th>\n",
       "      <td>82986</td>\n",
       "      <td>NaN</td>\n",
       "      <td>NaN</td>\n",
       "      <td>89</td>\n",
       "      <td>Bronowice</td>\n",
       "      <td>4</td>\n",
       "      <td>Wzgórza K.</td>\n",
       "      <td>2018-07-24 18:33:00</td>\n",
       "      <td>6.352185e+18</td>\n",
       "      <td>6351558574044457485</td>\n",
       "      <td>4.0</td>\n",
       "    </tr>\n",
       "    <tr>\n",
       "      <th>260805</th>\n",
       "      <td>260805</td>\n",
       "      <td>0.0</td>\n",
       "      <td>2018-07-30 21:18:35</td>\n",
       "      <td>2691</td>\n",
       "      <td>Chmieleniec</td>\n",
       "      <td>11</td>\n",
       "      <td>Czerwone Maki P+R</td>\n",
       "      <td>2018-07-30 21:19:00</td>\n",
       "      <td>6.352185e+18</td>\n",
       "      <td>6351558574044655637</td>\n",
       "      <td>21.0</td>\n",
       "    </tr>\n",
       "    <tr>\n",
       "      <th>151230</th>\n",
       "      <td>151230</td>\n",
       "      <td>NaN</td>\n",
       "      <td>NaN</td>\n",
       "      <td>79</td>\n",
       "      <td>Plac Inwalidów</td>\n",
       "      <td>24</td>\n",
       "      <td>Kurdwanów P+R</td>\n",
       "      <td>2018-07-26 11:06:00</td>\n",
       "      <td>6.352185e+18</td>\n",
       "      <td>6351558574047583239</td>\n",
       "      <td>9.0</td>\n",
       "    </tr>\n",
       "    <tr>\n",
       "      <th>229003</th>\n",
       "      <td>229003</td>\n",
       "      <td>0.0</td>\n",
       "      <td>2018-07-30 08:50:34</td>\n",
       "      <td>320</td>\n",
       "      <td>Reymana</td>\n",
       "      <td>20</td>\n",
       "      <td>Cichy Kącik</td>\n",
       "      <td>2018-07-30 08:50:00</td>\n",
       "      <td>6.352185e+18</td>\n",
       "      <td>6351558574044835847</td>\n",
       "      <td>18.0</td>\n",
       "    </tr>\n",
       "    <tr>\n",
       "      <th>61238</th>\n",
       "      <td>61238</td>\n",
       "      <td>NaN</td>\n",
       "      <td>NaN</td>\n",
       "      <td>129</td>\n",
       "      <td>Cystersów</td>\n",
       "      <td>4</td>\n",
       "      <td>Wzgórza K.</td>\n",
       "      <td>2018-07-24 10:14:00</td>\n",
       "      <td>6.352185e+18</td>\n",
       "      <td>6351558574044482053</td>\n",
       "      <td>16.0</td>\n",
       "    </tr>\n",
       "    <tr>\n",
       "      <th>193317</th>\n",
       "      <td>193317</td>\n",
       "      <td>240.0</td>\n",
       "      <td>2018-07-27 11:01:29</td>\n",
       "      <td>567</td>\n",
       "      <td>Kuklińskiego</td>\n",
       "      <td>20</td>\n",
       "      <td>Mały Płaszów</td>\n",
       "      <td>2018-07-27 10:57:00</td>\n",
       "      <td>6.352185e+18</td>\n",
       "      <td>6351558574046678282</td>\n",
       "      <td>15.0</td>\n",
       "    </tr>\n",
       "  </tbody>\n",
       "</table>\n",
       "</div>"
      ],
      "text/plain": [
       "            id  delay             datetime  stop        stop_name  number  \\\n",
       "46049    46049  180.0  2018-07-23 22:46:12   409        Centralna      22   \n",
       "70448    70448    NaN                  NaN   367  Francesco Nullo      14   \n",
       "82986    82986    NaN                  NaN    89        Bronowice       4   \n",
       "260805  260805    0.0  2018-07-30 21:18:35  2691      Chmieleniec      11   \n",
       "151230  151230    NaN                  NaN    79   Plac Inwalidów      24   \n",
       "229003  229003    0.0  2018-07-30 08:50:34   320          Reymana      20   \n",
       "61238    61238    NaN                  NaN   129        Cystersów       4   \n",
       "193317  193317  240.0  2018-07-27 11:01:29   567     Kuklińskiego      20   \n",
       "\n",
       "                direction         planned_time    vehicle_id  \\\n",
       "46049            Kombinat  2018-07-23 22:43:00  6.352185e+18   \n",
       "70448       Mistrzejowice  2018-07-24 14:09:00  6.352185e+18   \n",
       "82986          Wzgórza K.  2018-07-24 18:33:00  6.352185e+18   \n",
       "260805  Czerwone Maki P+R  2018-07-30 21:19:00  6.352185e+18   \n",
       "151230      Kurdwanów P+R  2018-07-26 11:06:00  6.352185e+18   \n",
       "229003        Cichy Kącik  2018-07-30 08:50:00  6.352185e+18   \n",
       "61238          Wzgórza K.  2018-07-24 10:14:00  6.352185e+18   \n",
       "193317       Mały Płaszów  2018-07-27 10:57:00  6.352185e+18   \n",
       "\n",
       "                    trip_id  seq_num  \n",
       "46049   6351558574044899599      NaN  \n",
       "70448   6351558574044727817     18.0  \n",
       "82986   6351558574044457485      4.0  \n",
       "260805  6351558574044655637     21.0  \n",
       "151230  6351558574047583239      9.0  \n",
       "229003  6351558574044835847     18.0  \n",
       "61238   6351558574044482053     16.0  \n",
       "193317  6351558574046678282     15.0  "
      ]
     },
     "execution_count": 216,
     "metadata": {},
     "output_type": "execute_result"
    }
   ],
   "source": [
    "df.sample(8)"
   ]
  },
  {
   "cell_type": "markdown",
   "id": "adjusted-bahrain",
   "metadata": {},
   "source": [
    "## Dealing with features (`feature engineering`)"
   ]
  },
  {
   "cell_type": "markdown",
   "id": "innocent-substance",
   "metadata": {},
   "source": [
    "Krakow is one of the largest cities in Poland, which can result in streetcar delays caused by rush hour - when there are longer waits for public transportation.There are different dynamics during rush hour.\n",
    "\n",
    "A hypothesis arises to show the model directly what time it is. <strong> We pull this hour from `planned_time` - the variable tells us what time the planned tram ride was. </strong>\n",
    "\n",
    "Using `pd.to_datetime` we map planned_time to a datetime type, which allows us to work with dates more easily."
   ]
  },
  {
   "cell_type": "code",
   "execution_count": 217,
   "id": "global-server",
   "metadata": {},
   "outputs": [],
   "source": [
    "df['planned_time'] = pd.to_datetime(df['planned_time'], format='%Y-%m-%d %H:%M:%S')\n",
    "df['day'] = df['planned_time'].dt.dayofweek\n",
    "df['month'] = df['planned_time'].dt.month\n",
    "df['hour'] = df['planned_time'].dt.hour\n",
    "df['minute'] = df['planned_time'].dt.minute\n",
    "df['time_diff'] = df['planned_time'].diff()\n",
    "df['time_diff'] = df['time_diff'].dt.total_seconds()\n",
    "df['stop_diff'] = df['stop'].diff()\n",
    "\n",
    "df['rush_hours'] = df['hour'].apply(lambda x: 1 if (x > 5 and x < 10) | (x > 14 and x < 19) else 0) # rush_hours\n",
    "df['night_hours'] = df['hour'].apply(lambda x: 1 if (x < 6 or x > 21) else 0) # night_hours\n",
    "\n",
    "df['vehicle_id_log'] = df['vehicle_id'].map(lambda x: np.log(x))\n",
    "df['vehicle_id_cat'] = pd.factorize(df['vehicle_id_log'])[0]\n",
    "\n",
    "df['stop_hour'] = df['stop']/df['hour']"
   ]
  },
  {
   "cell_type": "markdown",
   "id": "grave-satisfaction",
   "metadata": {},
   "source": [
    "## Missing Values"
   ]
  },
  {
   "cell_type": "code",
   "execution_count": 218,
   "id": "moved-banking",
   "metadata": {},
   "outputs": [
    {
     "data": {
      "text/plain": [
       "id                     0\n",
       "delay             132166\n",
       "datetime          132166\n",
       "stop                   0\n",
       "stop_name              0\n",
       "number                 0\n",
       "direction              0\n",
       "planned_time           0\n",
       "vehicle_id             0\n",
       "trip_id                0\n",
       "seq_num             2382\n",
       "day                    0\n",
       "month                  0\n",
       "hour                   0\n",
       "minute                 0\n",
       "time_diff              1\n",
       "stop_diff              1\n",
       "rush_hours             0\n",
       "night_hours            0\n",
       "vehicle_id_log         0\n",
       "vehicle_id_cat         0\n",
       "stop_hour              0\n",
       "dtype: int64"
      ]
     },
     "execution_count": 218,
     "metadata": {},
     "output_type": "execute_result"
    }
   ],
   "source": [
    "df.isna().sum()"
   ]
  },
  {
   "cell_type": "markdown",
   "id": "medieval-hopkins",
   "metadata": {},
   "source": [
    "<strong>The large number of 'NaN' values among 'delay ' and 'datetime' is due to the fact that we merged df_train with df_test, which was devoid of labels.</strong>"
   ]
  },
  {
   "cell_type": "code",
   "execution_count": 230,
   "id": "impressed-footwear",
   "metadata": {},
   "outputs": [],
   "source": [
    "df['time_diff'] = df['time_diff'].fillna(0)\n",
    "df['stop_diff'] = df['stop_diff'].fillna(0)\n",
    "\n",
    "df['seq_num'] = df['seq_num'].fillna(0)"
   ]
  },
  {
   "cell_type": "markdown",
   "id": "functional-steel",
   "metadata": {},
   "source": [
    "### Bus stops\n",
    "There are probably some streetcar stops that are more frequently used and prone to delay.\n",
    "For extracting more data, you can collect more information about delays occurring at specific stops (e.g., average value, standard deviation).\n",
    "Let's also count how often no delay occurred at a particular stop (zero delay) - `count_zeros_stopname_delay`."
   ]
  },
  {
   "cell_type": "code",
   "execution_count": 220,
   "id": "unsigned-possession",
   "metadata": {
    "ExecuteTime": {
     "end_time": "2021-10-30T17:17:23.692777Z",
     "start_time": "2021-10-30T17:17:23.656065Z"
    }
   },
   "outputs": [],
   "source": [
    "def df_group_delay(df_train, groupby_feats):\n",
    "    agg_params = {\n",
    "        \"mean_{}_delay\".format(\"_\".join(groupby_feats)): (\"delay\", \"mean\"),\n",
    "        \"median_{}_delay\".format(\"_\".join(groupby_feats)): (\"delay\", \"median\"),\n",
    "        \"count_{}_delay\".format(\"_\".join(groupby_feats)): (\"delay\", \"count\"),\n",
    "        \"std_{}_delay\".format(\"_\".join(groupby_feats)): (\"delay\", \"std\"),\n",
    "        \"count_zeros_{}_delay\".format(\"_\".join(groupby_feats)): (\"delay\", lambda vals: len([x for x in vals if x == 0]) ),\n",
    "        \"prob_zeros_{}_delay\".format(\"_\".join(groupby_feats)): (\"delay\", lambda vals: np.mean([x == 0 for x in vals]) ),\n",
    "    }\n",
    "    \n",
    "    return df_train[groupby_feats + [\"delay\"]].groupby(groupby_feats).agg(**agg_params).reset_index()"
   ]
  },
  {
   "cell_type": "code",
   "execution_count": 221,
   "id": "appointed-louisville",
   "metadata": {
    "ExecuteTime": {
     "end_time": "2021-10-30T17:17:26.256388Z",
     "start_time": "2021-10-30T17:17:23.840875Z"
    }
   },
   "outputs": [],
   "source": [
    "stop_name_delay = df_group_delay(df_train, [\"stop_name\"]) #Now let's use df_group_delay and that will be what we achieved recently.\n",
    "\n",
    "if \"mean_stop_name_delay\" not in df: #concatting the main df with the dataframe in delays at specific tram stops.\n",
    "    df = pd.merge(df, stop_name_delay, on=\"stop_name\", how=\"left\") "
   ]
  },
  {
   "cell_type": "markdown",
   "id": "imported-fireplace",
   "metadata": {
    "ExecuteTime": {
     "end_time": "2021-10-30T17:27:53.003584Z",
     "start_time": "2021-10-30T17:27:52.975007Z"
    }
   },
   "source": [
    "Let's add the driving direction (meaning `direction`). <strong>The same stop, but you can go in different directions so it will be different cases.  </strong>"
   ]
  },
  {
   "cell_type": "code",
   "execution_count": 222,
   "id": "alpine-request",
   "metadata": {
    "ExecuteTime": {
     "end_time": "2021-10-30T17:17:28.571341Z",
     "start_time": "2021-10-30T17:17:26.370860Z"
    }
   },
   "outputs": [],
   "source": [
    "stop_name_direction_delay = df_group_delay(df_train, [\"stop_name\", \"direction\"])\n",
    "if \"mean_stopname_direction_delay\" not in df:\n",
    "    df = pd.merge(df, stop_name_direction_delay, on=[\"stop_name\", \"direction\"], how=\"left\")"
   ]
  },
  {
   "cell_type": "markdown",
   "id": "hidden-rugby",
   "metadata": {},
   "source": [
    "## Select features\n",
    "\n",
    "In addition, we can ignore some features, because if you check them more carefully, it turns out that they do not contribute much."
   ]
  },
  {
   "cell_type": "code",
   "execution_count": 223,
   "id": "marked-oliver",
   "metadata": {
    "ExecuteTime": {
     "end_time": "2021-10-30T17:17:32.737633Z",
     "start_time": "2021-10-30T17:17:31.970565Z"
    }
   },
   "outputs": [
    {
     "data": {
      "text/plain": [
       "['stop',\n",
       " 'number',\n",
       " 'seq_num',\n",
       " 'day',\n",
       " 'month',\n",
       " 'hour',\n",
       " 'time_diff',\n",
       " 'rush_hours',\n",
       " 'night_hours',\n",
       " 'vehicle_id_log',\n",
       " 'vehicle_id_cat',\n",
       " 'stop_hour',\n",
       " 'mean_stop_name_delay',\n",
       " 'median_stop_name_delay',\n",
       " 'count_stop_name_delay',\n",
       " 'std_stop_name_delay',\n",
       " 'count_zeros_stop_name_delay',\n",
       " 'prob_zeros_stop_name_delay',\n",
       " 'mean_stop_name_direction_delay',\n",
       " 'median_stop_name_direction_delay',\n",
       " 'count_stop_name_direction_delay',\n",
       " 'std_stop_name_direction_delay',\n",
       " 'count_zeros_stop_name_direction_delay',\n",
       " 'prob_zeros_stop_name_direction_delay']"
      ]
     },
     "execution_count": 223,
     "metadata": {},
     "output_type": "execute_result"
    }
   ],
   "source": [
    "feats = df.select_dtypes(\"number\").columns\n",
    "black_list = [\"id\", \"delay\", \"trip_id\", 'trip_id_log', 'vehicle_id', 'super_seq', 'stop_name_cat', 'est_delay', 'minute', 'seq_num_^2_median', \n",
    "              'seq_num_tmp','no_delays_stops','seq_num_power2', 'trip_id_seq_num_number_m_frec','day_frec','trip_id_cat', 'stop_diff']\n",
    "feats = [x for x in feats if x not in black_list]\n",
    "\n",
    "feats"
   ]
  },
  {
   "cell_type": "code",
   "execution_count": 224,
   "id": "earned-commitment",
   "metadata": {
    "ExecuteTime": {
     "end_time": "2021-10-30T17:17:37.549812Z",
     "start_time": "2021-10-30T17:17:36.752658Z"
    }
   },
   "outputs": [],
   "source": [
    "df_train = df[ df[\"delay\"].notnull() ].copy().fillna(-1)\n",
    "df_test = df[ df[\"delay\"].isnull() ].copy().fillna(-1)\n",
    "\n",
    "X_train = df_train[feats].fillna(-1).values\n",
    "y_train = df_train[\"delay\"].values\n",
    "X_test = df_test[feats].fillna(-1).values"
   ]
  },
  {
   "cell_type": "markdown",
   "id": "juvenile-refrigerator",
   "metadata": {},
   "source": [
    "## Building the model"
   ]
  },
  {
   "cell_type": "markdown",
   "id": "original-vertex",
   "metadata": {},
   "source": [
    "<strong>Due to the large amount of data/records, most of the models available in scikit-learn will not be able to learn the model!</strong> For that, we can still use the capabilities of the XGBoost library."
   ]
  },
  {
   "cell_type": "code",
   "execution_count": 225,
   "id": "forced-sensitivity",
   "metadata": {},
   "outputs": [],
   "source": [
    "from sklearn.model_selection import cross_val_score\n",
    "import xgboost as xgb"
   ]
  },
  {
   "cell_type": "code",
   "execution_count": 226,
   "id": "fewer-house",
   "metadata": {},
   "outputs": [],
   "source": [
    "model = xgb.XGBRegressor(max_depth=5, n_estimators=50, random_state=0)\n",
    "\n",
    "scores = cross_val_score(model, X_train, y_train, cv=3, scoring=\"neg_mean_absolute_error\")"
   ]
  },
  {
   "cell_type": "code",
   "execution_count": 227,
   "id": "organized-pharmaceutical",
   "metadata": {},
   "outputs": [
    {
     "name": "stdout",
     "output_type": "stream",
     "text": [
      "31.03009691423145 0.9472878255639744\n"
     ]
    }
   ],
   "source": [
    "print(-np.mean(scores), np.std(scores))"
   ]
  },
  {
   "cell_type": "markdown",
   "id": "catholic-coupon",
   "metadata": {},
   "source": [
    "## Predicting on unseen data"
   ]
  },
  {
   "cell_type": "code",
   "execution_count": 228,
   "id": "abstract-decision",
   "metadata": {},
   "outputs": [],
   "source": [
    "model.fit(X_train, y_train)\n",
    "y_pred = model.predict(X_test)\n",
    "y_pred[ y_pred < 0 ] = 0\n",
    "df_test[\"delay\"] = y_pred"
   ]
  },
  {
   "cell_type": "code",
   "execution_count": 229,
   "id": "saved-seattle",
   "metadata": {},
   "outputs": [],
   "source": [
    "df_test[ [\"id\", \"delay\"] ].to_csv('../output/simple_xgboost.csv', index=False) "
   ]
  }
 ],
 "metadata": {
  "kernelspec": {
   "display_name": "Python 3",
   "language": "python",
   "name": "python3"
  },
  "language_info": {
   "codemirror_mode": {
    "name": "ipython",
    "version": 3
   },
   "file_extension": ".py",
   "mimetype": "text/x-python",
   "name": "python",
   "nbconvert_exporter": "python",
   "pygments_lexer": "ipython3",
   "version": "3.8.6"
  }
 },
 "nbformat": 4,
 "nbformat_minor": 5
}
