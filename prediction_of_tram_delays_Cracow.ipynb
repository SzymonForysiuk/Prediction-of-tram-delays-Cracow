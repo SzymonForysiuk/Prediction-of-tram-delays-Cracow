{
 "cells": [
  {
   "cell_type": "markdown",
   "id": "empty-reggae",
   "metadata": {},
   "source": [
    "# Prediction of tram delays in Cracow"
   ]
  },
  {
   "cell_type": "code",
   "execution_count": 1,
   "id": "fitting-parade",
   "metadata": {
    "collapsed": true
   },
   "outputs": [
    {
     "name": "stderr",
     "output_type": "stream",
     "text": [
      "2023-04-06 22:17:01.718134: I tensorflow/core/platform/cpu_feature_guard.cc:193] This TensorFlow binary is optimized with oneAPI Deep Neural Network Library (oneDNN) to use the following CPU instructions in performance-critical operations:  AVX2 FMA\n",
      "To enable them in other operations, rebuild TensorFlow with the appropriate compiler flags.\n",
      "2023-04-06 22:17:01.901611: W tensorflow/compiler/xla/stream_executor/platform/default/dso_loader.cc:64] Could not load dynamic library 'libcudart.so.11.0'; dlerror: libcudart.so.11.0: cannot open shared object file: No such file or directory\n",
      "2023-04-06 22:17:01.901634: I tensorflow/compiler/xla/stream_executor/cuda/cudart_stub.cc:29] Ignore above cudart dlerror if you do not have a GPU set up on your machine.\n",
      "2023-04-06 22:17:02.742311: W tensorflow/compiler/xla/stream_executor/platform/default/dso_loader.cc:64] Could not load dynamic library 'libnvinfer.so.7'; dlerror: libnvinfer.so.7: cannot open shared object file: No such file or directory\n",
      "2023-04-06 22:17:02.742446: W tensorflow/compiler/xla/stream_executor/platform/default/dso_loader.cc:64] Could not load dynamic library 'libnvinfer_plugin.so.7'; dlerror: libnvinfer_plugin.so.7: cannot open shared object file: No such file or directory\n",
      "2023-04-06 22:17:02.742457: W tensorflow/compiler/tf2tensorrt/utils/py_utils.cc:38] TF-TRT Warning: Cannot dlopen some TensorRT libraries. If you would like to use Nvidia GPU with TensorRT, please make sure the missing libraries mentioned above are installed properly.\n"
     ]
    }
   ],
   "source": [
    "import pandas as pd\n",
    "import numpy as np\n",
    "import matplotlib.pyplot as plt\n",
    "import seaborn as sns\n",
    "np.random.seed(0)\n",
    "\n",
    "from sklearn.metrics import mean_absolute_error, mean_squared_error\n",
    "from sklearn.model_selection import cross_val_score\n",
    "\n",
    "import xgboost as xgb\n",
    "\n",
    "import eli5\n",
    "import warnings\n",
    "warnings.filterwarnings('ignore')\n",
    "\n",
    "pd.set_option('display.max_rows', 1000)\n",
    "pd.set_option('display.max_columns', 1000)\n",
    "pd.set_option('display.width', 1000)"
   ]
  },
  {
   "cell_type": "code",
   "execution_count": 2,
   "id": "standing-radical",
   "metadata": {
    "ExecuteTime": {
     "end_time": "2021-10-30T17:17:21.704820Z",
     "start_time": "2021-10-30T17:17:19.902476Z"
    }
   },
   "outputs": [],
   "source": [
    "df_1 = pd.read_hdf('tram.1.h5', index_col='id')\n",
    "df_2 = pd.read_hdf('tram.2.h5', index_col='id')"
   ]
  },
  {
   "cell_type": "markdown",
   "id": "sustained-ethics",
   "metadata": {},
   "source": [
    "## Concat datasets and leaving delay columns separated\n",
    "\n",
    "Concatting `df_train` with ` df_test` and signing it to `df`."
   ]
  },
  {
   "cell_type": "code",
   "execution_count": 3,
   "id": "23bd03ac",
   "metadata": {},
   "outputs": [],
   "source": [
    "df = pd.concat([df_1,df_2], axis=0)"
   ]
  },
  {
   "cell_type": "code",
   "execution_count": 4,
   "id": "documentary-tension",
   "metadata": {
    "ExecuteTime": {
     "end_time": "2021-10-30T17:17:22.336441Z",
     "start_time": "2021-10-30T17:17:21.806489Z"
    },
    "scrolled": true
   },
   "outputs": [
    {
     "data": {
      "text/plain": [
       "(308152, 11)"
      ]
     },
     "execution_count": 4,
     "metadata": {},
     "output_type": "execute_result"
    }
   ],
   "source": [
    "df.shape"
   ]
  },
  {
   "cell_type": "code",
   "execution_count": 7,
   "id": "5481d5c0",
   "metadata": {},
   "outputs": [
    {
     "data": {
      "text/html": [
       "<div>\n",
       "<style scoped>\n",
       "    .dataframe tbody tr th:only-of-type {\n",
       "        vertical-align: middle;\n",
       "    }\n",
       "\n",
       "    .dataframe tbody tr th {\n",
       "        vertical-align: top;\n",
       "    }\n",
       "\n",
       "    .dataframe thead th {\n",
       "        text-align: right;\n",
       "    }\n",
       "</style>\n",
       "<table border=\"1\" class=\"dataframe\">\n",
       "  <thead>\n",
       "    <tr style=\"text-align: right;\">\n",
       "      <th></th>\n",
       "      <th>id</th>\n",
       "      <th>delay</th>\n",
       "      <th>stop</th>\n",
       "      <th>stop_name</th>\n",
       "      <th>number</th>\n",
       "      <th>direction</th>\n",
       "      <th>planned_time</th>\n",
       "      <th>vehicle_id</th>\n",
       "      <th>trip_id</th>\n",
       "      <th>seq_num</th>\n",
       "    </tr>\n",
       "  </thead>\n",
       "  <tbody>\n",
       "    <tr>\n",
       "      <th>12595</th>\n",
       "      <td>12595</td>\n",
       "      <td>139.0</td>\n",
       "      <td>78</td>\n",
       "      <td>Batorego</td>\n",
       "      <td>24</td>\n",
       "      <td>Bronowice Małe</td>\n",
       "      <td>2018-07-23 10:20:00</td>\n",
       "      <td>6.352185e+18</td>\n",
       "      <td>6351558574044961030</td>\n",
       "      <td>19.0</td>\n",
       "    </tr>\n",
       "    <tr>\n",
       "      <th>249810</th>\n",
       "      <td>249810</td>\n",
       "      <td>367.0</td>\n",
       "      <td>570</td>\n",
       "      <td>Plac Bohaterów Getta</td>\n",
       "      <td>24</td>\n",
       "      <td>Kurdwanów P+R</td>\n",
       "      <td>2018-07-30 16:52:00</td>\n",
       "      <td>6.352185e+18</td>\n",
       "      <td>6351558574044930061</td>\n",
       "      <td>18.0</td>\n",
       "    </tr>\n",
       "    <tr>\n",
       "      <th>16951</th>\n",
       "      <td>16951</td>\n",
       "      <td>85.0</td>\n",
       "      <td>61</td>\n",
       "      <td>Bratysławska</td>\n",
       "      <td>50</td>\n",
       "      <td>Krowodrza Górka</td>\n",
       "      <td>2018-07-23 11:58:00</td>\n",
       "      <td>6.352185e+18</td>\n",
       "      <td>6351558574044997900</td>\n",
       "      <td>17.0</td>\n",
       "    </tr>\n",
       "    <tr>\n",
       "      <th>205483</th>\n",
       "      <td>205483</td>\n",
       "      <td>59.0</td>\n",
       "      <td>126</td>\n",
       "      <td>Lubicz</td>\n",
       "      <td>52</td>\n",
       "      <td>Czerwone Maki P+R</td>\n",
       "      <td>2018-07-27 16:24:00</td>\n",
       "      <td>6.352185e+18</td>\n",
       "      <td>6351558574046891274</td>\n",
       "      <td>18.0</td>\n",
       "    </tr>\n",
       "    <tr>\n",
       "      <th>99036</th>\n",
       "      <td>99036</td>\n",
       "      <td>38.0</td>\n",
       "      <td>2539</td>\n",
       "      <td>Rondo Hipokratesa</td>\n",
       "      <td>14</td>\n",
       "      <td>Bronowice Małe</td>\n",
       "      <td>2018-07-25 07:40:00</td>\n",
       "      <td>6.352185e+18</td>\n",
       "      <td>6351558574044723972</td>\n",
       "      <td>6.0</td>\n",
       "    </tr>\n",
       "  </tbody>\n",
       "</table>\n",
       "</div>"
      ],
      "text/plain": [
       "            id  delay  stop             stop_name  number          direction        planned_time    vehicle_id              trip_id  seq_num\n",
       "12595    12595  139.0    78              Batorego      24     Bronowice Małe 2018-07-23 10:20:00  6.352185e+18  6351558574044961030     19.0\n",
       "249810  249810  367.0   570  Plac Bohaterów Getta      24      Kurdwanów P+R 2018-07-30 16:52:00  6.352185e+18  6351558574044930061     18.0\n",
       "16951    16951   85.0    61          Bratysławska      50    Krowodrza Górka 2018-07-23 11:58:00  6.352185e+18  6351558574044997900     17.0\n",
       "205483  205483   59.0   126                Lubicz      52  Czerwone Maki P+R 2018-07-27 16:24:00  6.352185e+18  6351558574046891274     18.0\n",
       "99036    99036   38.0  2539     Rondo Hipokratesa      14     Bronowice Małe 2018-07-25 07:40:00  6.352185e+18  6351558574044723972      6.0"
      ]
     },
     "execution_count": 7,
     "metadata": {},
     "output_type": "execute_result"
    }
   ],
   "source": [
    "df.sample(5)"
   ]
  },
  {
   "cell_type": "code",
   "execution_count": 8,
   "id": "0e0c7d39",
   "metadata": {},
   "outputs": [
    {
     "data": {
      "text/html": [
       "<div>\n",
       "<style scoped>\n",
       "    .dataframe tbody tr th:only-of-type {\n",
       "        vertical-align: middle;\n",
       "    }\n",
       "\n",
       "    .dataframe tbody tr th {\n",
       "        vertical-align: top;\n",
       "    }\n",
       "\n",
       "    .dataframe thead th {\n",
       "        text-align: right;\n",
       "    }\n",
       "</style>\n",
       "<table border=\"1\" class=\"dataframe\">\n",
       "  <thead>\n",
       "    <tr style=\"text-align: right;\">\n",
       "      <th></th>\n",
       "      <th>id</th>\n",
       "      <th>delay</th>\n",
       "      <th>stop</th>\n",
       "      <th>stop_name</th>\n",
       "      <th>number</th>\n",
       "      <th>direction</th>\n",
       "      <th>planned_time</th>\n",
       "      <th>vehicle_id</th>\n",
       "      <th>trip_id</th>\n",
       "      <th>seq_num</th>\n",
       "    </tr>\n",
       "  </thead>\n",
       "  <tbody>\n",
       "    <tr>\n",
       "      <th>120757</th>\n",
       "      <td>120757</td>\n",
       "      <td>0.0</td>\n",
       "      <td>450</td>\n",
       "      <td>Kopiec Wandy</td>\n",
       "      <td>44</td>\n",
       "      <td>Bronowice</td>\n",
       "      <td>2018-07-25 15:58:00</td>\n",
       "      <td>6.352185e+18</td>\n",
       "      <td>6351558574044977929</td>\n",
       "      <td>1.0</td>\n",
       "    </tr>\n",
       "    <tr>\n",
       "      <th>121014</th>\n",
       "      <td>121014</td>\n",
       "      <td>102.0</td>\n",
       "      <td>459</td>\n",
       "      <td>Kombinat</td>\n",
       "      <td>44</td>\n",
       "      <td>Bronowice</td>\n",
       "      <td>2018-07-25 16:01:00</td>\n",
       "      <td>6.352185e+18</td>\n",
       "      <td>6351558574044977929</td>\n",
       "      <td>2.0</td>\n",
       "    </tr>\n",
       "    <tr>\n",
       "      <th>121235</th>\n",
       "      <td>121235</td>\n",
       "      <td>65.0</td>\n",
       "      <td>423</td>\n",
       "      <td>Struga</td>\n",
       "      <td>44</td>\n",
       "      <td>Bronowice</td>\n",
       "      <td>2018-07-25 16:07:00</td>\n",
       "      <td>6.352185e+18</td>\n",
       "      <td>6351558574044977929</td>\n",
       "      <td>3.0</td>\n",
       "    </tr>\n",
       "    <tr>\n",
       "      <th>121415</th>\n",
       "      <td>121415</td>\n",
       "      <td>67.0</td>\n",
       "      <td>2744</td>\n",
       "      <td>Plac Centralny im. R.Reagana</td>\n",
       "      <td>44</td>\n",
       "      <td>Bronowice</td>\n",
       "      <td>2018-07-25 16:11:00</td>\n",
       "      <td>6.352185e+18</td>\n",
       "      <td>6351558574044977929</td>\n",
       "      <td>4.0</td>\n",
       "    </tr>\n",
       "    <tr>\n",
       "      <th>121475</th>\n",
       "      <td>121475</td>\n",
       "      <td>83.0</td>\n",
       "      <td>413</td>\n",
       "      <td>Os.Kolorowe</td>\n",
       "      <td>44</td>\n",
       "      <td>Bronowice</td>\n",
       "      <td>2018-07-25 16:12:00</td>\n",
       "      <td>6.352185e+18</td>\n",
       "      <td>6351558574044977929</td>\n",
       "      <td>5.0</td>\n",
       "    </tr>\n",
       "    <tr>\n",
       "      <th>121606</th>\n",
       "      <td>121606</td>\n",
       "      <td>21.0</td>\n",
       "      <td>408</td>\n",
       "      <td>Rondo Czyżyńskie</td>\n",
       "      <td>44</td>\n",
       "      <td>Bronowice</td>\n",
       "      <td>2018-07-25 16:16:00</td>\n",
       "      <td>6.352185e+18</td>\n",
       "      <td>6351558574044977929</td>\n",
       "      <td>6.0</td>\n",
       "    </tr>\n",
       "    <tr>\n",
       "      <th>121711</th>\n",
       "      <td>121711</td>\n",
       "      <td>29.0</td>\n",
       "      <td>112</td>\n",
       "      <td>Stella-Sawickiego</td>\n",
       "      <td>44</td>\n",
       "      <td>Bronowice</td>\n",
       "      <td>2018-07-25 16:18:00</td>\n",
       "      <td>6.352185e+18</td>\n",
       "      <td>6351558574044977929</td>\n",
       "      <td>8.0</td>\n",
       "    </tr>\n",
       "    <tr>\n",
       "      <th>121815</th>\n",
       "      <td>121815</td>\n",
       "      <td>73.0</td>\n",
       "      <td>2811</td>\n",
       "      <td>Muzeum Lotnictwa</td>\n",
       "      <td>44</td>\n",
       "      <td>Bronowice</td>\n",
       "      <td>2018-07-25 16:20:00</td>\n",
       "      <td>6.352185e+18</td>\n",
       "      <td>6351558574044977929</td>\n",
       "      <td>10.0</td>\n",
       "    </tr>\n",
       "    <tr>\n",
       "      <th>121889</th>\n",
       "      <td>121889</td>\n",
       "      <td>0.0</td>\n",
       "      <td>3040</td>\n",
       "      <td>TAURON Arena Kraków Wieczysta</td>\n",
       "      <td>44</td>\n",
       "      <td>Bronowice</td>\n",
       "      <td>2018-07-25 16:23:00</td>\n",
       "      <td>6.352185e+18</td>\n",
       "      <td>6351558574044977929</td>\n",
       "      <td>11.0</td>\n",
       "    </tr>\n",
       "    <tr>\n",
       "      <th>121946</th>\n",
       "      <td>121946</td>\n",
       "      <td>9.0</td>\n",
       "      <td>130</td>\n",
       "      <td>Białucha</td>\n",
       "      <td>44</td>\n",
       "      <td>Bronowice</td>\n",
       "      <td>2018-07-25 16:24:00</td>\n",
       "      <td>6.352185e+18</td>\n",
       "      <td>6351558574044977929</td>\n",
       "      <td>12.0</td>\n",
       "    </tr>\n",
       "    <tr>\n",
       "      <th>122017</th>\n",
       "      <td>122017</td>\n",
       "      <td>0.0</td>\n",
       "      <td>129</td>\n",
       "      <td>Cystersów</td>\n",
       "      <td>44</td>\n",
       "      <td>Bronowice</td>\n",
       "      <td>2018-07-25 16:26:00</td>\n",
       "      <td>6.352185e+18</td>\n",
       "      <td>6351558574044977929</td>\n",
       "      <td>13.0</td>\n",
       "    </tr>\n",
       "    <tr>\n",
       "      <th>122203</th>\n",
       "      <td>122203</td>\n",
       "      <td>16.0</td>\n",
       "      <td>126</td>\n",
       "      <td>Lubicz</td>\n",
       "      <td>44</td>\n",
       "      <td>Bronowice</td>\n",
       "      <td>2018-07-25 16:30:00</td>\n",
       "      <td>6.352185e+18</td>\n",
       "      <td>6351558574044977929</td>\n",
       "      <td>15.0</td>\n",
       "    </tr>\n",
       "    <tr>\n",
       "      <th>122320</th>\n",
       "      <td>122320</td>\n",
       "      <td>58.0</td>\n",
       "      <td>131</td>\n",
       "      <td>Dworzec Główny</td>\n",
       "      <td>44</td>\n",
       "      <td>Bronowice</td>\n",
       "      <td>2018-07-25 16:32:00</td>\n",
       "      <td>6.352185e+18</td>\n",
       "      <td>6351558574044977929</td>\n",
       "      <td>16.0</td>\n",
       "    </tr>\n",
       "    <tr>\n",
       "      <th>122389</th>\n",
       "      <td>122389</td>\n",
       "      <td>42.0</td>\n",
       "      <td>3032</td>\n",
       "      <td>Stary Kleparz</td>\n",
       "      <td>44</td>\n",
       "      <td>Bronowice</td>\n",
       "      <td>2018-07-25 16:34:00</td>\n",
       "      <td>6.352185e+18</td>\n",
       "      <td>6351558574044977929</td>\n",
       "      <td>17.0</td>\n",
       "    </tr>\n",
       "    <tr>\n",
       "      <th>122661</th>\n",
       "      <td>122661</td>\n",
       "      <td>34.0</td>\n",
       "      <td>79</td>\n",
       "      <td>Plac Inwalidów</td>\n",
       "      <td>44</td>\n",
       "      <td>Bronowice</td>\n",
       "      <td>2018-07-25 16:40:00</td>\n",
       "      <td>6.352185e+18</td>\n",
       "      <td>6351558574044977929</td>\n",
       "      <td>20.0</td>\n",
       "    </tr>\n",
       "    <tr>\n",
       "      <th>122745</th>\n",
       "      <td>122745</td>\n",
       "      <td>40.0</td>\n",
       "      <td>83</td>\n",
       "      <td>Urzędnicza</td>\n",
       "      <td>44</td>\n",
       "      <td>Bronowice</td>\n",
       "      <td>2018-07-25 16:42:00</td>\n",
       "      <td>6.352185e+18</td>\n",
       "      <td>6351558574044977929</td>\n",
       "      <td>21.0</td>\n",
       "    </tr>\n",
       "    <tr>\n",
       "      <th>122811</th>\n",
       "      <td>122811</td>\n",
       "      <td>14.0</td>\n",
       "      <td>84</td>\n",
       "      <td>Biprostal</td>\n",
       "      <td>44</td>\n",
       "      <td>Bronowice</td>\n",
       "      <td>2018-07-25 16:44:00</td>\n",
       "      <td>6.352185e+18</td>\n",
       "      <td>6351558574044977929</td>\n",
       "      <td>22.0</td>\n",
       "    </tr>\n",
       "    <tr>\n",
       "      <th>122866</th>\n",
       "      <td>122866</td>\n",
       "      <td>34.0</td>\n",
       "      <td>88</td>\n",
       "      <td>Uniwersytet Pedagogiczny</td>\n",
       "      <td>44</td>\n",
       "      <td>Bronowice</td>\n",
       "      <td>2018-07-25 16:45:00</td>\n",
       "      <td>6.352185e+18</td>\n",
       "      <td>6351558574044977929</td>\n",
       "      <td>23.0</td>\n",
       "    </tr>\n",
       "    <tr>\n",
       "      <th>122949</th>\n",
       "      <td>122949</td>\n",
       "      <td>20.0</td>\n",
       "      <td>1049</td>\n",
       "      <td>Głowackiego</td>\n",
       "      <td>44</td>\n",
       "      <td>Bronowice</td>\n",
       "      <td>2018-07-25 16:47:00</td>\n",
       "      <td>6.352185e+18</td>\n",
       "      <td>6351558574044977929</td>\n",
       "      <td>24.0</td>\n",
       "    </tr>\n",
       "  </tbody>\n",
       "</table>\n",
       "</div>"
      ],
      "text/plain": [
       "            id  delay  stop                      stop_name  number  direction        planned_time    vehicle_id              trip_id  seq_num\n",
       "120757  120757    0.0   450                   Kopiec Wandy      44  Bronowice 2018-07-25 15:58:00  6.352185e+18  6351558574044977929      1.0\n",
       "121014  121014  102.0   459                       Kombinat      44  Bronowice 2018-07-25 16:01:00  6.352185e+18  6351558574044977929      2.0\n",
       "121235  121235   65.0   423                         Struga      44  Bronowice 2018-07-25 16:07:00  6.352185e+18  6351558574044977929      3.0\n",
       "121415  121415   67.0  2744   Plac Centralny im. R.Reagana      44  Bronowice 2018-07-25 16:11:00  6.352185e+18  6351558574044977929      4.0\n",
       "121475  121475   83.0   413                    Os.Kolorowe      44  Bronowice 2018-07-25 16:12:00  6.352185e+18  6351558574044977929      5.0\n",
       "121606  121606   21.0   408               Rondo Czyżyńskie      44  Bronowice 2018-07-25 16:16:00  6.352185e+18  6351558574044977929      6.0\n",
       "121711  121711   29.0   112              Stella-Sawickiego      44  Bronowice 2018-07-25 16:18:00  6.352185e+18  6351558574044977929      8.0\n",
       "121815  121815   73.0  2811               Muzeum Lotnictwa      44  Bronowice 2018-07-25 16:20:00  6.352185e+18  6351558574044977929     10.0\n",
       "121889  121889    0.0  3040  TAURON Arena Kraków Wieczysta      44  Bronowice 2018-07-25 16:23:00  6.352185e+18  6351558574044977929     11.0\n",
       "121946  121946    9.0   130                       Białucha      44  Bronowice 2018-07-25 16:24:00  6.352185e+18  6351558574044977929     12.0\n",
       "122017  122017    0.0   129                      Cystersów      44  Bronowice 2018-07-25 16:26:00  6.352185e+18  6351558574044977929     13.0\n",
       "122203  122203   16.0   126                         Lubicz      44  Bronowice 2018-07-25 16:30:00  6.352185e+18  6351558574044977929     15.0\n",
       "122320  122320   58.0   131                 Dworzec Główny      44  Bronowice 2018-07-25 16:32:00  6.352185e+18  6351558574044977929     16.0\n",
       "122389  122389   42.0  3032                  Stary Kleparz      44  Bronowice 2018-07-25 16:34:00  6.352185e+18  6351558574044977929     17.0\n",
       "122661  122661   34.0    79                 Plac Inwalidów      44  Bronowice 2018-07-25 16:40:00  6.352185e+18  6351558574044977929     20.0\n",
       "122745  122745   40.0    83                     Urzędnicza      44  Bronowice 2018-07-25 16:42:00  6.352185e+18  6351558574044977929     21.0\n",
       "122811  122811   14.0    84                      Biprostal      44  Bronowice 2018-07-25 16:44:00  6.352185e+18  6351558574044977929     22.0\n",
       "122866  122866   34.0    88       Uniwersytet Pedagogiczny      44  Bronowice 2018-07-25 16:45:00  6.352185e+18  6351558574044977929     23.0\n",
       "122949  122949   20.0  1049                    Głowackiego      44  Bronowice 2018-07-25 16:47:00  6.352185e+18  6351558574044977929     24.0"
      ]
     },
     "execution_count": 8,
     "metadata": {},
     "output_type": "execute_result"
    }
   ],
   "source": [
    "# Example of a one trip\n",
    "df[df['trip_id']==6351558574044977929]"
   ]
  },
  {
   "cell_type": "code",
   "execution_count": 10,
   "id": "particular-opinion",
   "metadata": {},
   "outputs": [
    {
     "name": "stdout",
     "output_type": "stream",
     "text": [
      "Mean: 103.15544925880734\n",
      "max: 1181.0\n",
      "min: 0.0\n",
      "std: 75.71870286403883\n",
      "Q_1: 46.0\n",
      "Median: 91.0\n",
      "Q_3: 152.0\n",
      "Interquantile range: 106.0\n"
     ]
    },
    {
     "data": {
      "text/plain": [
       "(array([1.91935e+05, 1.06041e+05, 7.74500e+03, 1.65400e+03, 5.21000e+02,\n",
       "        1.55000e+02, 7.80000e+01, 2.10000e+01, 1.00000e+00, 1.00000e+00]),\n",
       " array([   0. ,  118.1,  236.2,  354.3,  472.4,  590.5,  708.6,  826.7,\n",
       "         944.8, 1062.9, 1181. ]),\n",
       " <BarContainer object of 10 artists>)"
      ]
     },
     "execution_count": 10,
     "metadata": {},
     "output_type": "execute_result"
    },
    {
     "data": {
      "image/png": "[encoded data removed]",
      "text/plain": [
       "<Figure size 2000x1000 with 2 Axes>"
      ]
     },
     "metadata": {},
     "output_type": "display_data"
    }
   ],
   "source": [
    "from scipy.stats import iqr\n",
    "delay = df['delay']\n",
    "print('Mean: {}'.format(np.mean(delay)))\n",
    "print('max: {}'.format(np.max(delay)))\n",
    "print('min: {}'.format(np.min(delay)))\n",
    "print('std: {}'.format(np.std(delay)))\n",
    "print('Q_1: {}'.format(np.quantile(delay, .25)))\n",
    "print('Median: {}'.format(np.quantile(delay, .50)))\n",
    "print('Q_3: {}'.format(np.quantile(delay, .75)))\n",
    "print('Interquantile range: {}'.format(iqr(delay)))\n",
    "\n",
    "fig, axes = plt.subplots(1,2, figsize=(20,10))\n",
    "axes[0].boxplot(delay)\n",
    "axes[1].hist(delay, bins=10)"
   ]
  },
  {
   "cell_type": "markdown",
   "id": "announced-latitude",
   "metadata": {},
   "source": [
    "### Dealing with features (`feature engineering`)"
   ]
  },
  {
   "cell_type": "markdown",
   "id": "interpreted-calculator",
   "metadata": {},
   "source": [
    "Krakow is one of the largest cities in Poland, which can result in streetcar delays caused by rush hour - when there are longer waits for public transportation.There are different dynamics during for example rush hour.\n",
    "\n",
    "A hypothesis arises to show the model directly what time it is. <strong> We pull this hour from `planned_time` - the variable tells us what time the planned tram ride was. </strong>\n",
    "\n",
    "Using `pd.to_datetime` we map planned_time to a datetime type, which allows us to work with dates more easily."
   ]
  },
  {
   "cell_type": "code",
   "execution_count": 11,
   "id": "88fb63ab",
   "metadata": {},
   "outputs": [],
   "source": [
    "df['planned_time'] = pd.to_datetime(df['planned_time'], format='%Y-%m-%d %H:%M:%S')\n",
    "\n",
    "df['minute'] = df['planned_time'].dt.minute\n",
    "df['hour'] = df['planned_time'].dt.hour\n",
    "df['day'] = df['planned_time'].dt.dayofweek\n",
    "df['month'] = df['planned_time'].dt.month\n",
    "\n",
    "df['rush_hours'] = df['hour'].apply(lambda x: 1 if (x > 5 and x < 10) | (x > 14 and x < 19) else 0)\n",
    "df['night_hours'] = df['hour'].apply(lambda x: 1 if (x < 6 or x > 21) else 0)\n",
    "df[\"is_weekend\"] = df['day'] > 4"
   ]
  },
  {
   "cell_type": "code",
   "execution_count": 72,
   "id": "86a6ca96",
   "metadata": {},
   "outputs": [
    {
     "name": "stdout",
     "output_type": "stream",
     "text": [
      "\n"
     ]
    }
   ],
   "source": [
    "def is_holiday(date):\n",
    "    if date.month == 7 or (date.month == 8 and date.day <= 31):\n",
    "        return 1\n",
    "    elif date.month == 12 and date.day == 25:\n",
    "        return 1\n",
    "    elif date == pd.to_datetime(datetime.strftime(date, '%Y')+pd.offsets.EasterSunday()):\n",
    "        return 1\n",
    "    elif date.month == 11 and date.day == 1:\n",
    "        return 1\n",
    "    else:\n",
    "        return 0\n",
    "\n",
    "df['is_holiday'] = df['planned_time'].apply(is_holiday)\n",
    "\n",
    "df['is_christmas'] = df['planned_time'].apply(lambda x: 1 if (x.month == 12 and x.day == 25) else 0)\n",
    "\n",
    "df['is_easter'] = df['planned_time'].apply(lambda x: 1 if x == pd.to_datetime(datetime.strftime(x, '%Y')+\\\n",
    "                                                                              pd.offsets.EasterSunday()) else 0)\n",
    "\n",
    "df['is_wszystkich_swietych'] = df['planned_time'].apply(lambda x: 1 if (x.month == 11 and x.day == 1) else 0)\n",
    "\n",
    "df['is_new_year'] = df['planned_time'].apply(lambda x: 1 if (x.month == 12 and x.day == 31) else 0)"
   ]
  },
  {
   "cell_type": "code",
   "execution_count": 12,
   "id": "a81bd478",
   "metadata": {},
   "outputs": [],
   "source": [
    "df['time_diff'] = df['planned_time'].diff()\n",
    "df['time_diff'] = df['time_diff'].dt.total_seconds()"
   ]
  },
  {
   "cell_type": "code",
   "execution_count": 13,
   "id": "be56327c",
   "metadata": {},
   "outputs": [],
   "source": [
    "df['high_seq_num'] = df['seq_num'].map(lambda x: x > 20)"
   ]
  },
  {
   "cell_type": "code",
   "execution_count": 14,
   "id": "prime-colony",
   "metadata": {},
   "outputs": [
    {
     "name": "stdout",
     "output_type": "stream",
     "text": [
      "8149\n"
     ]
    }
   ],
   "source": [
    "print(len(df['planned_time'].unique()))\n",
    "\n",
    "# planned_time columns is not needed any more\n",
    "#I used this column to extract every possible information \n",
    "#such as day, month, hour, minute and so on.\n",
    "\n",
    "df.drop('planned_time', axis=1, inplace=True)"
   ]
  },
  {
   "cell_type": "markdown",
   "id": "liked-context",
   "metadata": {},
   "source": [
    "##### Converting object columns into dummies columns"
   ]
  },
  {
   "cell_type": "code",
   "execution_count": 15,
   "id": "attractive-abuse",
   "metadata": {},
   "outputs": [
    {
     "name": "stdout",
     "output_type": "stream",
     "text": [
      "Columns with dtype other than numeric:  Index(['stop_name', 'direction'], dtype='object')\n"
     ]
    }
   ],
   "source": [
    "print('Columns with dtype other than numeric: ', df.select_dtypes('object').columns)"
   ]
  },
  {
   "cell_type": "code",
   "execution_count": 16,
   "id": "british-northeast",
   "metadata": {
    "scrolled": true
   },
   "outputs": [
    {
     "name": "stdout",
     "output_type": "stream",
     "text": [
      "Czerwone Maki P+R    36743\n",
      "Bronowice Małe       35937\n",
      "Krowodrza Górka      35372\n",
      "Nowy Bieżanów P+R    22648\n",
      "Wzgórza K.           22416\n",
      "Borek Fałęcki        18488\n",
      "Kurdwanów P+R        18293\n",
      "Os.Piastów           18169\n",
      "Salwator             16224\n",
      "Mistrzejowice        15089\n",
      "Mały Płaszów         13517\n",
      "Bronowice            10259\n",
      "Prokocim              9296\n",
      "Kopiec Wandy          7965\n",
      "Cichy Kącik           7480\n",
      "Walcownia             6276\n",
      "Łagiewniki            5410\n",
      "Dworzec Tow.          5393\n",
      "Cm. Rakowicki         1788\n",
      "Kombinat              1389\n",
      "Name: direction, dtype: int64 \n",
      "\n",
      "20\n"
     ]
    }
   ],
   "source": [
    "print(df['direction'].value_counts(), '\\n')\n",
    "print(len(df['direction'].unique()))\n",
    "\n",
    "direction = pd.get_dummies(df['direction'], prefix = 'direction', drop_first=True)\n",
    "df.drop('direction', axis=1, inplace=True)\n",
    "\n",
    "df = pd.concat([df,direction], axis=1)"
   ]
  },
  {
   "cell_type": "code",
   "execution_count": 17,
   "id": "understanding-evening",
   "metadata": {
    "scrolled": true
   },
   "outputs": [
    {
     "name": "stdout",
     "output_type": "stream",
     "text": [
      "Rondo Mogilskie                            6766\n",
      "Dworzec Główny                             6699\n",
      "Stradom                                    5062\n",
      "Rondo Grzegórzeckie                        5004\n",
      "Kabel                                      4800\n",
      "Starowiślna                                4755\n",
      "Rondo Czyżyńskie                           4516\n",
      "Bieżanowska                                4318\n",
      "Podgórze SKA                               4315\n",
      "Teatr Bagatela                             4289\n",
      "Stary Kleparz                              4131\n",
      "Poczta Główna                              4131\n",
      "Lubicz                                     4126\n",
      "Dworzec Towarowy                           3722\n",
      "Dworcowa                                   3674\n",
      "Filharmonia                                3592\n",
      "Korona                                     3571\n",
      "Cmentarz Podgórski                         3564\n",
      "Biprostal                                  3515\n",
      "Bratysławska                               3454\n",
      "Plac Wszystkich Świętych                   3445\n",
      "Urzędnicza                                 3425\n",
      "Uniwersytet Pedagogiczny                   3402\n",
      "Plac Inwalidów                             3378\n",
      "Rondo Kocmyrzowskie im. Ks. Gorzelanego    3338\n",
      "Wawel                                      3196\n",
      "Głowackiego                                3177\n",
      "Szpital Narutowicza                        3088\n",
      "TAURON Arena Kraków Wieczysta              3034\n",
      "Lipińskiego                                2968\n",
      "Centrum Kongresowe ICE                     2962\n",
      "Św.Gertrudy                                2944\n",
      "AWF                                        2925\n",
      "Cystersów                                  2910\n",
      "Batorego                                   2824\n",
      "Białucha                                   2783\n",
      "Czyżyny                                    2747\n",
      "Stella-Sawickiego                          2745\n",
      "Norymberska                                2720\n",
      "Grota-Roweckiego                           2680\n",
      "Politechnika                               2653\n",
      "Plac Bohaterów Getta                       2644\n",
      "Szwedzka                                   2638\n",
      "Wlotowa                                    2622\n",
      "Bronowice Wiadukt                          2622\n",
      "Słomiana                                   2621\n",
      "Kobierzyńska                               2616\n",
      "Chmieleniec                                2601\n",
      "Wesele                                     2593\n",
      "Kapelanka                                  2586\n",
      "Lipska                                     2579\n",
      "Orzeszkowej                                2578\n",
      "Kuklińskiego                               2551\n",
      "Ruczaj                                     2513\n",
      "Św.Wawrzyńca                               2488\n",
      "Kampus UJ                                  2485\n",
      "Bronowice                                  2467\n",
      "Rondo Matecznego                           2440\n",
      "Muzeum Lotnictwa                           2419\n",
      "Miodowa                                    2370\n",
      "Zabłocie                                   2294\n",
      "Gromadzka                                  2254\n",
      "Klimeckiego                                2225\n",
      "Plac Centralny im. R.Reagana               2208\n",
      "Smolki                                     2130\n",
      "DH Wanda                                   2081\n",
      "Rondo Hipokratesa                          2021\n",
      "Dworzec Główny Tunel                       2016\n",
      "Rzemieślnicza                              2015\n",
      "Os.Kolorowe                                1992\n",
      "Łagiewniki                                 1933\n",
      "Teligi                                     1892\n",
      "Hala Targowa                               1886\n",
      "Limanowskiego                              1886\n",
      "Dunikowskiego                              1872\n",
      "Plac Wolnica                               1835\n",
      "Ćwiklińskiej                               1835\n",
      "Salwator                                   1806\n",
      "Krowodrza Górka                            1797\n",
      "Nowy Prokocim                              1796\n",
      "Jubilat                                    1787\n",
      "Piaski Nowe                                1699\n",
      "Dworzec Płaszów Estakada                   1689\n",
      "Dauna                                      1675\n",
      "Teatr Variété                              1613\n",
      "Centralna                                  1590\n",
      "Ofiar Dąbia                                1564\n",
      "Dąbie                                      1559\n",
      "Bronowice Małe                             1557\n",
      "Czerwone Maki P+R                          1538\n",
      "M1 Al. Pokoju                              1519\n",
      "Darwina                                    1508\n",
      "Solvay                                     1458\n",
      "Rondo 308. Dywizjonu                       1455\n",
      "Nowosądecka                                1453\n",
      "TAURON Arena Kraków Al. Pokoju             1399\n",
      "Witosa                                     1371\n",
      "Struga                                     1361\n",
      "Rzebika                                    1348\n",
      "Teatr Ludowy                               1347\n",
      "Wiadukty                                   1340\n",
      "Jarzębiny                                  1318\n",
      "Francesco Nullo                            1314\n",
      "Prokocim Szpital                           1297\n",
      "Piasta Kołodzieja                          1290\n",
      "Plaza                                      1239\n",
      "Bieńczycka                                 1224\n",
      "Kombinat                                   1217\n",
      "Kleeberga                                  1199\n",
      "Fabryczna                                  1194\n",
      "Prokocim                                   1162\n",
      "Komorowskiego                              1134\n",
      "Wzgórza Krzesławickie                      1058\n",
      "Nowy Kleparz                               1042\n",
      "Muzeum Narodowe                             986\n",
      "Nowy Bieżanów P+R                           966\n",
      "Sanktuarium Bożego Miłosierdzia             960\n",
      "Wańkowicza                                  945\n",
      "Borsucza                                    898\n",
      "Oleandry                                    874\n",
      "Miśnieńska                                  855\n",
      "Rondo Piastowskie                           847\n",
      "Borek Fałęcki                               847\n",
      "Mały Płaszów                                838\n",
      "Borek Fałęcki I                             828\n",
      "Park Jordana                                781\n",
      "Pędzichów                                   703\n",
      "Os.Złotego Wieku                            693\n",
      "Os.Piastów                                  642\n",
      "Cichy Kącik                                 641\n",
      "Reymana                                     603\n",
      "Łagiewniki ZUS                              565\n",
      "Os.Zgody                                    510\n",
      "Zajezdnia Nowa Huta                         508\n",
      "Os.Na Skarpie                               500\n",
      "Dworzec Główny Zachód                       475\n",
      "Cmentarz Rakowicki                          456\n",
      "Uniwersytet Ekonomiczny                     441\n",
      "Klasztorna                                  436\n",
      "Cienista                                    424\n",
      "Brożka                                      413\n",
      "Mistrzejowice                               392\n",
      "Elektromontaż                               355\n",
      "Kurdwanów P+R                               291\n",
      "Suche Stawy                                 252\n",
      "Uniwersytet Jagielloński                    227\n",
      "Walcownia                                   189\n",
      "Blokowa                                     188\n",
      "Mrozowa                                     181\n",
      "Agencja Kraków Wschód                       149\n",
      "Rakowicka                                   109\n",
      "Bardosa                                      65\n",
      "Kopiec Wandy                                 45\n",
      "PH                                            1\n",
      "Name: stop_name, dtype: int64 \n",
      "\n",
      "154\n"
     ]
    }
   ],
   "source": [
    "print(df['stop_name'].value_counts(), '\\n')\n",
    "print(len(df['stop_name'].unique()))\n",
    "\n",
    "stop_name = pd.get_dummies(df['stop_name'], prefix = 'stop_name', drop_first=True)\n",
    "df.drop('stop_name', axis=1, inplace=True)"
   ]
  },
  {
   "cell_type": "markdown",
   "id": "unlike-burlington",
   "metadata": {},
   "source": [
    "## Dealing with NaN Values"
   ]
  },
  {
   "cell_type": "code",
   "execution_count": 18,
   "id": "ceramic-peripheral",
   "metadata": {},
   "outputs": [
    {
     "name": "stdout",
     "output_type": "stream",
     "text": [
      "['seq_num', 'time_diff']\n"
     ]
    },
    {
     "data": {
      "text/plain": [
       "<AxesSubplot:>"
      ]
     },
     "execution_count": 18,
     "metadata": {},
     "output_type": "execute_result"
    },
    {
     "data": {
      "image/png": "[encoded data removed]",
      "text/plain": [
       "<Figure size 2500x1000 with 2 Axes>"
      ]
     },
     "metadata": {},
     "output_type": "display_data"
    }
   ],
   "source": [
    "import missingno as msno\n",
    "\n",
    "print(df.columns[df.isna().any()].tolist())\n",
    "msno.matrix(df.sample(100), labels=True)"
   ]
  },
  {
   "cell_type": "code",
   "execution_count": 19,
   "id": "2bfe7597",
   "metadata": {},
   "outputs": [],
   "source": [
    "df['seq_num'] = df['seq_num'].interpolate()"
   ]
  },
  {
   "cell_type": "code",
   "execution_count": 21,
   "id": "97e8a904",
   "metadata": {},
   "outputs": [],
   "source": [
    "df['time_diff'] = df['time_diff'].fillna(0)"
   ]
  },
  {
   "cell_type": "code",
   "execution_count": 22,
   "id": "professional-continent",
   "metadata": {
    "scrolled": true
   },
   "outputs": [
    {
     "name": "stdout",
     "output_type": "stream",
     "text": [
      "[]\n",
      "<class 'pandas.core.frame.DataFrame'>\n",
      "Int64Index: 308152 entries, 0 to 308145\n",
      "Data columns (total 35 columns):\n",
      " #   Column                       Non-Null Count   Dtype  \n",
      "---  ------                       --------------   -----  \n",
      " 0   id                           308152 non-null  int64  \n",
      " 1   delay                        308152 non-null  float64\n",
      " 2   stop                         308152 non-null  int64  \n",
      " 3   number                       308152 non-null  int64  \n",
      " 4   vehicle_id                   308152 non-null  float64\n",
      " 5   trip_id                      308152 non-null  int64  \n",
      " 6   seq_num                      308152 non-null  float64\n",
      " 7   minute                       308152 non-null  int64  \n",
      " 8   hour                         308152 non-null  int64  \n",
      " 9   day                          308152 non-null  int64  \n",
      " 10  month                        308152 non-null  int64  \n",
      " 11  rush_hours                   308152 non-null  int64  \n",
      " 12  night_hours                  308152 non-null  int64  \n",
      " 13  is_weekend                   308152 non-null  bool   \n",
      " 14  time_diff                    308152 non-null  float64\n",
      " 15  high_seq_num                 308152 non-null  bool   \n",
      " 16  direction_Bronowice          308152 non-null  uint8  \n",
      " 17  direction_Bronowice Małe     308152 non-null  uint8  \n",
      " 18  direction_Cichy Kącik        308152 non-null  uint8  \n",
      " 19  direction_Cm. Rakowicki      308152 non-null  uint8  \n",
      " 20  direction_Czerwone Maki P+R  308152 non-null  uint8  \n",
      " 21  direction_Dworzec Tow.       308152 non-null  uint8  \n",
      " 22  direction_Kombinat           308152 non-null  uint8  \n",
      " 23  direction_Kopiec Wandy       308152 non-null  uint8  \n",
      " 24  direction_Krowodrza Górka    308152 non-null  uint8  \n",
      " 25  direction_Kurdwanów P+R      308152 non-null  uint8  \n",
      " 26  direction_Mały Płaszów       308152 non-null  uint8  \n",
      " 27  direction_Mistrzejowice      308152 non-null  uint8  \n",
      " 28  direction_Nowy Bieżanów P+R  308152 non-null  uint8  \n",
      " 29  direction_Os.Piastów         308152 non-null  uint8  \n",
      " 30  direction_Prokocim           308152 non-null  uint8  \n",
      " 31  direction_Salwator           308152 non-null  uint8  \n",
      " 32  direction_Walcownia          308152 non-null  uint8  \n",
      " 33  direction_Wzgórza K.         308152 non-null  uint8  \n",
      " 34  direction_Łagiewniki         308152 non-null  uint8  \n",
      "dtypes: bool(2), float64(4), int64(10), uint8(19)\n",
      "memory usage: 49.5 MB\n",
      "None\n"
     ]
    }
   ],
   "source": [
    "print(df.columns[df.isna().any()].tolist())\n",
    "print(df.info())"
   ]
  },
  {
   "cell_type": "markdown",
   "id": "christian-checkout",
   "metadata": {},
   "source": [
    "## Select features\n",
    "\n",
    "In addition, we can ignore some features, because if you check them more carefully, it turns out that they do not contribute much."
   ]
  },
  {
   "cell_type": "code",
   "execution_count": 25,
   "id": "initial-siemens",
   "metadata": {},
   "outputs": [],
   "source": [
    "numeric_cols = df.select_dtypes(include=['int64', 'float64']).columns.tolist()\n",
    "df_numeric = df[numeric_cols]\n",
    "\n",
    "X, y = df_numeric.drop('delay', axis=1), df['delay']"
   ]
  },
  {
   "cell_type": "code",
   "execution_count": 28,
   "id": "fc836dbf",
   "metadata": {},
   "outputs": [],
   "source": [
    "from sklearn.model_selection import train_test_split\n",
    "\n",
    "X_train, X_test, y_train, y_test = train_test_split(X, y, test_size=0.2, random_state=1)\n",
    "\n",
    "X_train, X_val, y_train, y_val = train_test_split(X_train, y_train,\\\n",
    "                                                  test_size=0.25, random_state=1) # 0.25 x 0.8 = 0.2"
   ]
  },
  {
   "cell_type": "markdown",
   "id": "described-fireplace",
   "metadata": {},
   "source": [
    "## Building the model"
   ]
  },
  {
   "cell_type": "markdown",
   "id": "athletic-bride",
   "metadata": {},
   "source": [
    "<strong>Due to the large amount of data/records, most of the models available in scikit-learn will not be able to learn the model!</strong> For that, we can still use the capabilities of the XGBoost library."
   ]
  },
  {
   "cell_type": "markdown",
   "id": "9a406800",
   "metadata": {},
   "source": [
    "##### Creating first models"
   ]
  },
  {
   "cell_type": "code",
   "execution_count": 60,
   "id": "8d3b1ee5",
   "metadata": {},
   "outputs": [
    {
     "name": "stdout",
     "output_type": "stream",
     "text": [
      "RMSE on train dataset: 69.7253791109406895\n",
      "RMSE on test dataset: 74.285308148311886\n",
      "RMSE on val dataset: 76.537918148109426\n"
     ]
    }
   ],
   "source": [
    "from sklearn.tree import DecisionTreeRegressor\n",
    "\n",
    "dt = DecisionTreeRegressor()\n",
    "dt.fit(X_train, y_train)\n",
    "\n",
    "y_pred_train = dt.predict(X_train)\n",
    "y_pred_test = dt.predict(X_test)\n",
    "y_pred_val = dt.predict(X_val)\n",
    "\n",
    "print('RMSE on train dataset: {}'.format(mean_squared_error(y_train,y_pred_train, squared=False)))\n",
    "print('RMSE on test dataset: {}'.format(mean_squared_error(y_test,y_pred_test, squared=False)))\n",
    "print('RMSE on val dataset: {}'.format(mean_squared_error(y_val,y_pred_val, squared=False)))"
   ]
  },
  {
   "cell_type": "code",
   "execution_count": 62,
   "id": "6959835f",
   "metadata": {},
   "outputs": [
    {
     "name": "stdout",
     "output_type": "stream",
     "text": [
      "RMSE on train dataset: 66.1425802693403796\n",
      "RMSE on test dataset: 73.419064559111888\n",
      "RMSE on val dataset: 77.284258148309486\n"
     ]
    }
   ],
   "source": [
    "from sklearn.ensemble import RandomForestRegressor\n",
    "\n",
    "rfr = RandomForestRegressor()\n",
    "rfr.fit(X_train, y_train)\n",
    "\n",
    "y_pred_train = rfr.predict(X_train)\n",
    "y_pred_test = rfr.predict(X_test)\n",
    "y_pred_val = rfr.predict(X_val)\n",
    "\n",
    "print('RMSE on train dataset: {}'.format(mean_squared_error(y_train,y_pred_train, squared=False)))\n",
    "print('RMSE on test dataset: {}'.format(mean_squared_error(y_test,y_pred_test, squared=False)))\n",
    "print('RMSE on val dataset: {}'.format(mean_squared_error(y_val,y_pred_val, squared=False)))"
   ]
  },
  {
   "cell_type": "code",
   "execution_count": 63,
   "id": "bd531ada",
   "metadata": {},
   "outputs": [
    {
     "name": "stdout",
     "output_type": "stream",
     "text": [
      "RMSE on train dataset: 64.1749234905406895\n",
      "RMSE on test dataset: 77.092853506511886\n",
      "RMSE on val dataset: 79.2379814832693803\n"
     ]
    }
   ],
   "source": [
    "from sklearn.ensemble import BaggingRegressor\n",
    "\n",
    "br = BaggingRegressor(base_estimator=tr,\n",
    "                     oob_score=True #scoring on unused values\n",
    "                     )\n",
    "\n",
    "br.fit(X_train,y_train)\n",
    "\n",
    "y_pred_train = br.predict(X_train)\n",
    "y_pred_test = br.predict(X_test)\n",
    "y_pred_val = br.predict(X_val)\n",
    "\n",
    "print('RMSE on train dataset: {}'.format(mean_squared_error(y_train,y_pred_train, squared=False)))\n",
    "print('RMSE on test dataset: {}'.format(mean_squared_error(y_test,y_pred_test, squared=False)))\n",
    "print('RMSE on val dataset: {}'.format(mean_squared_error(y_val,y_pred_val, squared=False)))"
   ]
  },
  {
   "cell_type": "code",
   "execution_count": 70,
   "id": "e81e7bb9",
   "metadata": {},
   "outputs": [
    {
     "name": "stdout",
     "output_type": "stream",
     "text": [
      "RMSE on train dataset: 51.801767327665566\n",
      "RMSE on test dataset: 52.79320504642763\n",
      "RMSE on val dataset: 53.84402422466259\n"
     ]
    }
   ],
   "source": [
    "from sklearn.ensemble import GradientBoostingRegressor\n",
    "\n",
    "gradient_r = GradientBoostingRegressor()\n",
    "\n",
    "gradient_r.fit(X_train,y_train)\n",
    "\n",
    "y_pred_train = gradient_r.predict(X_train)\n",
    "y_pred_test = gradient_r.predict(X_test)\n",
    "y_pred_val = gradient_r.predict(X_val)\n",
    "\n",
    "print('RMSE on train dataset: {}'.format(mean_squared_error(y_train,y_pred_train, squared=False)))\n",
    "print('RMSE on test dataset: {}'.format(mean_squared_error(y_test,y_pred_test, squared=False)))\n",
    "print('RMSE on val dataset: {}'.format(mean_squared_error(y_val,y_pred_val, squared=False)))"
   ]
  },
  {
   "cell_type": "code",
   "execution_count": 65,
   "id": "bdef6622",
   "metadata": {},
   "outputs": [
    {
     "name": "stdout",
     "output_type": "stream",
     "text": [
      "RMSE on train dataset: 46.967036084927784\n",
      "RMSE on test dataset: 48.327359791570004\n",
      "RMSE on val dataset: 50.28530670314252\n"
     ]
    }
   ],
   "source": [
    "import xgboost as xgb\n",
    "\n",
    "xgb_model = xgb.XGBRegressor()\n",
    "xgb_model.fit(X_train, y_train)\n",
    "\n",
    "y_pred_train = xgb_model.predict(X_train)\n",
    "y_pred_test = xgb_model.predict(X_test)\n",
    "y_pred_val = xgb_model.predict(X_val)\n",
    "\n",
    "print('RMSE on train dataset: {}'.format(mean_squared_error(y_train,y_pred_train, squared=False)))\n",
    "print('RMSE on test dataset: {}'.format(mean_squared_error(y_test,y_pred_test, squared=False)))\n",
    "print('RMSE on val dataset: {}'.format(mean_squared_error(y_val,y_pred_val, squared=False)))"
   ]
  },
  {
   "cell_type": "markdown",
   "id": "married-process",
   "metadata": {},
   "source": [
    "##### Hyperparameter tuning on the XGBRegressor"
   ]
  },
  {
   "cell_type": "code",
   "execution_count": 38,
   "id": "opposed-edgar",
   "metadata": {},
   "outputs": [],
   "source": [
    "from sklearn.model_selection import RandomizedSearchCV, KFold\n",
    "\n",
    "kf = KFold(n_splits=10, shuffle=True, random_state=123)\n",
    "\n",
    "params_xgbr = {'gamma': np.linspace(0.3,0.6,7),\n",
    "              'learning_rate': np.linspace(0.1,0.3,8),\n",
    "              'max_depth': [5,6,7,8],\n",
    "              'n_estimators': np.arange(85,110,5),\n",
    "              'reg_alpha': np.linspace(0.6,0.9,6),\n",
    "              'reg_lambda': np.linspace(0.7,0.9,6)}"
   ]
  },
  {
   "cell_type": "code",
   "execution_count": 67,
   "id": "7c0d91c6",
   "metadata": {},
   "outputs": [
    {
     "name": "stdout",
     "output_type": "stream",
     "text": [
      "Best params: {'reg_lambda': 0.8200000000000001, 'reg_alpha': 0.9, 'n_estimators': 85, 'max_depth': 8, 'learning_rate': 0.1, 'gamma': 0.5499999999999999}\n",
      "RMSE on train dataset: 34.967036084927784\n",
      "RMSE on test dataset: 38.327359791570004\n",
      "RMSE on val dataset: 37.747008148393401\n"
     ]
    }
   ],
   "source": [
    "xgbr = xgb.XGBRegressor()\n",
    "\n",
    "xgbr_rs = RandomizedSearchCV(xgbr, params_xgbr, cv=kf, n_jobs=-1)\n",
    "xgbr_rs.fit(X_train,y_train)\n",
    "\n",
    "y_pred_train = xgb_model.predict(X_train)\n",
    "y_pred_test = xgb_model.predict(X_test)\n",
    "y_pred_val = xgb_model.predict(X_val)\n",
    "\n",
    "print('Best params: ', xgbr_rs.best_params_)\n",
    "print('RMSE on train dataset: {}'.format(mean_squared_error(y_train,y_pred_train, squared=False)))\n",
    "print('RMSE on test dataset: {}'.format(mean_squared_error(y_test,y_pred_test, squared=False)))\n",
    "print('RMSE on val dataset: {}'.format(mean_squared_error(y_val,y_pred_val, squared=False)))"
   ]
  },
  {
   "cell_type": "markdown",
   "id": "italic-victoria",
   "metadata": {},
   "source": [
    "##### Cross validation on the XGBRegressor"
   ]
  },
  {
   "cell_type": "code",
   "execution_count": 68,
   "id": "51ad679c",
   "metadata": {},
   "outputs": [
    {
     "name": "stdout",
     "output_type": "stream",
     "text": [
      "mean of cross validation: 38.462089456203035\n",
      "std of cross validation: 0.06042392804400001\n"
     ]
    }
   ],
   "source": [
    "from sklearn.model_selection import cross_val_score\n",
    "\n",
    "xgbr_hp = xgbr_rs.best_estimator_ \n",
    "\n",
    "scores = cross_val_score(xgbr_hp, X_train, y_train, cv=40, scoring=\"neg_mean_squared_error\")\n",
    "\n",
    "print('mean of cross validation: {}'.format(np.sqrt(-scores.mean())))\n",
    "print('std of cross validation: {}'.format(scores.std()))"
   ]
  },
  {
   "cell_type": "markdown",
   "id": "c9148e1b",
   "metadata": {},
   "source": [
    "##### Save model"
   ]
  },
  {
   "cell_type": "code",
   "execution_count": 69,
   "id": "a320d339",
   "metadata": {},
   "outputs": [],
   "source": [
    "import pickle\n",
    "file_name = \"xgbr_hp.pkl\"\n",
    "\n",
    "# save\n",
    "pickle.dump(xgbr_hp, open(file_name, \"wb\"))\n",
    "\n",
    "# load\n",
    "xgb_model_loaded = pickle.load(open(file_name, \"rb\"))"
   ]
  }
 ],
 "metadata": {
  "kernelspec": {
   "display_name": "Python 3 (ipykernel)",
   "language": "python",
   "name": "python3"
  },
  "language_info": {
   "codemirror_mode": {
    "name": "ipython",
    "version": 3
   },
   "file_extension": ".py",
   "mimetype": "text/x-python",
   "name": "python",
   "nbconvert_exporter": "python",
   "pygments_lexer": "ipython3",
   "version": "3.9.13"
  }
 },
 "nbformat": 4,
 "nbformat_minor": 5
}
