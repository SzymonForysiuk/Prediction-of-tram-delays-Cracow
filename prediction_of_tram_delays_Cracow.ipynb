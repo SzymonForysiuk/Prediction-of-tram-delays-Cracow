{
 "cells": [
  {
   "cell_type": "markdown",
   "id": "empty-reggae",
   "metadata": {},
   "source": [
    "# Prediction of tram delays in Cracow"
   ]
  },
  {
   "cell_type": "code",
   "execution_count": 1,
   "id": "fitting-parade",
   "metadata": {},
   "outputs": [
    {
     "name": "stderr",
     "output_type": "stream",
     "text": [
      "2023-04-03 23:22:17.389850: I tensorflow/core/platform/cpu_feature_guard.cc:193] This TensorFlow binary is optimized with oneAPI Deep Neural Network Library (oneDNN) to use the following CPU instructions in performance-critical operations:  AVX2 FMA\n",
      "To enable them in other operations, rebuild TensorFlow with the appropriate compiler flags.\n",
      "2023-04-03 23:22:17.658413: W tensorflow/compiler/xla/stream_executor/platform/default/dso_loader.cc:64] Could not load dynamic library 'libcudart.so.11.0'; dlerror: libcudart.so.11.0: cannot open shared object file: No such file or directory\n",
      "2023-04-03 23:22:17.658437: I tensorflow/compiler/xla/stream_executor/cuda/cudart_stub.cc:29] Ignore above cudart dlerror if you do not have a GPU set up on your machine.\n",
      "2023-04-03 23:22:18.674550: W tensorflow/compiler/xla/stream_executor/platform/default/dso_loader.cc:64] Could not load dynamic library 'libnvinfer.so.7'; dlerror: libnvinfer.so.7: cannot open shared object file: No such file or directory\n",
      "2023-04-03 23:22:18.674676: W tensorflow/compiler/xla/stream_executor/platform/default/dso_loader.cc:64] Could not load dynamic library 'libnvinfer_plugin.so.7'; dlerror: libnvinfer_plugin.so.7: cannot open shared object file: No such file or directory\n",
      "2023-04-03 23:22:18.674689: W tensorflow/compiler/tf2tensorrt/utils/py_utils.cc:38] TF-TRT Warning: Cannot dlopen some TensorRT libraries. If you would like to use Nvidia GPU with TensorRT, please make sure the missing libraries mentioned above are installed properly.\n"
     ]
    }
   ],
   "source": [
    "import pandas as pd\n",
    "import numpy as np\n",
    "import matplotlib.pyplot as plt\n",
    "import seaborn as sns\n",
    "np.random.seed(0)\n",
    "\n",
    "from sklearn.metrics import mean_absolute_error\n",
    "from sklearn.model_selection import cross_val_score\n",
    "\n",
    "import xgboost as xgb\n",
    "\n",
    "import eli5\n",
    "import warnings\n",
    "warnings.filterwarnings('ignore')\n",
    "\n",
    "pd.set_option('display.max_rows', 1000)\n",
    "pd.set_option('display.max_columns', 1000)\n",
    "pd.set_option('display.width', 1000)"
   ]
  },
  {
   "cell_type": "code",
   "execution_count": 3,
   "id": "standing-radical",
   "metadata": {
    "ExecuteTime": {
     "end_time": "2021-10-30T17:17:21.704820Z",
     "start_time": "2021-10-30T17:17:19.902476Z"
    }
   },
   "outputs": [
    {
     "name": "stdout",
     "output_type": "stream",
     "text": [
      "(175986, 11) (132166, 9)\n"
     ]
    }
   ],
   "source": [
    "df_1 = pd.read_hdf('tram.train.h5')\n",
    "df_2 = pd.read_hdf('tram.test.h5')\n",
    "\n",
    "print(df_1.shape, df_2.shape)"
   ]
  },
  {
   "cell_type": "markdown",
   "id": "sustained-ethics",
   "metadata": {},
   "source": [
    "## Concat datasets and leaving delay columns separated\n",
    "\n",
    "Concatting `df_train` with ` df_test` and signing it to `df`."
   ]
  },
  {
   "cell_type": "code",
   "execution_count": 6,
   "id": "powered-horizon",
   "metadata": {},
   "outputs": [
    {
     "data": {
      "text/plain": [
       "0           0\n",
       "1           0\n",
       "2           0\n",
       "3           0\n",
       "4           0\n",
       "         ... \n",
       "308147      0\n",
       "308148    660\n",
       "308149    660\n",
       "308150    660\n",
       "308151    660\n",
       "Name: delay, Length: 175986, dtype: int64"
      ]
     },
     "execution_count": 6,
     "metadata": {},
     "output_type": "execute_result"
    }
   ],
   "source": [
    "delay = df_1['delay']\n",
    "#df_train.drop('delay', axis=1, inplace=True) #Leaving y label - delay unchanged\n",
    "delay"
   ]
  },
  {
   "cell_type": "code",
   "execution_count": 7,
   "id": "documentary-tension",
   "metadata": {
    "ExecuteTime": {
     "end_time": "2021-10-30T17:17:22.336441Z",
     "start_time": "2021-10-30T17:17:21.806489Z"
    },
    "scrolled": true
   },
   "outputs": [
    {
     "data": {
      "text/plain": [
       "(308152, 11)"
      ]
     },
     "execution_count": 7,
     "metadata": {},
     "output_type": "execute_result"
    }
   ],
   "source": [
    "df = pd.concat([df_1, df_2])\n",
    "df.shape"
   ]
  },
  {
   "cell_type": "code",
   "execution_count": 9,
   "id": "5481d5c0",
   "metadata": {},
   "outputs": [
    {
     "data": {
      "text/html": [
       "<div>\n",
       "<style scoped>\n",
       "    .dataframe tbody tr th:only-of-type {\n",
       "        vertical-align: middle;\n",
       "    }\n",
       "\n",
       "    .dataframe tbody tr th {\n",
       "        vertical-align: top;\n",
       "    }\n",
       "\n",
       "    .dataframe thead th {\n",
       "        text-align: right;\n",
       "    }\n",
       "</style>\n",
       "<table border=\"1\" class=\"dataframe\">\n",
       "  <thead>\n",
       "    <tr style=\"text-align: right;\">\n",
       "      <th></th>\n",
       "      <th>id</th>\n",
       "      <th>delay</th>\n",
       "      <th>datetime</th>\n",
       "      <th>stop</th>\n",
       "      <th>stop_name</th>\n",
       "      <th>number</th>\n",
       "      <th>direction</th>\n",
       "      <th>planned_time</th>\n",
       "      <th>vehicle_id</th>\n",
       "      <th>trip_id</th>\n",
       "      <th>seq_num</th>\n",
       "    </tr>\n",
       "  </thead>\n",
       "  <tbody>\n",
       "    <tr>\n",
       "      <th>12595</th>\n",
       "      <td>12595</td>\n",
       "      <td>120.0</td>\n",
       "      <td>2018-07-23 10:22:19</td>\n",
       "      <td>78</td>\n",
       "      <td>Batorego</td>\n",
       "      <td>24</td>\n",
       "      <td>Bronowice Małe</td>\n",
       "      <td>2018-07-23 10:20:00</td>\n",
       "      <td>6.352185e+18</td>\n",
       "      <td>6351558574044961030</td>\n",
       "      <td>19.0</td>\n",
       "    </tr>\n",
       "    <tr>\n",
       "      <th>249810</th>\n",
       "      <td>249810</td>\n",
       "      <td>180.0</td>\n",
       "      <td>2018-07-30 16:58:07</td>\n",
       "      <td>570</td>\n",
       "      <td>Plac Bohaterów Getta</td>\n",
       "      <td>24</td>\n",
       "      <td>Kurdwanów P+R</td>\n",
       "      <td>2018-07-30 16:52:00</td>\n",
       "      <td>6.352185e+18</td>\n",
       "      <td>6351558574044930061</td>\n",
       "      <td>18.0</td>\n",
       "    </tr>\n",
       "    <tr>\n",
       "      <th>16951</th>\n",
       "      <td>16951</td>\n",
       "      <td>60.0</td>\n",
       "      <td>2018-07-23 11:59:25</td>\n",
       "      <td>61</td>\n",
       "      <td>Bratysławska</td>\n",
       "      <td>50</td>\n",
       "      <td>Krowodrza Górka</td>\n",
       "      <td>2018-07-23 11:58:00</td>\n",
       "      <td>6.352185e+18</td>\n",
       "      <td>6351558574044997900</td>\n",
       "      <td>17.0</td>\n",
       "    </tr>\n",
       "    <tr>\n",
       "      <th>205483</th>\n",
       "      <td>205483</td>\n",
       "      <td>0.0</td>\n",
       "      <td>2018-07-27 16:24:59</td>\n",
       "      <td>126</td>\n",
       "      <td>Lubicz</td>\n",
       "      <td>52</td>\n",
       "      <td>Czerwone Maki P+R</td>\n",
       "      <td>2018-07-27 16:24:00</td>\n",
       "      <td>6.352185e+18</td>\n",
       "      <td>6351558574046891274</td>\n",
       "      <td>18.0</td>\n",
       "    </tr>\n",
       "    <tr>\n",
       "      <th>99036</th>\n",
       "      <td>99036</td>\n",
       "      <td>0.0</td>\n",
       "      <td>2018-07-25 07:40:38</td>\n",
       "      <td>2539</td>\n",
       "      <td>Rondo Hipokratesa</td>\n",
       "      <td>14</td>\n",
       "      <td>Bronowice Małe</td>\n",
       "      <td>2018-07-25 07:40:00</td>\n",
       "      <td>6.352185e+18</td>\n",
       "      <td>6351558574044723972</td>\n",
       "      <td>6.0</td>\n",
       "    </tr>\n",
       "  </tbody>\n",
       "</table>\n",
       "</div>"
      ],
      "text/plain": [
       "            id  delay            datetime  stop             stop_name  number          direction        planned_time    vehicle_id              trip_id  seq_num\n",
       "12595    12595  120.0 2018-07-23 10:22:19    78              Batorego      24     Bronowice Małe 2018-07-23 10:20:00  6.352185e+18  6351558574044961030     19.0\n",
       "249810  249810  180.0 2018-07-30 16:58:07   570  Plac Bohaterów Getta      24      Kurdwanów P+R 2018-07-30 16:52:00  6.352185e+18  6351558574044930061     18.0\n",
       "16951    16951   60.0 2018-07-23 11:59:25    61          Bratysławska      50    Krowodrza Górka 2018-07-23 11:58:00  6.352185e+18  6351558574044997900     17.0\n",
       "205483  205483    0.0 2018-07-27 16:24:59   126                Lubicz      52  Czerwone Maki P+R 2018-07-27 16:24:00  6.352185e+18  6351558574046891274     18.0\n",
       "99036    99036    0.0 2018-07-25 07:40:38  2539     Rondo Hipokratesa      14     Bronowice Małe 2018-07-25 07:40:00  6.352185e+18  6351558574044723972      6.0"
      ]
     },
     "execution_count": 9,
     "metadata": {},
     "output_type": "execute_result"
    }
   ],
   "source": [
    "df.sample(5)"
   ]
  },
  {
   "cell_type": "code",
   "execution_count": 10,
   "id": "0e0c7d39",
   "metadata": {},
   "outputs": [
    {
     "data": {
      "text/html": [
       "<div>\n",
       "<style scoped>\n",
       "    .dataframe tbody tr th:only-of-type {\n",
       "        vertical-align: middle;\n",
       "    }\n",
       "\n",
       "    .dataframe tbody tr th {\n",
       "        vertical-align: top;\n",
       "    }\n",
       "\n",
       "    .dataframe thead th {\n",
       "        text-align: right;\n",
       "    }\n",
       "</style>\n",
       "<table border=\"1\" class=\"dataframe\">\n",
       "  <thead>\n",
       "    <tr style=\"text-align: right;\">\n",
       "      <th></th>\n",
       "      <th>id</th>\n",
       "      <th>delay</th>\n",
       "      <th>datetime</th>\n",
       "      <th>stop</th>\n",
       "      <th>stop_name</th>\n",
       "      <th>number</th>\n",
       "      <th>direction</th>\n",
       "      <th>planned_time</th>\n",
       "      <th>vehicle_id</th>\n",
       "      <th>trip_id</th>\n",
       "      <th>seq_num</th>\n",
       "    </tr>\n",
       "  </thead>\n",
       "  <tbody>\n",
       "    <tr>\n",
       "      <th>120757</th>\n",
       "      <td>120757</td>\n",
       "      <td>0.0</td>\n",
       "      <td>2018-07-25 15:56:56</td>\n",
       "      <td>450</td>\n",
       "      <td>Kopiec Wandy</td>\n",
       "      <td>44</td>\n",
       "      <td>Bronowice</td>\n",
       "      <td>2018-07-25 15:58:00</td>\n",
       "      <td>6.352185e+18</td>\n",
       "      <td>6351558574044977929</td>\n",
       "      <td>1.0</td>\n",
       "    </tr>\n",
       "    <tr>\n",
       "      <th>121014</th>\n",
       "      <td>121014</td>\n",
       "      <td>60.0</td>\n",
       "      <td>2018-07-25 16:02:42</td>\n",
       "      <td>459</td>\n",
       "      <td>Kombinat</td>\n",
       "      <td>44</td>\n",
       "      <td>Bronowice</td>\n",
       "      <td>2018-07-25 16:01:00</td>\n",
       "      <td>6.352185e+18</td>\n",
       "      <td>6351558574044977929</td>\n",
       "      <td>2.0</td>\n",
       "    </tr>\n",
       "    <tr>\n",
       "      <th>121235</th>\n",
       "      <td>121235</td>\n",
       "      <td>60.0</td>\n",
       "      <td>2018-07-25 16:08:05</td>\n",
       "      <td>423</td>\n",
       "      <td>Struga</td>\n",
       "      <td>44</td>\n",
       "      <td>Bronowice</td>\n",
       "      <td>2018-07-25 16:07:00</td>\n",
       "      <td>6.352185e+18</td>\n",
       "      <td>6351558574044977929</td>\n",
       "      <td>3.0</td>\n",
       "    </tr>\n",
       "    <tr>\n",
       "      <th>121415</th>\n",
       "      <td>121415</td>\n",
       "      <td>60.0</td>\n",
       "      <td>2018-07-25 16:12:07</td>\n",
       "      <td>2744</td>\n",
       "      <td>Plac Centralny im. R.Reagana</td>\n",
       "      <td>44</td>\n",
       "      <td>Bronowice</td>\n",
       "      <td>2018-07-25 16:11:00</td>\n",
       "      <td>6.352185e+18</td>\n",
       "      <td>6351558574044977929</td>\n",
       "      <td>4.0</td>\n",
       "    </tr>\n",
       "    <tr>\n",
       "      <th>121475</th>\n",
       "      <td>121475</td>\n",
       "      <td>60.0</td>\n",
       "      <td>2018-07-25 16:13:23</td>\n",
       "      <td>413</td>\n",
       "      <td>Os.Kolorowe</td>\n",
       "      <td>44</td>\n",
       "      <td>Bronowice</td>\n",
       "      <td>2018-07-25 16:12:00</td>\n",
       "      <td>6.352185e+18</td>\n",
       "      <td>6351558574044977929</td>\n",
       "      <td>5.0</td>\n",
       "    </tr>\n",
       "    <tr>\n",
       "      <th>121606</th>\n",
       "      <td>121606</td>\n",
       "      <td>0.0</td>\n",
       "      <td>2018-07-25 16:16:21</td>\n",
       "      <td>408</td>\n",
       "      <td>Rondo Czyżyńskie</td>\n",
       "      <td>44</td>\n",
       "      <td>Bronowice</td>\n",
       "      <td>2018-07-25 16:16:00</td>\n",
       "      <td>6.352185e+18</td>\n",
       "      <td>6351558574044977929</td>\n",
       "      <td>6.0</td>\n",
       "    </tr>\n",
       "    <tr>\n",
       "      <th>121711</th>\n",
       "      <td>121711</td>\n",
       "      <td>0.0</td>\n",
       "      <td>2018-07-25 16:18:29</td>\n",
       "      <td>112</td>\n",
       "      <td>Stella-Sawickiego</td>\n",
       "      <td>44</td>\n",
       "      <td>Bronowice</td>\n",
       "      <td>2018-07-25 16:18:00</td>\n",
       "      <td>6.352185e+18</td>\n",
       "      <td>6351558574044977929</td>\n",
       "      <td>8.0</td>\n",
       "    </tr>\n",
       "    <tr>\n",
       "      <th>121815</th>\n",
       "      <td>121815</td>\n",
       "      <td>60.0</td>\n",
       "      <td>2018-07-25 16:21:13</td>\n",
       "      <td>2811</td>\n",
       "      <td>Muzeum Lotnictwa</td>\n",
       "      <td>44</td>\n",
       "      <td>Bronowice</td>\n",
       "      <td>2018-07-25 16:20:00</td>\n",
       "      <td>6.352185e+18</td>\n",
       "      <td>6351558574044977929</td>\n",
       "      <td>10.0</td>\n",
       "    </tr>\n",
       "    <tr>\n",
       "      <th>121889</th>\n",
       "      <td>121889</td>\n",
       "      <td>0.0</td>\n",
       "      <td>2018-07-25 16:22:52</td>\n",
       "      <td>3040</td>\n",
       "      <td>TAURON Arena Kraków Wieczysta</td>\n",
       "      <td>44</td>\n",
       "      <td>Bronowice</td>\n",
       "      <td>2018-07-25 16:23:00</td>\n",
       "      <td>6.352185e+18</td>\n",
       "      <td>6351558574044977929</td>\n",
       "      <td>11.0</td>\n",
       "    </tr>\n",
       "    <tr>\n",
       "      <th>121946</th>\n",
       "      <td>121946</td>\n",
       "      <td>0.0</td>\n",
       "      <td>2018-07-25 16:24:09</td>\n",
       "      <td>130</td>\n",
       "      <td>Białucha</td>\n",
       "      <td>44</td>\n",
       "      <td>Bronowice</td>\n",
       "      <td>2018-07-25 16:24:00</td>\n",
       "      <td>6.352185e+18</td>\n",
       "      <td>6351558574044977929</td>\n",
       "      <td>12.0</td>\n",
       "    </tr>\n",
       "    <tr>\n",
       "      <th>122017</th>\n",
       "      <td>122017</td>\n",
       "      <td>0.0</td>\n",
       "      <td>2018-07-25 16:25:50</td>\n",
       "      <td>129</td>\n",
       "      <td>Cystersów</td>\n",
       "      <td>44</td>\n",
       "      <td>Bronowice</td>\n",
       "      <td>2018-07-25 16:26:00</td>\n",
       "      <td>6.352185e+18</td>\n",
       "      <td>6351558574044977929</td>\n",
       "      <td>13.0</td>\n",
       "    </tr>\n",
       "    <tr>\n",
       "      <th>122203</th>\n",
       "      <td>122203</td>\n",
       "      <td>0.0</td>\n",
       "      <td>2018-07-25 16:30:16</td>\n",
       "      <td>126</td>\n",
       "      <td>Lubicz</td>\n",
       "      <td>44</td>\n",
       "      <td>Bronowice</td>\n",
       "      <td>2018-07-25 16:30:00</td>\n",
       "      <td>6.352185e+18</td>\n",
       "      <td>6351558574044977929</td>\n",
       "      <td>15.0</td>\n",
       "    </tr>\n",
       "    <tr>\n",
       "      <th>122320</th>\n",
       "      <td>122320</td>\n",
       "      <td>0.0</td>\n",
       "      <td>2018-07-25 16:32:58</td>\n",
       "      <td>131</td>\n",
       "      <td>Dworzec Główny</td>\n",
       "      <td>44</td>\n",
       "      <td>Bronowice</td>\n",
       "      <td>2018-07-25 16:32:00</td>\n",
       "      <td>6.352185e+18</td>\n",
       "      <td>6351558574044977929</td>\n",
       "      <td>16.0</td>\n",
       "    </tr>\n",
       "    <tr>\n",
       "      <th>122389</th>\n",
       "      <td>122389</td>\n",
       "      <td>0.0</td>\n",
       "      <td>2018-07-25 16:34:42</td>\n",
       "      <td>3032</td>\n",
       "      <td>Stary Kleparz</td>\n",
       "      <td>44</td>\n",
       "      <td>Bronowice</td>\n",
       "      <td>2018-07-25 16:34:00</td>\n",
       "      <td>6.352185e+18</td>\n",
       "      <td>6351558574044977929</td>\n",
       "      <td>17.0</td>\n",
       "    </tr>\n",
       "    <tr>\n",
       "      <th>122661</th>\n",
       "      <td>122661</td>\n",
       "      <td>0.0</td>\n",
       "      <td>2018-07-25 16:40:34</td>\n",
       "      <td>79</td>\n",
       "      <td>Plac Inwalidów</td>\n",
       "      <td>44</td>\n",
       "      <td>Bronowice</td>\n",
       "      <td>2018-07-25 16:40:00</td>\n",
       "      <td>6.352185e+18</td>\n",
       "      <td>6351558574044977929</td>\n",
       "      <td>20.0</td>\n",
       "    </tr>\n",
       "    <tr>\n",
       "      <th>122745</th>\n",
       "      <td>122745</td>\n",
       "      <td>0.0</td>\n",
       "      <td>2018-07-25 16:42:40</td>\n",
       "      <td>83</td>\n",
       "      <td>Urzędnicza</td>\n",
       "      <td>44</td>\n",
       "      <td>Bronowice</td>\n",
       "      <td>2018-07-25 16:42:00</td>\n",
       "      <td>6.352185e+18</td>\n",
       "      <td>6351558574044977929</td>\n",
       "      <td>21.0</td>\n",
       "    </tr>\n",
       "    <tr>\n",
       "      <th>122811</th>\n",
       "      <td>122811</td>\n",
       "      <td>0.0</td>\n",
       "      <td>2018-07-25 16:44:14</td>\n",
       "      <td>84</td>\n",
       "      <td>Biprostal</td>\n",
       "      <td>44</td>\n",
       "      <td>Bronowice</td>\n",
       "      <td>2018-07-25 16:44:00</td>\n",
       "      <td>6.352185e+18</td>\n",
       "      <td>6351558574044977929</td>\n",
       "      <td>22.0</td>\n",
       "    </tr>\n",
       "    <tr>\n",
       "      <th>122866</th>\n",
       "      <td>122866</td>\n",
       "      <td>0.0</td>\n",
       "      <td>2018-07-25 16:45:34</td>\n",
       "      <td>88</td>\n",
       "      <td>Uniwersytet Pedagogiczny</td>\n",
       "      <td>44</td>\n",
       "      <td>Bronowice</td>\n",
       "      <td>2018-07-25 16:45:00</td>\n",
       "      <td>6.352185e+18</td>\n",
       "      <td>6351558574044977929</td>\n",
       "      <td>23.0</td>\n",
       "    </tr>\n",
       "    <tr>\n",
       "      <th>122949</th>\n",
       "      <td>122949</td>\n",
       "      <td>0.0</td>\n",
       "      <td>2018-07-25 16:47:20</td>\n",
       "      <td>1049</td>\n",
       "      <td>Głowackiego</td>\n",
       "      <td>44</td>\n",
       "      <td>Bronowice</td>\n",
       "      <td>2018-07-25 16:47:00</td>\n",
       "      <td>6.352185e+18</td>\n",
       "      <td>6351558574044977929</td>\n",
       "      <td>24.0</td>\n",
       "    </tr>\n",
       "  </tbody>\n",
       "</table>\n",
       "</div>"
      ],
      "text/plain": [
       "            id  delay            datetime  stop                      stop_name  number  direction        planned_time    vehicle_id              trip_id  seq_num\n",
       "120757  120757    0.0 2018-07-25 15:56:56   450                   Kopiec Wandy      44  Bronowice 2018-07-25 15:58:00  6.352185e+18  6351558574044977929      1.0\n",
       "121014  121014   60.0 2018-07-25 16:02:42   459                       Kombinat      44  Bronowice 2018-07-25 16:01:00  6.352185e+18  6351558574044977929      2.0\n",
       "121235  121235   60.0 2018-07-25 16:08:05   423                         Struga      44  Bronowice 2018-07-25 16:07:00  6.352185e+18  6351558574044977929      3.0\n",
       "121415  121415   60.0 2018-07-25 16:12:07  2744   Plac Centralny im. R.Reagana      44  Bronowice 2018-07-25 16:11:00  6.352185e+18  6351558574044977929      4.0\n",
       "121475  121475   60.0 2018-07-25 16:13:23   413                    Os.Kolorowe      44  Bronowice 2018-07-25 16:12:00  6.352185e+18  6351558574044977929      5.0\n",
       "121606  121606    0.0 2018-07-25 16:16:21   408               Rondo Czyżyńskie      44  Bronowice 2018-07-25 16:16:00  6.352185e+18  6351558574044977929      6.0\n",
       "121711  121711    0.0 2018-07-25 16:18:29   112              Stella-Sawickiego      44  Bronowice 2018-07-25 16:18:00  6.352185e+18  6351558574044977929      8.0\n",
       "121815  121815   60.0 2018-07-25 16:21:13  2811               Muzeum Lotnictwa      44  Bronowice 2018-07-25 16:20:00  6.352185e+18  6351558574044977929     10.0\n",
       "121889  121889    0.0 2018-07-25 16:22:52  3040  TAURON Arena Kraków Wieczysta      44  Bronowice 2018-07-25 16:23:00  6.352185e+18  6351558574044977929     11.0\n",
       "121946  121946    0.0 2018-07-25 16:24:09   130                       Białucha      44  Bronowice 2018-07-25 16:24:00  6.352185e+18  6351558574044977929     12.0\n",
       "122017  122017    0.0 2018-07-25 16:25:50   129                      Cystersów      44  Bronowice 2018-07-25 16:26:00  6.352185e+18  6351558574044977929     13.0\n",
       "122203  122203    0.0 2018-07-25 16:30:16   126                         Lubicz      44  Bronowice 2018-07-25 16:30:00  6.352185e+18  6351558574044977929     15.0\n",
       "122320  122320    0.0 2018-07-25 16:32:58   131                 Dworzec Główny      44  Bronowice 2018-07-25 16:32:00  6.352185e+18  6351558574044977929     16.0\n",
       "122389  122389    0.0 2018-07-25 16:34:42  3032                  Stary Kleparz      44  Bronowice 2018-07-25 16:34:00  6.352185e+18  6351558574044977929     17.0\n",
       "122661  122661    0.0 2018-07-25 16:40:34    79                 Plac Inwalidów      44  Bronowice 2018-07-25 16:40:00  6.352185e+18  6351558574044977929     20.0\n",
       "122745  122745    0.0 2018-07-25 16:42:40    83                     Urzędnicza      44  Bronowice 2018-07-25 16:42:00  6.352185e+18  6351558574044977929     21.0\n",
       "122811  122811    0.0 2018-07-25 16:44:14    84                      Biprostal      44  Bronowice 2018-07-25 16:44:00  6.352185e+18  6351558574044977929     22.0\n",
       "122866  122866    0.0 2018-07-25 16:45:34    88       Uniwersytet Pedagogiczny      44  Bronowice 2018-07-25 16:45:00  6.352185e+18  6351558574044977929     23.0\n",
       "122949  122949    0.0 2018-07-25 16:47:20  1049                    Głowackiego      44  Bronowice 2018-07-25 16:47:00  6.352185e+18  6351558574044977929     24.0"
      ]
     },
     "execution_count": 10,
     "metadata": {},
     "output_type": "execute_result"
    }
   ],
   "source": [
    "# Example of a one trip\n",
    "df[df['trip_id']==6351558574044977929]"
   ]
  },
  {
   "cell_type": "code",
   "execution_count": 11,
   "id": "particular-opinion",
   "metadata": {},
   "outputs": [
    {
     "name": "stdout",
     "output_type": "stream",
     "text": [
      "Mean: 61.5168252020047\n",
      "max: 1140\n",
      "min: 0\n",
      "std: 82.48747691648444\n",
      "Q_1: 0.0\n",
      "Median: 60.0\n",
      "Q_3: 120.0\n",
      "Odległość abbsolutna miedzy Q_1 i Q_3: 120.0\n"
     ]
    },
    {
     "data": {
      "image/png": "[encoded data removed]",
      "text/plain": [
       "<Figure size 640x480 with 1 Axes>"
      ]
     },
     "metadata": {},
     "output_type": "display_data"
    }
   ],
   "source": [
    "from scipy.stats import iqr\n",
    "\n",
    "mean = np.mean(delay)\n",
    "max = np.max(delay)\n",
    "min = np.min(delay)\n",
    "std = np.std(delay)\n",
    "q_1 = np.quantile(delay, .25)\n",
    "median = np.quantile(delay, .50)\n",
    "q_3 = np.quantile(delay, .75)\n",
    "iqr = iqr(delay) #odleglosc absolutna miedzy Q_1 i Q_3\n",
    "\n",
    "print('Mean: {}'.format(mean))\n",
    "print('max: {}'.format(max))\n",
    "print('min: {}'.format(min))\n",
    "print('std: {}'.format(std))\n",
    "print('Q_1: {}'.format(q_1))\n",
    "print('Median: {}'.format(median))\n",
    "print('Q_3: {}'.format(q_3))\n",
    "print('Odległość abbsolutna miedzy Q_1 i Q_3: {}'.format(iqr))\n",
    "\n",
    "import seaborn as sns\n",
    "\n",
    "sns.boxplot(x=delay)\n",
    "plt.show()"
   ]
  },
  {
   "cell_type": "markdown",
   "id": "announced-latitude",
   "metadata": {},
   "source": [
    "### Dealing with features (`feature engineering`)"
   ]
  },
  {
   "cell_type": "markdown",
   "id": "interpreted-calculator",
   "metadata": {},
   "source": [
    "Krakow is one of the largest cities in Poland, which can result in streetcar delays caused by rush hour - when there are longer waits for public transportation.There are different dynamics during rush hour.\n",
    "\n",
    "A hypothesis arises to show the model directly what time it is. <strong> We pull this hour from `planned_time` - the variable tells us what time the planned tram ride was. </strong>\n",
    "\n",
    "Using `pd.to_datetime` we map planned_time to a datetime type, which allows us to work with dates more easily."
   ]
  },
  {
   "cell_type": "code",
   "execution_count": 12,
   "id": "coordinated-despite",
   "metadata": {},
   "outputs": [],
   "source": [
    "df.drop('id', axis=1, inplace=True)"
   ]
  },
  {
   "cell_type": "code",
   "execution_count": 13,
   "id": "original-mixture",
   "metadata": {},
   "outputs": [],
   "source": [
    "df['planned_time'] = pd.to_datetime(df['planned_time'], format='%Y-%m-%d %H:%M:%S')\n",
    "df['day'] = df['planned_time'].dt.dayofweek\n",
    "\n",
    "df['month'] = df['planned_time'].dt.month\n",
    "\n",
    "df['hour'] = df['planned_time'].dt.hour\n",
    "\n",
    "df['minute'] = df['planned_time'].dt.minute\n"
   ]
  },
  {
   "cell_type": "code",
   "execution_count": 14,
   "id": "floating-editor",
   "metadata": {},
   "outputs": [],
   "source": [
    "df['stop_diff'] = df['stop'].diff()\n",
    "\n",
    "\n",
    "if (df['hour'] == 0).any():\n",
    "    df['stop_hour'] = 0\n",
    "else:\n",
    "    df['stop_hour'] = df['stop'] / df['hour']\n",
    "    \n",
    "\n",
    "df['rush_hours'] = df['hour'].apply(lambda x: 1 if (x > 5 and x < 10) | (x > 14 and x < 19) else 0) # rush_hours\n",
    "df['night_hours'] = df['hour'].apply(lambda x: 1 if (x < 6 or x > 21) else 0) # night_hours"
   ]
  },
  {
   "cell_type": "code",
   "execution_count": 15,
   "id": "actual-seattle",
   "metadata": {},
   "outputs": [],
   "source": [
    "df['vehicle_id_log'] = df['vehicle_id'].map(lambda x: np.log(x))\n",
    "\n",
    "df['vehicle_id_cat'] = pd.factorize(df['vehicle_id_log'])[0]"
   ]
  },
  {
   "cell_type": "code",
   "execution_count": 16,
   "id": "prime-colony",
   "metadata": {},
   "outputs": [],
   "source": [
    "len(df['planned_time'].unique()) \n",
    "\n",
    "# planned_time columns is not needed any more\n",
    "#I used this column to extract every possible information \n",
    "#such as day, month, hour, minute and so on.\n",
    "\n",
    "df.drop('planned_time', axis=1, inplace=True)"
   ]
  },
  {
   "cell_type": "markdown",
   "id": "structured-bhutan",
   "metadata": {},
   "source": [
    "##### Bus stops\n",
    "There are probably some streetcar stops that are more frequently used and prone to delay.\n",
    "For extracting more data, you can collect more information about delays occurring at specific stops (e.g., average value, standard deviation).\n",
    "Let's also count how often no delay occurred at a particular stop (zero delay) - `count_zeros_stopname_delay`."
   ]
  },
  {
   "cell_type": "code",
   "execution_count": 17,
   "id": "differential-luxury",
   "metadata": {
    "ExecuteTime": {
     "end_time": "2021-10-30T17:17:23.692777Z",
     "start_time": "2021-10-30T17:17:23.656065Z"
    }
   },
   "outputs": [],
   "source": [
    "def df_group_delay(df_train, groupby_feats):\n",
    "    agg_params = {\n",
    "        \"mean_{}_delay\".format(\"_\".join(groupby_feats)): (\"delay\", \"mean\"),\n",
    "        \"median_{}_delay\".format(\"_\".join(groupby_feats)): (\"delay\", \"median\"),\n",
    "        \"count_{}_delay\".format(\"_\".join(groupby_feats)): (\"delay\", \"count\"),\n",
    "        \"std_{}_delay\".format(\"_\".join(groupby_feats)): (\"delay\", \"std\"),\n",
    "        \"count_zeros_{}_delay\".format(\"_\".join(groupby_feats)): (\"delay\", lambda vals: len([x for x in vals if x == 0]) ),\n",
    "        \"prob_zeros_{}_delay\".format(\"_\".join(groupby_feats)): (\"delay\", lambda vals: np.mean([x == 0 for x in vals]) ),\n",
    "    }\n",
    "    \n",
    "    return df_train[groupby_feats + [\"delay\"]].groupby(groupby_feats).agg(**agg_params).reset_index()"
   ]
  },
  {
   "cell_type": "markdown",
   "id": "liked-context",
   "metadata": {},
   "source": [
    "##### Converting object columns into dummies columns"
   ]
  },
  {
   "cell_type": "code",
   "execution_count": 18,
   "id": "attractive-abuse",
   "metadata": {},
   "outputs": [
    {
     "data": {
      "text/html": [
       "<div>\n",
       "<style scoped>\n",
       "    .dataframe tbody tr th:only-of-type {\n",
       "        vertical-align: middle;\n",
       "    }\n",
       "\n",
       "    .dataframe tbody tr th {\n",
       "        vertical-align: top;\n",
       "    }\n",
       "\n",
       "    .dataframe thead th {\n",
       "        text-align: right;\n",
       "    }\n",
       "</style>\n",
       "<table border=\"1\" class=\"dataframe\">\n",
       "  <thead>\n",
       "    <tr style=\"text-align: right;\">\n",
       "      <th></th>\n",
       "      <th>stop_name</th>\n",
       "      <th>direction</th>\n",
       "    </tr>\n",
       "  </thead>\n",
       "  <tbody>\n",
       "    <tr>\n",
       "      <th>0</th>\n",
       "      <td>Borsucza</td>\n",
       "      <td>Walcownia</td>\n",
       "    </tr>\n",
       "    <tr>\n",
       "      <th>1</th>\n",
       "      <td>Smolki</td>\n",
       "      <td>Czerwone Maki P+R</td>\n",
       "    </tr>\n",
       "    <tr>\n",
       "      <th>2</th>\n",
       "      <td>Filharmonia</td>\n",
       "      <td>Bronowice Małe</td>\n",
       "    </tr>\n",
       "    <tr>\n",
       "      <th>3</th>\n",
       "      <td>Hala Targowa</td>\n",
       "      <td>Salwator</td>\n",
       "    </tr>\n",
       "    <tr>\n",
       "      <th>4</th>\n",
       "      <td>Batorego</td>\n",
       "      <td>Bronowice Małe</td>\n",
       "    </tr>\n",
       "    <tr>\n",
       "      <th>...</th>\n",
       "      <td>...</td>\n",
       "      <td>...</td>\n",
       "    </tr>\n",
       "    <tr>\n",
       "      <th>308141</th>\n",
       "      <td>Bronowice</td>\n",
       "      <td>Bronowice Małe</td>\n",
       "    </tr>\n",
       "    <tr>\n",
       "      <th>308142</th>\n",
       "      <td>Kampus UJ</td>\n",
       "      <td>Czerwone Maki P+R</td>\n",
       "    </tr>\n",
       "    <tr>\n",
       "      <th>308143</th>\n",
       "      <td>Wesele</td>\n",
       "      <td>Bronowice Małe</td>\n",
       "    </tr>\n",
       "    <tr>\n",
       "      <th>308144</th>\n",
       "      <td>Bieżanowska</td>\n",
       "      <td>Kurdwanów P+R</td>\n",
       "    </tr>\n",
       "    <tr>\n",
       "      <th>308145</th>\n",
       "      <td>Chmieleniec</td>\n",
       "      <td>Czerwone Maki P+R</td>\n",
       "    </tr>\n",
       "  </tbody>\n",
       "</table>\n",
       "<p>308152 rows × 2 columns</p>\n",
       "</div>"
      ],
      "text/plain": [
       "           stop_name          direction\n",
       "0           Borsucza          Walcownia\n",
       "1             Smolki  Czerwone Maki P+R\n",
       "2        Filharmonia     Bronowice Małe\n",
       "3       Hala Targowa           Salwator\n",
       "4           Batorego     Bronowice Małe\n",
       "...              ...                ...\n",
       "308141     Bronowice     Bronowice Małe\n",
       "308142     Kampus UJ  Czerwone Maki P+R\n",
       "308143        Wesele     Bronowice Małe\n",
       "308144   Bieżanowska      Kurdwanów P+R\n",
       "308145   Chmieleniec  Czerwone Maki P+R\n",
       "\n",
       "[308152 rows x 2 columns]"
      ]
     },
     "execution_count": 18,
     "metadata": {},
     "output_type": "execute_result"
    }
   ],
   "source": [
    "df.select_dtypes('object')"
   ]
  },
  {
   "cell_type": "code",
   "execution_count": 19,
   "id": "british-northeast",
   "metadata": {},
   "outputs": [
    {
     "name": "stdout",
     "output_type": "stream",
     "text": [
      "Czerwone Maki P+R    36743\n",
      "Bronowice Małe       35937\n",
      "Krowodrza Górka      35372\n",
      "Nowy Bieżanów P+R    22648\n",
      "Wzgórza K.           22416\n",
      "Borek Fałęcki        18488\n",
      "Kurdwanów P+R        18293\n",
      "Os.Piastów           18169\n",
      "Salwator             16224\n",
      "Mistrzejowice        15089\n",
      "Mały Płaszów         13517\n",
      "Bronowice            10259\n",
      "Prokocim              9296\n",
      "Kopiec Wandy          7965\n",
      "Cichy Kącik           7480\n",
      "Walcownia             6276\n",
      "Łagiewniki            5410\n",
      "Dworzec Tow.          5393\n",
      "Cm. Rakowicki         1788\n",
      "Kombinat              1389\n",
      "Name: direction, dtype: int64 \n",
      "\n"
     ]
    }
   ],
   "source": [
    "print(df['direction'].value_counts(), '\\n')\n",
    "\n",
    "direction = pd.get_dummies(df['direction'], prefix = 'direction', drop_first=True)\n",
    "\n",
    "df.drop('direction', axis=1, inplace=True)"
   ]
  },
  {
   "cell_type": "code",
   "execution_count": 20,
   "id": "understanding-evening",
   "metadata": {
    "scrolled": false
   },
   "outputs": [
    {
     "name": "stdout",
     "output_type": "stream",
     "text": [
      "Rondo Mogilskie                            6766\n",
      "Dworzec Główny                             6699\n",
      "Stradom                                    5062\n",
      "Rondo Grzegórzeckie                        5004\n",
      "Kabel                                      4800\n",
      "Starowiślna                                4755\n",
      "Rondo Czyżyńskie                           4516\n",
      "Bieżanowska                                4318\n",
      "Podgórze SKA                               4315\n",
      "Teatr Bagatela                             4289\n",
      "Stary Kleparz                              4131\n",
      "Poczta Główna                              4131\n",
      "Lubicz                                     4126\n",
      "Dworzec Towarowy                           3722\n",
      "Dworcowa                                   3674\n",
      "Filharmonia                                3592\n",
      "Korona                                     3571\n",
      "Cmentarz Podgórski                         3564\n",
      "Biprostal                                  3515\n",
      "Bratysławska                               3454\n",
      "Plac Wszystkich Świętych                   3445\n",
      "Urzędnicza                                 3425\n",
      "Uniwersytet Pedagogiczny                   3402\n",
      "Plac Inwalidów                             3378\n",
      "Rondo Kocmyrzowskie im. Ks. Gorzelanego    3338\n",
      "Wawel                                      3196\n",
      "Głowackiego                                3177\n",
      "Szpital Narutowicza                        3088\n",
      "TAURON Arena Kraków Wieczysta              3034\n",
      "Lipińskiego                                2968\n",
      "Centrum Kongresowe ICE                     2962\n",
      "Św.Gertrudy                                2944\n",
      "AWF                                        2925\n",
      "Cystersów                                  2910\n",
      "Batorego                                   2824\n",
      "Białucha                                   2783\n",
      "Czyżyny                                    2747\n",
      "Stella-Sawickiego                          2745\n",
      "Norymberska                                2720\n",
      "Grota-Roweckiego                           2680\n",
      "Politechnika                               2653\n",
      "Plac Bohaterów Getta                       2644\n",
      "Szwedzka                                   2638\n",
      "Wlotowa                                    2622\n",
      "Bronowice Wiadukt                          2622\n",
      "Słomiana                                   2621\n",
      "Kobierzyńska                               2616\n",
      "Chmieleniec                                2601\n",
      "Wesele                                     2593\n",
      "Kapelanka                                  2586\n",
      "Lipska                                     2579\n",
      "Orzeszkowej                                2578\n",
      "Kuklińskiego                               2551\n",
      "Ruczaj                                     2513\n",
      "Św.Wawrzyńca                               2488\n",
      "Kampus UJ                                  2485\n",
      "Bronowice                                  2467\n",
      "Rondo Matecznego                           2440\n",
      "Muzeum Lotnictwa                           2419\n",
      "Miodowa                                    2370\n",
      "Zabłocie                                   2294\n",
      "Gromadzka                                  2254\n",
      "Klimeckiego                                2225\n",
      "Plac Centralny im. R.Reagana               2208\n",
      "Smolki                                     2130\n",
      "DH Wanda                                   2081\n",
      "Rondo Hipokratesa                          2021\n",
      "Dworzec Główny Tunel                       2016\n",
      "Rzemieślnicza                              2015\n",
      "Os.Kolorowe                                1992\n",
      "Łagiewniki                                 1933\n",
      "Teligi                                     1892\n",
      "Hala Targowa                               1886\n",
      "Limanowskiego                              1886\n",
      "Dunikowskiego                              1872\n",
      "Plac Wolnica                               1835\n",
      "Ćwiklińskiej                               1835\n",
      "Salwator                                   1806\n",
      "Krowodrza Górka                            1797\n",
      "Nowy Prokocim                              1796\n",
      "Jubilat                                    1787\n",
      "Piaski Nowe                                1699\n",
      "Dworzec Płaszów Estakada                   1689\n",
      "Dauna                                      1675\n",
      "Teatr Variété                              1613\n",
      "Centralna                                  1590\n",
      "Ofiar Dąbia                                1564\n",
      "Dąbie                                      1559\n",
      "Bronowice Małe                             1557\n",
      "Czerwone Maki P+R                          1538\n",
      "M1 Al. Pokoju                              1519\n",
      "Darwina                                    1508\n",
      "Solvay                                     1458\n",
      "Rondo 308. Dywizjonu                       1455\n",
      "Nowosądecka                                1453\n",
      "TAURON Arena Kraków Al. Pokoju             1399\n",
      "Witosa                                     1371\n",
      "Struga                                     1361\n",
      "Rzebika                                    1348\n",
      "Teatr Ludowy                               1347\n",
      "Wiadukty                                   1340\n",
      "Jarzębiny                                  1318\n",
      "Francesco Nullo                            1314\n",
      "Prokocim Szpital                           1297\n",
      "Piasta Kołodzieja                          1290\n",
      "Plaza                                      1239\n",
      "Bieńczycka                                 1224\n",
      "Kombinat                                   1217\n",
      "Kleeberga                                  1199\n",
      "Fabryczna                                  1194\n",
      "Prokocim                                   1162\n",
      "Komorowskiego                              1134\n",
      "Wzgórza Krzesławickie                      1058\n",
      "Nowy Kleparz                               1042\n",
      "Muzeum Narodowe                             986\n",
      "Nowy Bieżanów P+R                           966\n",
      "Sanktuarium Bożego Miłosierdzia             960\n",
      "Wańkowicza                                  945\n",
      "Borsucza                                    898\n",
      "Oleandry                                    874\n",
      "Miśnieńska                                  855\n",
      "Rondo Piastowskie                           847\n",
      "Borek Fałęcki                               847\n",
      "Mały Płaszów                                838\n",
      "Borek Fałęcki I                             828\n",
      "Park Jordana                                781\n",
      "Pędzichów                                   703\n",
      "Os.Złotego Wieku                            693\n",
      "Os.Piastów                                  642\n",
      "Cichy Kącik                                 641\n",
      "Reymana                                     603\n",
      "Łagiewniki ZUS                              565\n",
      "Os.Zgody                                    510\n",
      "Zajezdnia Nowa Huta                         508\n",
      "Os.Na Skarpie                               500\n",
      "Dworzec Główny Zachód                       475\n",
      "Cmentarz Rakowicki                          456\n",
      "Uniwersytet Ekonomiczny                     441\n",
      "Klasztorna                                  436\n",
      "Cienista                                    424\n",
      "Brożka                                      413\n",
      "Mistrzejowice                               392\n",
      "Elektromontaż                               355\n",
      "Kurdwanów P+R                               291\n",
      "Suche Stawy                                 252\n",
      "Uniwersytet Jagielloński                    227\n",
      "Walcownia                                   189\n",
      "Blokowa                                     188\n",
      "Mrozowa                                     181\n",
      "Agencja Kraków Wschód                       149\n",
      "Rakowicka                                   109\n",
      "Bardosa                                      65\n",
      "Kopiec Wandy                                 45\n",
      "PH                                            1\n",
      "Name: stop_name, dtype: int64 \n",
      "\n"
     ]
    }
   ],
   "source": [
    "print(df['stop_name'].value_counts(), '\\n')\n",
    "\n",
    "stop_name = pd.get_dummies(df['stop_name'], prefix = 'stop_name', drop_first=True)\n",
    "\n",
    "df.drop('stop_name', axis=1, inplace=True)"
   ]
  },
  {
   "cell_type": "code",
   "execution_count": 21,
   "id": "legal-engineer",
   "metadata": {},
   "outputs": [],
   "source": [
    "len(df['datetime'].unique()) \n",
    "\n",
    "# datatime column contains np.nan values when delay column (y label column) is also np.nan\n",
    "# delay column is the result of subtraction between planned_time column and datatime column\n",
    "\n",
    "df.drop('datetime', axis=1, inplace=True)"
   ]
  },
  {
   "cell_type": "markdown",
   "id": "unlike-burlington",
   "metadata": {},
   "source": [
    "## Dealing with NaN Values"
   ]
  },
  {
   "cell_type": "code",
   "execution_count": 22,
   "id": "ceramic-peripheral",
   "metadata": {},
   "outputs": [
    {
     "name": "stdout",
     "output_type": "stream",
     "text": [
      "['seq_num', 'stop_diff']\n"
     ]
    },
    {
     "data": {
      "text/plain": [
       "<AxesSubplot:>"
      ]
     },
     "execution_count": 22,
     "metadata": {},
     "output_type": "execute_result"
    },
    {
     "data": {
      "image/png": "[encoded data removed]",
      "text/plain": [
       "<Figure size 2500x1000 with 2 Axes>"
      ]
     },
     "metadata": {},
     "output_type": "display_data"
    }
   ],
   "source": [
    "import missingno as msno\n",
    "\n",
    "print(df.columns[df.isna().any()].tolist())\n",
    "msno.matrix(df.sample(250), labels=True)"
   ]
  },
  {
   "cell_type": "code",
   "execution_count": 23,
   "id": "2bfe7597",
   "metadata": {},
   "outputs": [],
   "source": [
    "df['seq_num'] = df['seq_num'].interpolate()"
   ]
  },
  {
   "cell_type": "code",
   "execution_count": 24,
   "id": "97e8a904",
   "metadata": {},
   "outputs": [],
   "source": [
    "df['stop_diff'] = df['stop_diff'].fillna(method='bfill')"
   ]
  },
  {
   "cell_type": "code",
   "execution_count": 25,
   "id": "professional-continent",
   "metadata": {},
   "outputs": [
    {
     "name": "stdout",
     "output_type": "stream",
     "text": [
      "[]\n",
      "<class 'pandas.core.frame.DataFrame'>\n",
      "Int64Index: 308152 entries, 0 to 308145\n",
      "Data columns (total 16 columns):\n",
      " #   Column          Non-Null Count   Dtype  \n",
      "---  ------          --------------   -----  \n",
      " 0   delay           308152 non-null  float64\n",
      " 1   stop            308152 non-null  int64  \n",
      " 2   number          308152 non-null  int64  \n",
      " 3   vehicle_id      308152 non-null  float64\n",
      " 4   trip_id         308152 non-null  int64  \n",
      " 5   seq_num         308152 non-null  float64\n",
      " 6   day             308152 non-null  int64  \n",
      " 7   month           308152 non-null  int64  \n",
      " 8   hour            308152 non-null  int64  \n",
      " 9   minute          308152 non-null  int64  \n",
      " 10  stop_diff       308152 non-null  float64\n",
      " 11  stop_hour       308152 non-null  int64  \n",
      " 12  rush_hours      308152 non-null  int64  \n",
      " 13  night_hours     308152 non-null  int64  \n",
      " 14  vehicle_id_log  308152 non-null  float64\n",
      " 15  vehicle_id_cat  308152 non-null  int64  \n",
      "dtypes: float64(5), int64(11)\n",
      "memory usage: 48.0 MB\n",
      "None\n"
     ]
    }
   ],
   "source": [
    "print(df.columns[df.isna().any()].tolist())\n",
    "print(df.info())"
   ]
  },
  {
   "cell_type": "markdown",
   "id": "christian-checkout",
   "metadata": {},
   "source": [
    "## Select features\n",
    "\n",
    "In addition, we can ignore some features, because if you check them more carefully, it turns out that they do not contribute much."
   ]
  },
  {
   "cell_type": "code",
   "execution_count": 27,
   "id": "initial-siemens",
   "metadata": {},
   "outputs": [],
   "source": [
    "df['delay'] = delay\n",
    "\n",
    "y = df['delay'].dropna()\n",
    "\n",
    "X = df[~df['delay'].isna()]\n",
    "numeric_cols = X.select_dtypes(include=['int64', 'float64']).columns.tolist()\n",
    "df_numeric = X[numeric_cols]\n",
    "X.drop('delay', axis=1, inplace=True)\n",
    "\n",
    "X_test = df[df['delay'].isna()]\n",
    "X_test.drop('delay', axis=1, inplace=True)"
   ]
  },
  {
   "cell_type": "code",
   "execution_count": 28,
   "id": "strategic-gathering",
   "metadata": {},
   "outputs": [
    {
     "name": "stdout",
     "output_type": "stream",
     "text": [
      "(114390, 15) (61596, 15) (114390,) (61596,)\n"
     ]
    }
   ],
   "source": [
    "from sklearn.model_selection import train_test_split\n",
    "X_train, X_valid, y_train, y_valid = train_test_split(X, y, test_size=0.35)\n",
    "\n",
    "print(X_train.shape, X_valid.shape, y_train.shape, y_valid.shape, )"
   ]
  },
  {
   "cell_type": "markdown",
   "id": "described-fireplace",
   "metadata": {},
   "source": [
    "## Building the model"
   ]
  },
  {
   "cell_type": "markdown",
   "id": "athletic-bride",
   "metadata": {},
   "source": [
    "<strong>Due to the large amount of data/records, most of the models available in scikit-learn will not be able to learn the model!</strong> For that, we can still use the capabilities of the XGBoost library."
   ]
  },
  {
   "cell_type": "markdown",
   "id": "9a406800",
   "metadata": {},
   "source": [
    "##### Creating first models"
   ]
  },
  {
   "cell_type": "code",
   "execution_count": 30,
   "id": "9f2dacde",
   "metadata": {},
   "outputs": [
    {
     "name": "stdout",
     "output_type": "stream",
     "text": [
      "MAE on train dataset: 52.81401917287743\n",
      "MAE on valid dataset: 52.82283613525589\n"
     ]
    }
   ],
   "source": [
    "from sklearn.ensemble import GradientBoostingRegressor\n",
    "\n",
    "gradient_r = GradientBoostingRegressor()\n",
    "\n",
    "gradient_r.fit(X_train,y_train)\n",
    "\n",
    "y_pred_train = gradient_r.predict(X_train)\n",
    "y_pred_valid = gradient_r.predict(X_valid)\n",
    "\n",
    "print('MAE on train dataset: {}'.format(mean_absolute_error(y_train,y_pred_train)))\n",
    "print('MAE on valid dataset: {}'.format(mean_absolute_error(y_valid,y_pred_valid)))"
   ]
  },
  {
   "cell_type": "code",
   "execution_count": 54,
   "id": "f4f9923c",
   "metadata": {},
   "outputs": [
    {
     "name": "stdout",
     "output_type": "stream",
     "text": [
      "MAE on train dataset: 64.1749234905406895\n",
      "MAE on valid dataset: 70.092853506511886\n"
     ]
    }
   ],
   "source": [
    "from sklearn.ensemble import AdaBoostRegressor #Adaptive Boosting\n",
    "from sklearn.ensemble import RandomForestRegressor\n",
    "\n",
    "rfr = RandomForestRegressor()\n",
    "ada_rfr = AdaBoostRegressor(base_estimator=rfr)\n",
    "\n",
    "ada_rfr.fit(X_train,y_train)\n",
    "\n",
    "y_pred_train = ada_rfr.predict(X_train)\n",
    "y_pred_valid = ada_rfr.predict(X_valid)\n",
    "\n",
    "print('MAE on train dataset: {}'.format(mean_absolute_error(y_train,y_pred_train)))\n",
    "print('MAE on valid dataset: {}'.format(mean_absolute_error(y_valid,y_pred_valid)))"
   ]
  },
  {
   "cell_type": "code",
   "execution_count": 32,
   "id": "purple-steal",
   "metadata": {},
   "outputs": [
    {
     "name": "stdout",
     "output_type": "stream",
     "text": [
      "MAE on train dataset: 45.599538905406895\n",
      "MAE on valid dataset: 47.96853706511886\n"
     ]
    }
   ],
   "source": [
    "import xgboost as xgb\n",
    "\n",
    "xgb_model = xgb.XGBRegressor()\n",
    "xgb_model.fit(X_train, y_train)\n",
    "\n",
    "y_pred_train = xgb_model.predict(X_train)\n",
    "y_pred_valid = xgb_model.predict(X_valid)\n",
    "\n",
    "print('MAE on train dataset: {}'.format(mean_absolute_error(y_train,y_pred_train)))\n",
    "print('MAE on valid dataset: {}'.format(mean_absolute_error(y_valid,y_pred_valid)))"
   ]
  },
  {
   "cell_type": "markdown",
   "id": "married-process",
   "metadata": {},
   "source": [
    "##### Hyperparameter tuning on the XGBRegressor"
   ]
  },
  {
   "cell_type": "code",
   "execution_count": 33,
   "id": "opposed-edgar",
   "metadata": {},
   "outputs": [],
   "source": [
    "from sklearn.model_selection import RandomizedSearchCV, KFold\n",
    "\n",
    "kf = KFold(n_splits=10, shuffle=True, random_state=123)\n",
    "\n",
    "params_xgbr = {'n_estimators': np.arange(50,350,50),\n",
    "          'max_depth': [2,3,4,5,6],\n",
    "         'learning_rate':[0.01,0.1,0.5,0.9],\n",
    "         'subsample':[0.3,0.5,0.9]}"
   ]
  },
  {
   "cell_type": "code",
   "execution_count": 46,
   "id": "3bebdc25",
   "metadata": {},
   "outputs": [
    {
     "name": "stdout",
     "output_type": "stream",
     "text": [
      "MAE on train dataset: 28.892229052740117\n",
      "MAE on valid dataset: 31.043666506984472\n"
     ]
    }
   ],
   "source": [
    "xgbr = xgb.XGBRegressor()\n",
    "\n",
    "xgbr_cv = RandomizedSearchCV(xgbr, params_xgbr, cv=kf, n_jobs=-1)\n",
    "\n",
    "xgbr_cv.fit(X_train,y_train)\n",
    "\n",
    "y_pred_train = xgbr_cv.predict(X_train)\n",
    "y_pred_valid = xgbr_cv.predict(X_valid)\n",
    "\n",
    "print('MAE on train dataset: {}'.format(mean_absolute_error(y_train,y_pred_train)))\n",
    "print('MAE on valid dataset: {}'.format(mean_absolute_error(y_valid,y_pred_valid)))"
   ]
  },
  {
   "cell_type": "markdown",
   "id": "italic-victoria",
   "metadata": {},
   "source": [
    "##### Cross validation on the XGBRegressor"
   ]
  },
  {
   "cell_type": "code",
   "execution_count": 50,
   "id": "be749b7a",
   "metadata": {},
   "outputs": [
    {
     "name": "stdout",
     "output_type": "stream",
     "text": [
      "mean of cross validation: 31.462089456203035\n",
      "std of cross validation: 0.06042392804400001\n"
     ]
    }
   ],
   "source": [
    "from sklearn.model_selection import cross_val_score\n",
    "\n",
    "xgbr_hp = xgbr_cv.best_model_\n",
    "\n",
    "scores = cross_val_score(xgbr_hp, X_train, y_train, cv=20, scoring=\"neg_mean_absolute_error\")\n",
    "\n",
    "print('mean of cross validation: {}'.format(-scores.mean()))\n",
    "print('std of cross validation: {}'.format(scores.std()))"
   ]
  },
  {
   "cell_type": "code",
   "execution_count": 51,
   "id": "cc6a262c",
   "metadata": {},
   "outputs": [
    {
     "name": "stdout",
     "output_type": "stream",
     "text": [
      "\n"
     ]
    }
   ],
   "source": [
    "from matplotlib.pylab import rcParams\n",
    "%matplotlib inline\n",
    "\n",
    "rcParams['figure.figsize'] = 50,20\n",
    "xgb.plot_tree(xgbr_hp, num_trees=2)\n",
    "plt.savefig('plot_tree.png')"
   ]
  },
  {
   "cell_type": "code",
   "execution_count": 52,
   "id": "boxed-convention",
   "metadata": {},
   "outputs": [
    {
     "name": "stdout",
     "output_type": "stream",
     "text": [
      " \n"
     ]
    }
   ],
   "source": [
    "rcParams['figure.figsize'] = 50,20\n",
    "xgb.plot_importance(xgbr_hp)\n",
    "plt.savefig('plot_importance.png')"
   ]
  }
 ],
 "metadata": {
  "kernelspec": {
   "display_name": "Python 3 (ipykernel)",
   "language": "python",
   "name": "python3"
  },
  "language_info": {
   "codemirror_mode": {
    "name": "ipython",
    "version": 3
   },
   "file_extension": ".py",
   "mimetype": "text/x-python",
   "name": "python",
   "nbconvert_exporter": "python",
   "pygments_lexer": "ipython3",
   "version": "3.9.13"
  }
 },
 "nbformat": 4,
 "nbformat_minor": 5
}
