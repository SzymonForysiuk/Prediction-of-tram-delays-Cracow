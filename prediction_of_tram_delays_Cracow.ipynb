{
 "cells": [
  {
   "cell_type": "markdown",
   "id": "tough-grass",
   "metadata": {},
   "source": [
    "# Prediction of tram delays in Cracow"
   ]
  },
  {
   "cell_type": "markdown",
   "id": "level-toolbox",
   "metadata": {},
   "source": [
    "## Load dataset"
   ]
  },
  {
   "cell_type": "code",
   "execution_count": 4,
   "id": "bigger-steering",
   "metadata": {},
   "outputs": [],
   "source": [
    "import pandas as pd\n",
    "import numpy as np\n",
    "np.random.seed(0)"
   ]
  },
  {
   "cell_type": "code",
   "execution_count": 5,
   "id": "invisible-letters",
   "metadata": {
    "ExecuteTime": {
     "end_time": "2021-10-30T17:17:21.704820Z",
     "start_time": "2021-10-30T17:17:19.902476Z"
    }
   },
   "outputs": [],
   "source": [
    "df_train = pd.read_hdf('../input/tram.train.h5')\n",
    "df_test = pd.read_hdf('../input/tram.test.h5') #dataset without labels"
   ]
  },
  {
   "cell_type": "markdown",
   "id": "dental-toronto",
   "metadata": {},
   "source": [
    "## Concat datasets\n",
    "\n",
    "Concatting `df_train` with ` df_test` and signing it to `df`."
   ]
  },
  {
   "cell_type": "code",
   "execution_count": 6,
   "id": "painful-stuff",
   "metadata": {
    "ExecuteTime": {
     "end_time": "2021-10-30T17:17:22.336441Z",
     "start_time": "2021-10-30T17:17:21.806489Z"
    },
    "scrolled": true
   },
   "outputs": [
    {
     "data": {
      "text/plain": [
       "(308152, 11)"
      ]
     },
     "execution_count": 6,
     "metadata": {},
     "output_type": "execute_result"
    }
   ],
   "source": [
    "df = pd.concat([df_train, df_test])\n",
    "df.shape"
   ]
  },
  {
   "cell_type": "code",
   "execution_count": 7,
   "id": "liberal-distinction",
   "metadata": {},
   "outputs": [
    {
     "data": {
      "text/html": [
       "<div>\n",
       "<style scoped>\n",
       "    .dataframe tbody tr th:only-of-type {\n",
       "        vertical-align: middle;\n",
       "    }\n",
       "\n",
       "    .dataframe tbody tr th {\n",
       "        vertical-align: top;\n",
       "    }\n",
       "\n",
       "    .dataframe thead th {\n",
       "        text-align: right;\n",
       "    }\n",
       "</style>\n",
       "<table border=\"1\" class=\"dataframe\">\n",
       "  <thead>\n",
       "    <tr style=\"text-align: right;\">\n",
       "      <th></th>\n",
       "      <th>id</th>\n",
       "      <th>delay</th>\n",
       "      <th>datetime</th>\n",
       "      <th>stop</th>\n",
       "      <th>stop_name</th>\n",
       "      <th>number</th>\n",
       "      <th>direction</th>\n",
       "      <th>planned_time</th>\n",
       "      <th>vehicle_id</th>\n",
       "      <th>trip_id</th>\n",
       "      <th>seq_num</th>\n",
       "    </tr>\n",
       "  </thead>\n",
       "  <tbody>\n",
       "    <tr>\n",
       "      <th>46049</th>\n",
       "      <td>46049</td>\n",
       "      <td>180.0</td>\n",
       "      <td>2018-07-23 22:46:12</td>\n",
       "      <td>409</td>\n",
       "      <td>Centralna</td>\n",
       "      <td>22</td>\n",
       "      <td>Kombinat</td>\n",
       "      <td>2018-07-23 22:43:00</td>\n",
       "      <td>6.352185e+18</td>\n",
       "      <td>6351558574044899599</td>\n",
       "      <td>NaN</td>\n",
       "    </tr>\n",
       "    <tr>\n",
       "      <th>70448</th>\n",
       "      <td>70448</td>\n",
       "      <td>NaN</td>\n",
       "      <td>NaN</td>\n",
       "      <td>367</td>\n",
       "      <td>Francesco Nullo</td>\n",
       "      <td>14</td>\n",
       "      <td>Mistrzejowice</td>\n",
       "      <td>2018-07-24 14:09:00</td>\n",
       "      <td>6.352185e+18</td>\n",
       "      <td>6351558574044727817</td>\n",
       "      <td>18.0</td>\n",
       "    </tr>\n",
       "    <tr>\n",
       "      <th>82986</th>\n",
       "      <td>82986</td>\n",
       "      <td>NaN</td>\n",
       "      <td>NaN</td>\n",
       "      <td>89</td>\n",
       "      <td>Bronowice</td>\n",
       "      <td>4</td>\n",
       "      <td>Wzgórza K.</td>\n",
       "      <td>2018-07-24 18:33:00</td>\n",
       "      <td>6.352185e+18</td>\n",
       "      <td>6351558574044457485</td>\n",
       "      <td>4.0</td>\n",
       "    </tr>\n",
       "    <tr>\n",
       "      <th>260805</th>\n",
       "      <td>260805</td>\n",
       "      <td>0.0</td>\n",
       "      <td>2018-07-30 21:18:35</td>\n",
       "      <td>2691</td>\n",
       "      <td>Chmieleniec</td>\n",
       "      <td>11</td>\n",
       "      <td>Czerwone Maki P+R</td>\n",
       "      <td>2018-07-30 21:19:00</td>\n",
       "      <td>6.352185e+18</td>\n",
       "      <td>6351558574044655637</td>\n",
       "      <td>21.0</td>\n",
       "    </tr>\n",
       "    <tr>\n",
       "      <th>151230</th>\n",
       "      <td>151230</td>\n",
       "      <td>NaN</td>\n",
       "      <td>NaN</td>\n",
       "      <td>79</td>\n",
       "      <td>Plac Inwalidów</td>\n",
       "      <td>24</td>\n",
       "      <td>Kurdwanów P+R</td>\n",
       "      <td>2018-07-26 11:06:00</td>\n",
       "      <td>6.352185e+18</td>\n",
       "      <td>6351558574047583239</td>\n",
       "      <td>9.0</td>\n",
       "    </tr>\n",
       "    <tr>\n",
       "      <th>229003</th>\n",
       "      <td>229003</td>\n",
       "      <td>0.0</td>\n",
       "      <td>2018-07-30 08:50:34</td>\n",
       "      <td>320</td>\n",
       "      <td>Reymana</td>\n",
       "      <td>20</td>\n",
       "      <td>Cichy Kącik</td>\n",
       "      <td>2018-07-30 08:50:00</td>\n",
       "      <td>6.352185e+18</td>\n",
       "      <td>6351558574044835847</td>\n",
       "      <td>18.0</td>\n",
       "    </tr>\n",
       "    <tr>\n",
       "      <th>61238</th>\n",
       "      <td>61238</td>\n",
       "      <td>NaN</td>\n",
       "      <td>NaN</td>\n",
       "      <td>129</td>\n",
       "      <td>Cystersów</td>\n",
       "      <td>4</td>\n",
       "      <td>Wzgórza K.</td>\n",
       "      <td>2018-07-24 10:14:00</td>\n",
       "      <td>6.352185e+18</td>\n",
       "      <td>6351558574044482053</td>\n",
       "      <td>16.0</td>\n",
       "    </tr>\n",
       "    <tr>\n",
       "      <th>193317</th>\n",
       "      <td>193317</td>\n",
       "      <td>240.0</td>\n",
       "      <td>2018-07-27 11:01:29</td>\n",
       "      <td>567</td>\n",
       "      <td>Kuklińskiego</td>\n",
       "      <td>20</td>\n",
       "      <td>Mały Płaszów</td>\n",
       "      <td>2018-07-27 10:57:00</td>\n",
       "      <td>6.352185e+18</td>\n",
       "      <td>6351558574046678282</td>\n",
       "      <td>15.0</td>\n",
       "    </tr>\n",
       "  </tbody>\n",
       "</table>\n",
       "</div>"
      ],
      "text/plain": [
       "            id  delay             datetime  stop        stop_name  number  \\\n",
       "46049    46049  180.0  2018-07-23 22:46:12   409        Centralna      22   \n",
       "70448    70448    NaN                  NaN   367  Francesco Nullo      14   \n",
       "82986    82986    NaN                  NaN    89        Bronowice       4   \n",
       "260805  260805    0.0  2018-07-30 21:18:35  2691      Chmieleniec      11   \n",
       "151230  151230    NaN                  NaN    79   Plac Inwalidów      24   \n",
       "229003  229003    0.0  2018-07-30 08:50:34   320          Reymana      20   \n",
       "61238    61238    NaN                  NaN   129        Cystersów       4   \n",
       "193317  193317  240.0  2018-07-27 11:01:29   567     Kuklińskiego      20   \n",
       "\n",
       "                direction         planned_time    vehicle_id  \\\n",
       "46049            Kombinat  2018-07-23 22:43:00  6.352185e+18   \n",
       "70448       Mistrzejowice  2018-07-24 14:09:00  6.352185e+18   \n",
       "82986          Wzgórza K.  2018-07-24 18:33:00  6.352185e+18   \n",
       "260805  Czerwone Maki P+R  2018-07-30 21:19:00  6.352185e+18   \n",
       "151230      Kurdwanów P+R  2018-07-26 11:06:00  6.352185e+18   \n",
       "229003        Cichy Kącik  2018-07-30 08:50:00  6.352185e+18   \n",
       "61238          Wzgórza K.  2018-07-24 10:14:00  6.352185e+18   \n",
       "193317       Mały Płaszów  2018-07-27 10:57:00  6.352185e+18   \n",
       "\n",
       "                    trip_id  seq_num  \n",
       "46049   6351558574044899599      NaN  \n",
       "70448   6351558574044727817     18.0  \n",
       "82986   6351558574044457485      4.0  \n",
       "260805  6351558574044655637     21.0  \n",
       "151230  6351558574047583239      9.0  \n",
       "229003  6351558574044835847     18.0  \n",
       "61238   6351558574044482053     16.0  \n",
       "193317  6351558574046678282     15.0  "
      ]
     },
     "execution_count": 7,
     "metadata": {},
     "output_type": "execute_result"
    }
   ],
   "source": [
    "df.sample(8)"
   ]
  },
  {
   "cell_type": "markdown",
   "id": "mature-detroit",
   "metadata": {},
   "source": [
    "## Missing Values"
   ]
  },
  {
   "cell_type": "code",
   "execution_count": 8,
   "id": "blessed-snapshot",
   "metadata": {},
   "outputs": [
    {
     "data": {
      "text/plain": [
       "id                   0\n",
       "delay           132166\n",
       "datetime        132166\n",
       "stop                 0\n",
       "stop_name            0\n",
       "number               0\n",
       "direction            0\n",
       "planned_time         0\n",
       "vehicle_id           0\n",
       "trip_id              0\n",
       "seq_num           2382\n",
       "dtype: int64"
      ]
     },
     "execution_count": 8,
     "metadata": {},
     "output_type": "execute_result"
    }
   ],
   "source": [
    "df.isna().sum()"
   ]
  },
  {
   "cell_type": "markdown",
   "id": "greek-edgar",
   "metadata": {},
   "source": [
    "## Dealing with features (`feature engineering`)"
   ]
  },
  {
   "cell_type": "code",
   "execution_count": 9,
   "id": "divided-voluntary",
   "metadata": {
    "ExecuteTime": {
     "end_time": "2021-10-30T17:17:23.540425Z",
     "start_time": "2021-10-30T17:17:22.456812Z"
    }
   },
   "outputs": [],
   "source": [
    "from sklearn.preprocessing import LabelEncoder\n",
    "\n",
    "le = LabelEncoder()\n",
    "\n",
    "df[\"stop_name_cat\"] = le.fit_transform(df[\"stop_name\"])\n",
    "df[\"direction_cat\"] = le.fit_transform(df[\"direction\"])\n",
    "\n",
    "# df[\"stop_name_cat\"] = df[\"stop_name\"].factorize()[0] \n",
    "# df[\"direction_cat\"] = df[\"direction\"].factorize()[0]\n",
    "\n",
    "\n",
    "df['trip_id_log'] = df['trip_id'].map(lambda x: np.log10(x))\n",
    "df[\"trip_id_cat\"] = le.fit_transform(df[\"trip_id\"])\n",
    "\n",
    "# df['trip_id_cat'] = df['trip_id'].factorize()[0]"
   ]
  },
  {
   "cell_type": "code",
   "execution_count": 10,
   "id": "looking-desire",
   "metadata": {},
   "outputs": [],
   "source": [
    "df['planned_time'] = pd.to_datetime(df['planned_time'], format='%Y-%m-%d %H:%M:%S')\n",
    "df['day'] = df['planned_time'].dt.dayofweek\n",
    "df['month'] = df['planned_time'].dt.month\n",
    "df['hour'] = df['planned_time'].dt.hour\n",
    "df['minute'] = df['planned_time'].dt.minute\n",
    "df['rush_hours'] = df['hour'].apply(lambda x: 1 if (x > 5 and x < 10) | (x > 14 and x < 19) else 0) # godziny szczytu od 5 do 10 lub od 14 do 19\n",
    "df['night_hours'] = df['hour'].apply(lambda x: 1 if (x < 6 or x > 21) else 0) # godziny nocne od 21 do 6 rano\n",
    "\n",
    "df['vehicle_id_log'] = df['vehicle_id'].map(lambda x: np.log(x))\n",
    "df['vehicle_id_cat'] = pd.factorize(df['vehicle_id_log'])[0]\n",
    "\n",
    "df['stop_hour'] = df['stop']/df['hour']"
   ]
  },
  {
   "cell_type": "code",
   "execution_count": 11,
   "id": "better-console",
   "metadata": {},
   "outputs": [],
   "source": [
    "df['high_seq_num'] = df['seq_num'].map(lambda x: x > 20)\n",
    "df['seq_num'] = df['seq_num'].fillna(99)\n",
    "df['trip_id_seq_num_number'] = df['trip_id_log']*df['seq_num']*df['number']"
   ]
  },
  {
   "cell_type": "code",
   "execution_count": 12,
   "id": "relevant-database",
   "metadata": {},
   "outputs": [
    {
     "data": {
      "text/plain": [
       " 0.0         84271\n",
       " 60.0        59102\n",
       "-60.0        57264\n",
       " 120.0       29546\n",
       "-120.0       28559\n",
       " 180.0       13618\n",
       "-180.0       12921\n",
       " 240.0        6114\n",
       "-240.0        5795\n",
       " 300.0        2719\n",
       "-300.0        2611\n",
       " 360.0        1308\n",
       "-360.0        1214\n",
       "-420.0         684\n",
       " 420.0         658\n",
       " 480.0         365\n",
       "-480.0         360\n",
       "-540.0         244\n",
       " 540.0         236\n",
       "-600.0         126\n",
       " 600.0         125\n",
       " 660.0          68\n",
       "-660.0          60\n",
       " 720.0          48\n",
       "-720.0          39\n",
       "-780.0          32\n",
       " 780.0          28\n",
       " 840.0          10\n",
       "-840.0          10\n",
       " 86520.0         2\n",
       " 86400.0         1\n",
       " 16680.0         1\n",
       " 1140.0          1\n",
       "-960.0           1\n",
       " 187800.0        1\n",
       "-691620.0        1\n",
       " 86640.0         1\n",
       " 86820.0         1\n",
       "-1080.0          1\n",
       " 15660.0         1\n",
       " 15420.0         1\n",
       " 15300.0         1\n",
       " 14280.0         1\n",
       "-900.0           1\n",
       " 259080.0        1\n",
       "Name: time_diff, dtype: int64"
      ]
     },
     "execution_count": 12,
     "metadata": {},
     "output_type": "execute_result"
    }
   ],
   "source": [
    "df['time_diff'] = df['planned_time'].diff()\n",
    "df['time_diff'] = df['time_diff'].dt.total_seconds()\n",
    "df['stop_diff'] = df['stop'].diff()\n",
    "\n",
    "df['time_diff'] = df['time_diff'].fillna(0)\n",
    "\n",
    "df['time_diff'].value_counts()"
   ]
  },
  {
   "cell_type": "markdown",
   "id": "instant-penny",
   "metadata": {},
   "source": [
    "### Bus stops\n",
    "In the previous starter, I already counted the statistics at stops. Now I can go one step further, but to make it easier for us to count, let's do the `df_group_delay` function first."
   ]
  },
  {
   "cell_type": "code",
   "execution_count": 13,
   "id": "graduate-queue",
   "metadata": {
    "ExecuteTime": {
     "end_time": "2021-10-30T17:17:23.692777Z",
     "start_time": "2021-10-30T17:17:23.656065Z"
    }
   },
   "outputs": [],
   "source": [
    "def df_group_delay(df_train, groupby_feats):\n",
    "    agg_params = {\n",
    "        \"mean_{}_delay\".format(\"_\".join(groupby_feats)): (\"delay\", \"mean\"),\n",
    "        \"median_{}_delay\".format(\"_\".join(groupby_feats)): (\"delay\", \"median\"),\n",
    "        \"count_{}_delay\".format(\"_\".join(groupby_feats)): (\"delay\", \"count\"),\n",
    "        \"std_{}_delay\".format(\"_\".join(groupby_feats)): (\"delay\", \"std\"),\n",
    "        \"count_zeros_{}_delay\".format(\"_\".join(groupby_feats)): (\"delay\", lambda vals: len([x for x in vals if x == 0]) ),\n",
    "        \"prob_zeros_{}_delay\".format(\"_\".join(groupby_feats)): (\"delay\", lambda vals: np.mean([x == 0 for x in vals]) ),\n",
    "    }\n",
    "    \n",
    "    return df_train[groupby_feats + [\"delay\"]].groupby(groupby_feats).agg(\n",
    "        **agg_params\n",
    "    ).reset_index()"
   ]
  },
  {
   "cell_type": "markdown",
   "id": "lucky-blame",
   "metadata": {},
   "source": [
    "Now let's use `df_group_delay` and that will be what we achieved recently."
   ]
  },
  {
   "cell_type": "code",
   "execution_count": 14,
   "id": "deluxe-armor",
   "metadata": {
    "ExecuteTime": {
     "end_time": "2021-10-30T17:17:26.256388Z",
     "start_time": "2021-10-30T17:17:23.840875Z"
    }
   },
   "outputs": [],
   "source": [
    "df_tmp = df_group_delay(df_train, [\"stop_name\"])\n",
    "\n",
    "if \"mean_stopname_delay\" not in df:\n",
    "    df = pd.merge(df, df_tmp, on=\"stop_name\", how=\"left\")"
   ]
  },
  {
   "cell_type": "markdown",
   "id": "minor-diary",
   "metadata": {
    "ExecuteTime": {
     "end_time": "2021-10-30T17:27:53.003584Z",
     "start_time": "2021-10-30T17:27:52.975007Z"
    }
   },
   "source": [
    "Now let's add the driving direction (meaning `direction`). The same stop, but you can go in different directions so it will be different cases."
   ]
  },
  {
   "cell_type": "code",
   "execution_count": 15,
   "id": "piano-justice",
   "metadata": {
    "ExecuteTime": {
     "end_time": "2021-10-30T17:17:28.571341Z",
     "start_time": "2021-10-30T17:17:26.370860Z"
    }
   },
   "outputs": [],
   "source": [
    "df_tmp = df_group_delay(df_train, [\"stop_name\", \"direction\"])\n",
    "if \"mean_stopname_direction_delay\" not in df:\n",
    "    df = pd.merge(df, df_tmp, on=[\"stop_name\", \"direction\"], how=\"left\")"
   ]
  },
  {
   "cell_type": "markdown",
   "id": "outdoor-paris",
   "metadata": {},
   "source": [
    "## Select features\n",
    "\n",
    "In addition, we can ignore some features, because if you check them more carefully, it turns out that they do not contribute much."
   ]
  },
  {
   "cell_type": "code",
   "execution_count": 16,
   "id": "realistic-violence",
   "metadata": {
    "ExecuteTime": {
     "end_time": "2021-10-30T17:17:32.737633Z",
     "start_time": "2021-10-30T17:17:31.970565Z"
    }
   },
   "outputs": [
    {
     "data": {
      "text/plain": [
       "['stop',\n",
       " 'number',\n",
       " 'seq_num',\n",
       " 'direction_cat',\n",
       " 'day',\n",
       " 'month',\n",
       " 'hour',\n",
       " 'rush_hours',\n",
       " 'night_hours',\n",
       " 'vehicle_id_log',\n",
       " 'vehicle_id_cat',\n",
       " 'stop_hour',\n",
       " 'trip_id_seq_num_number',\n",
       " 'time_diff',\n",
       " 'mean_stop_name_delay',\n",
       " 'median_stop_name_delay',\n",
       " 'count_stop_name_delay',\n",
       " 'std_stop_name_delay',\n",
       " 'count_zeros_stop_name_delay',\n",
       " 'prob_zeros_stop_name_delay',\n",
       " 'mean_stop_name_direction_delay',\n",
       " 'median_stop_name_direction_delay',\n",
       " 'count_stop_name_direction_delay',\n",
       " 'std_stop_name_direction_delay',\n",
       " 'count_zeros_stop_name_direction_delay',\n",
       " 'prob_zeros_stop_name_direction_delay']"
      ]
     },
     "execution_count": 16,
     "metadata": {},
     "output_type": "execute_result"
    }
   ],
   "source": [
    "feats = df.select_dtypes(\"number\").columns\n",
    "black_list = [\"id\", \"delay\", \"trip_id\", 'trip_id_log', 'vehicle_id', 'super_seq', 'stop_name_cat', 'est_delay', 'minute', 'seq_num_^2_median', \n",
    "              'seq_num_tmp','no_delays_stops','seq_num_power2', 'trip_id_seq_num_number_m_frec','day_frec','trip_id_cat', 'stop_diff']\n",
    "feats = [x for x in feats if x not in black_list]\n",
    "\n",
    "feats"
   ]
  },
  {
   "cell_type": "markdown",
   "id": "actual-hampton",
   "metadata": {},
   "source": [
    "## Preparing `X` and `y`"
   ]
  },
  {
   "cell_type": "code",
   "execution_count": 17,
   "id": "satisfied-gallery",
   "metadata": {
    "ExecuteTime": {
     "end_time": "2021-10-30T17:17:37.549812Z",
     "start_time": "2021-10-30T17:17:36.752658Z"
    }
   },
   "outputs": [],
   "source": [
    "df_train = df[ df[\"delay\"].notnull() ].copy().fillna(-1)\n",
    "df_test = df[ df[\"delay\"].isnull() ].copy().fillna(-1)\n",
    "\n",
    "X_train = df_train[feats].fillna(-1).values\n",
    "y_train = df_train[\"delay\"].values\n",
    "X_test = df_test[feats].fillna(-1).values"
   ]
  },
  {
   "cell_type": "markdown",
   "id": "afraid-button",
   "metadata": {},
   "source": [
    "## Building the model"
   ]
  },
  {
   "cell_type": "code",
   "execution_count": 19,
   "id": "parallel-syndrome",
   "metadata": {},
   "outputs": [],
   "source": [
    "from sklearn.model_selection import cross_val_score\n",
    "import xgboost as xgb"
   ]
  },
  {
   "cell_type": "code",
   "execution_count": 20,
   "id": "closing-snowboard",
   "metadata": {},
   "outputs": [],
   "source": [
    "training_data = xgb.DMatrix(data=X_train,label=y_train)\n",
    "\n",
    "params = {\n",
    "    'objective':'reg:squarederror',\n",
    "    'colsample_bytree': 0.3,\n",
    "    'learning_rate': 0.1,\n",
    "    'max_depth': 5\n",
    "}\n",
    "\n",
    "cv_results_mae = xgb.cv(\n",
    "    dtrain=training_data,\n",
    "    params=untuned_params,\n",
    "    nfold=4,\n",
    "    num_boost_round=200,\n",
    "    metrics='mae',\n",
    "    as_pandas=True\n",
    ")"
   ]
  },
  {
   "cell_type": "code",
   "execution_count": 21,
   "id": "white-dragon",
   "metadata": {},
   "outputs": [
    {
     "data": {
      "text/plain": [
       "(32.33015102125, 32.600306885)"
      ]
     },
     "execution_count": 21,
     "metadata": {},
     "output_type": "execute_result"
    }
   ],
   "source": [
    "np.mean(cv_results_mae['train-mae-mean']), np.mean(cv_results_mae['test-mae-mean'])"
   ]
  }
 ],
 "metadata": {
  "kernelspec": {
   "display_name": "Python 3",
   "language": "python",
   "name": "python3"
  },
  "language_info": {
   "codemirror_mode": {
    "name": "ipython",
    "version": 3
   },
   "file_extension": ".py",
   "mimetype": "text/x-python",
   "name": "python",
   "nbconvert_exporter": "python",
   "pygments_lexer": "ipython3",
   "version": "3.8.6"
  }
 },
 "nbformat": 4,
 "nbformat_minor": 5
}
