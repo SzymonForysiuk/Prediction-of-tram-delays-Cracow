{
 "cells": [
  {
   "cell_type": "markdown",
   "id": "opening-flood",
   "metadata": {},
   "source": [
    "# Prediction of tram delays in Cracow"
   ]
  },
  {
   "cell_type": "markdown",
   "id": "looking-stability",
   "metadata": {},
   "source": [
    "## Dataset\n",
    "\n",
    "There are 308,152 rows/records in the data that have been divided into almost equal parts:\n",
    "\n",
    "-tram.train.h5 (175 986 rows)\n",
    "\n",
    "-tram.test.h5 (132 166 rows)\n",
    "\n",
    "<strong>This is real data.</strong>"
   ]
  },
  {
   "cell_type": "code",
   "execution_count": 1,
   "id": "identical-power",
   "metadata": {},
   "outputs": [],
   "source": [
    "import pandas as pd\n",
    "import numpy as np\n",
    "import matplotlib.pyplot as plt\n",
    "import seaborn as sns\n",
    "np.random.seed(0)\n",
    "\n",
    "from sklearn.metrics import mean_absolute_error\n",
    "from sklearn.model_selection import cross_val_score\n",
    "\n",
    "from sklearn.dummy import DummyRegressor\n",
    "import xgboost as xgb\n",
    "\n",
    "import eli5\n",
    "import warnings\n",
    "warnings.filterwarnings('ignore')\n",
    "\n",
    "pd.set_option('display.max_rows', 1000)\n",
    "pd.set_option('display.max_columns', 1000)\n",
    "pd.set_option('display.width', 1000)\n"
   ]
  },
  {
   "cell_type": "code",
   "execution_count": 2,
   "id": "monthly-convenience",
   "metadata": {
    "ExecuteTime": {
     "end_time": "2021-10-30T17:17:21.704820Z",
     "start_time": "2021-10-30T17:17:19.902476Z"
    }
   },
   "outputs": [
    {
     "name": "stdout",
     "output_type": "stream",
     "text": [
      "(175986, 11) (132166, 9)\n"
     ]
    }
   ],
   "source": [
    "df_train = pd.read_hdf('../input/tram.train.h5')\n",
    "df_test = pd.read_hdf('../input/tram.test.h5') #dataset without labels\n",
    "\n",
    "print(df_train.shape, df_test.shape)"
   ]
  },
  {
   "cell_type": "markdown",
   "id": "undefined-malawi",
   "metadata": {},
   "source": [
    "## Concat datasets and leaving delay columns separated\n",
    "\n",
    "Concatting `df_train` with ` df_test` and signing it to `df`."
   ]
  },
  {
   "cell_type": "code",
   "execution_count": 3,
   "id": "blind-street",
   "metadata": {},
   "outputs": [
    {
     "data": {
      "text/plain": [
       "0           0\n",
       "1           0\n",
       "2           0\n",
       "3           0\n",
       "4           0\n",
       "         ... \n",
       "308147      0\n",
       "308148    660\n",
       "308149    660\n",
       "308150    660\n",
       "308151    660\n",
       "Name: delay, Length: 175986, dtype: int64"
      ]
     },
     "execution_count": 3,
     "metadata": {},
     "output_type": "execute_result"
    }
   ],
   "source": [
    "delay = df_train['delay']\n",
    "#df_train.drop('delay', axis=1, inplace=True) #Leaving y label - delay unchanged\n",
    "delay"
   ]
  },
  {
   "cell_type": "code",
   "execution_count": 4,
   "id": "moderate-platinum",
   "metadata": {
    "ExecuteTime": {
     "end_time": "2021-10-30T17:17:22.336441Z",
     "start_time": "2021-10-30T17:17:21.806489Z"
    },
    "scrolled": true
   },
   "outputs": [
    {
     "data": {
      "text/plain": [
       "(308152, 11)"
      ]
     },
     "execution_count": 4,
     "metadata": {},
     "output_type": "execute_result"
    }
   ],
   "source": [
    "df = pd.concat([df_train, df_test])\n",
    "df.shape"
   ]
  },
  {
   "cell_type": "code",
   "execution_count": 5,
   "id": "capital-making",
   "metadata": {},
   "outputs": [
    {
     "data": {
      "text/html": [
       "<div>\n",
       "<style scoped>\n",
       "    .dataframe tbody tr th:only-of-type {\n",
       "        vertical-align: middle;\n",
       "    }\n",
       "\n",
       "    .dataframe tbody tr th {\n",
       "        vertical-align: top;\n",
       "    }\n",
       "\n",
       "    .dataframe thead th {\n",
       "        text-align: right;\n",
       "    }\n",
       "</style>\n",
       "<table border=\"1\" class=\"dataframe\">\n",
       "  <thead>\n",
       "    <tr style=\"text-align: right;\">\n",
       "      <th></th>\n",
       "      <th>id</th>\n",
       "      <th>delay</th>\n",
       "      <th>datetime</th>\n",
       "      <th>stop</th>\n",
       "      <th>stop_name</th>\n",
       "      <th>number</th>\n",
       "      <th>direction</th>\n",
       "      <th>planned_time</th>\n",
       "      <th>vehicle_id</th>\n",
       "      <th>trip_id</th>\n",
       "      <th>seq_num</th>\n",
       "    </tr>\n",
       "  </thead>\n",
       "  <tbody>\n",
       "    <tr>\n",
       "      <th>46049</th>\n",
       "      <td>46049</td>\n",
       "      <td>180.0</td>\n",
       "      <td>2018-07-23 22:46:12</td>\n",
       "      <td>409</td>\n",
       "      <td>Centralna</td>\n",
       "      <td>22</td>\n",
       "      <td>Kombinat</td>\n",
       "      <td>2018-07-23 22:43:00</td>\n",
       "      <td>6.352185e+18</td>\n",
       "      <td>6351558574044899599</td>\n",
       "      <td>NaN</td>\n",
       "    </tr>\n",
       "    <tr>\n",
       "      <th>70448</th>\n",
       "      <td>70448</td>\n",
       "      <td>NaN</td>\n",
       "      <td>NaN</td>\n",
       "      <td>367</td>\n",
       "      <td>Francesco Nullo</td>\n",
       "      <td>14</td>\n",
       "      <td>Mistrzejowice</td>\n",
       "      <td>2018-07-24 14:09:00</td>\n",
       "      <td>6.352185e+18</td>\n",
       "      <td>6351558574044727817</td>\n",
       "      <td>18.0</td>\n",
       "    </tr>\n",
       "    <tr>\n",
       "      <th>82986</th>\n",
       "      <td>82986</td>\n",
       "      <td>NaN</td>\n",
       "      <td>NaN</td>\n",
       "      <td>89</td>\n",
       "      <td>Bronowice</td>\n",
       "      <td>4</td>\n",
       "      <td>Wzgórza K.</td>\n",
       "      <td>2018-07-24 18:33:00</td>\n",
       "      <td>6.352185e+18</td>\n",
       "      <td>6351558574044457485</td>\n",
       "      <td>4.0</td>\n",
       "    </tr>\n",
       "  </tbody>\n",
       "</table>\n",
       "</div>"
      ],
      "text/plain": [
       "          id  delay             datetime  stop        stop_name  number      direction         planned_time    vehicle_id              trip_id  seq_num\n",
       "46049  46049  180.0  2018-07-23 22:46:12   409        Centralna      22       Kombinat  2018-07-23 22:43:00  6.352185e+18  6351558574044899599      NaN\n",
       "70448  70448    NaN                  NaN   367  Francesco Nullo      14  Mistrzejowice  2018-07-24 14:09:00  6.352185e+18  6351558574044727817     18.0\n",
       "82986  82986    NaN                  NaN    89        Bronowice       4     Wzgórza K.  2018-07-24 18:33:00  6.352185e+18  6351558574044457485      4.0"
      ]
     },
     "execution_count": 5,
     "metadata": {},
     "output_type": "execute_result"
    }
   ],
   "source": [
    "df.sample(3)"
   ]
  },
  {
   "cell_type": "code",
   "execution_count": 6,
   "id": "laughing-brisbane",
   "metadata": {},
   "outputs": [
    {
     "name": "stdout",
     "output_type": "stream",
     "text": [
      "Mean: 61.5168252020047\n",
      "max: 1140\n",
      "min: 0\n",
      "std: 82.48747691641832\n",
      "Q_1: 0.0\n",
      "Median: 60.0\n",
      "Q_3: 120.0\n",
      "Odległość abbsolutna miedzy Q_1 i Q_3: 120.0\n"
     ]
    },
    {
     "data": {
      "image/png": "[encoded data removed]",
      "text/plain": [
       "<Figure size 432x288 with 1 Axes>"
      ]
     },
     "metadata": {
      "needs_background": "light"
     },
     "output_type": "display_data"
    }
   ],
   "source": [
    "from scipy.stats import iqr\n",
    "\n",
    "mean = np.mean(delay)\n",
    "max = np.max(delay)\n",
    "min = np.min(delay)\n",
    "std = np.std(delay)\n",
    "q_1 = np.quantile(delay, .25)\n",
    "median = np.quantile(delay, .50)\n",
    "q_3 = np.quantile(delay, .75)\n",
    "iqr = iqr(delay) #odleglosc absolutna miedzy Q_1 i Q_3\n",
    "\n",
    "print('Mean: {}'.format(mean))\n",
    "print('max: {}'.format(max))\n",
    "print('min: {}'.format(min))\n",
    "print('std: {}'.format(std))\n",
    "print('Q_1: {}'.format(q_1))\n",
    "print('Median: {}'.format(median))\n",
    "print('Q_3: {}'.format(q_3))\n",
    "print('Odległość abbsolutna miedzy Q_1 i Q_3: {}'.format(iqr))\n",
    "\n",
    "import seaborn as sns\n",
    "\n",
    "sns.boxplot(x=delay)\n",
    "plt.show()"
   ]
  },
  {
   "cell_type": "markdown",
   "id": "adult-detector",
   "metadata": {},
   "source": [
    "### Dealing with features (`feature engineering`)"
   ]
  },
  {
   "cell_type": "markdown",
   "id": "qualified-kitty",
   "metadata": {},
   "source": [
    "Krakow is one of the largest cities in Poland, which can result in streetcar delays caused by rush hour - when there are longer waits for public transportation.There are different dynamics during rush hour.\n",
    "\n",
    "A hypothesis arises to show the model directly what time it is. <strong> We pull this hour from `planned_time` - the variable tells us what time the planned tram ride was. </strong>\n",
    "\n",
    "Using `pd.to_datetime` we map planned_time to a datetime type, which allows us to work with dates more easily."
   ]
  },
  {
   "cell_type": "code",
   "execution_count": 7,
   "id": "enabling-charlotte",
   "metadata": {},
   "outputs": [],
   "source": [
    "df.drop('id', axis=1, inplace=True)"
   ]
  },
  {
   "cell_type": "code",
   "execution_count": 8,
   "id": "whole-canon",
   "metadata": {},
   "outputs": [],
   "source": [
    "df['planned_time'] = pd.to_datetime(df['planned_time'], format='%Y-%m-%d %H:%M:%S')\n",
    "df['day'] = df['planned_time'].dt.dayofweek\n",
    "\n",
    "df['month'] = df['planned_time'].dt.month\n",
    "\n",
    "df['hour'] = df['planned_time'].dt.hour\n",
    "\n",
    "df['minute'] = df['planned_time'].dt.minute\n",
    "\n",
    "df['time_diff'] = df['planned_time'].diff()"
   ]
  },
  {
   "cell_type": "code",
   "execution_count": 9,
   "id": "quantitative-bacteria",
   "metadata": {},
   "outputs": [],
   "source": [
    "df['time_diff'] = df['time_diff'].dt.total_seconds()\n",
    "\n",
    "df['stop_diff'] = df['stop'].diff()\n",
    "df['stop_hour'] = df['stop']/df['hour']\n",
    "\n",
    "df['rush_hours'] = df['hour'].apply(lambda x: 1 if (x > 5 and x < 10) | (x > 14 and x < 19) else 0) # rush_hours\n",
    "df['night_hours'] = df['hour'].apply(lambda x: 1 if (x < 6 or x > 21) else 0) # night_hours"
   ]
  },
  {
   "cell_type": "code",
   "execution_count": 10,
   "id": "deadly-johnston",
   "metadata": {},
   "outputs": [],
   "source": [
    "df['vehicle_id_log'] = df['vehicle_id'].map(lambda x: np.log(x))\n",
    "\n",
    "df['vehicle_id_cat'] = pd.factorize(df['vehicle_id_log'])[0]"
   ]
  },
  {
   "cell_type": "code",
   "execution_count": 11,
   "id": "empty-trace",
   "metadata": {},
   "outputs": [],
   "source": [
    "len(df['planned_time'].unique()) \n",
    "\n",
    "# planned_time columns is not needed any more\n",
    "#I used this column to extract every possible information \n",
    "#such as day, month, hour, minute, time_diff and so on.\n",
    "\n",
    "df.drop('planned_time', axis=1, inplace=True)"
   ]
  },
  {
   "cell_type": "markdown",
   "id": "involved-inspector",
   "metadata": {},
   "source": [
    "### Bus stops\n",
    "There are probably some streetcar stops that are more frequently used and prone to delay.\n",
    "For extracting more data, you can collect more information about delays occurring at specific stops (e.g., average value, standard deviation).\n",
    "Let's also count how often no delay occurred at a particular stop (zero delay) - `count_zeros_stopname_delay`."
   ]
  },
  {
   "cell_type": "code",
   "execution_count": 12,
   "id": "refined-stick",
   "metadata": {
    "ExecuteTime": {
     "end_time": "2021-10-30T17:17:23.692777Z",
     "start_time": "2021-10-30T17:17:23.656065Z"
    }
   },
   "outputs": [],
   "source": [
    "def df_group_delay(df_train, groupby_feats):\n",
    "    agg_params = {\n",
    "        \"mean_{}_delay\".format(\"_\".join(groupby_feats)): (\"delay\", \"mean\"),\n",
    "        \"median_{}_delay\".format(\"_\".join(groupby_feats)): (\"delay\", \"median\"),\n",
    "        \"count_{}_delay\".format(\"_\".join(groupby_feats)): (\"delay\", \"count\"),\n",
    "        \"std_{}_delay\".format(\"_\".join(groupby_feats)): (\"delay\", \"std\"),\n",
    "        \"count_zeros_{}_delay\".format(\"_\".join(groupby_feats)): (\"delay\", lambda vals: len([x for x in vals if x == 0]) ),\n",
    "        \"prob_zeros_{}_delay\".format(\"_\".join(groupby_feats)): (\"delay\", lambda vals: np.mean([x == 0 for x in vals]) ),\n",
    "    }\n",
    "    \n",
    "    return df_train[groupby_feats + [\"delay\"]].groupby(groupby_feats).agg(**agg_params).reset_index()"
   ]
  },
  {
   "cell_type": "markdown",
   "id": "virgin-floor",
   "metadata": {},
   "source": [
    "### Converting object columns into dummies columns"
   ]
  },
  {
   "cell_type": "code",
   "execution_count": 13,
   "id": "million-working",
   "metadata": {},
   "outputs": [
    {
     "data": {
      "text/html": [
       "<div>\n",
       "<style scoped>\n",
       "    .dataframe tbody tr th:only-of-type {\n",
       "        vertical-align: middle;\n",
       "    }\n",
       "\n",
       "    .dataframe tbody tr th {\n",
       "        vertical-align: top;\n",
       "    }\n",
       "\n",
       "    .dataframe thead th {\n",
       "        text-align: right;\n",
       "    }\n",
       "</style>\n",
       "<table border=\"1\" class=\"dataframe\">\n",
       "  <thead>\n",
       "    <tr style=\"text-align: right;\">\n",
       "      <th></th>\n",
       "      <th>datetime</th>\n",
       "      <th>stop_name</th>\n",
       "      <th>direction</th>\n",
       "    </tr>\n",
       "  </thead>\n",
       "  <tbody>\n",
       "    <tr>\n",
       "      <th>0</th>\n",
       "      <td>2018-07-23 06:00:47</td>\n",
       "      <td>Borsucza</td>\n",
       "      <td>Walcownia</td>\n",
       "    </tr>\n",
       "    <tr>\n",
       "      <th>1</th>\n",
       "      <td>2018-07-23 06:00:48</td>\n",
       "      <td>Smolki</td>\n",
       "      <td>Czerwone Maki P+R</td>\n",
       "    </tr>\n",
       "    <tr>\n",
       "      <th>2</th>\n",
       "      <td>2018-07-23 06:00:49</td>\n",
       "      <td>Filharmonia</td>\n",
       "      <td>Bronowice Małe</td>\n",
       "    </tr>\n",
       "    <tr>\n",
       "      <th>3</th>\n",
       "      <td>2018-07-23 06:00:51</td>\n",
       "      <td>Hala Targowa</td>\n",
       "      <td>Salwator</td>\n",
       "    </tr>\n",
       "    <tr>\n",
       "      <th>4</th>\n",
       "      <td>2018-07-23 06:00:52</td>\n",
       "      <td>Batorego</td>\n",
       "      <td>Bronowice Małe</td>\n",
       "    </tr>\n",
       "    <tr>\n",
       "      <th>...</th>\n",
       "      <td>...</td>\n",
       "      <td>...</td>\n",
       "      <td>...</td>\n",
       "    </tr>\n",
       "    <tr>\n",
       "      <th>308141</th>\n",
       "      <td>NaN</td>\n",
       "      <td>Bronowice</td>\n",
       "      <td>Bronowice Małe</td>\n",
       "    </tr>\n",
       "    <tr>\n",
       "      <th>308142</th>\n",
       "      <td>NaN</td>\n",
       "      <td>Kampus UJ</td>\n",
       "      <td>Czerwone Maki P+R</td>\n",
       "    </tr>\n",
       "    <tr>\n",
       "      <th>308143</th>\n",
       "      <td>NaN</td>\n",
       "      <td>Wesele</td>\n",
       "      <td>Bronowice Małe</td>\n",
       "    </tr>\n",
       "    <tr>\n",
       "      <th>308144</th>\n",
       "      <td>NaN</td>\n",
       "      <td>Bieżanowska</td>\n",
       "      <td>Kurdwanów P+R</td>\n",
       "    </tr>\n",
       "    <tr>\n",
       "      <th>308145</th>\n",
       "      <td>NaN</td>\n",
       "      <td>Chmieleniec</td>\n",
       "      <td>Czerwone Maki P+R</td>\n",
       "    </tr>\n",
       "  </tbody>\n",
       "</table>\n",
       "<p>308152 rows × 3 columns</p>\n",
       "</div>"
      ],
      "text/plain": [
       "                   datetime     stop_name          direction\n",
       "0       2018-07-23 06:00:47      Borsucza          Walcownia\n",
       "1       2018-07-23 06:00:48        Smolki  Czerwone Maki P+R\n",
       "2       2018-07-23 06:00:49   Filharmonia     Bronowice Małe\n",
       "3       2018-07-23 06:00:51  Hala Targowa           Salwator\n",
       "4       2018-07-23 06:00:52      Batorego     Bronowice Małe\n",
       "...                     ...           ...                ...\n",
       "308141                  NaN     Bronowice     Bronowice Małe\n",
       "308142                  NaN     Kampus UJ  Czerwone Maki P+R\n",
       "308143                  NaN        Wesele     Bronowice Małe\n",
       "308144                  NaN   Bieżanowska      Kurdwanów P+R\n",
       "308145                  NaN   Chmieleniec  Czerwone Maki P+R\n",
       "\n",
       "[308152 rows x 3 columns]"
      ]
     },
     "execution_count": 13,
     "metadata": {},
     "output_type": "execute_result"
    }
   ],
   "source": [
    "df.select_dtypes('object')"
   ]
  },
  {
   "cell_type": "code",
   "execution_count": 14,
   "id": "foster-novelty",
   "metadata": {},
   "outputs": [
    {
     "name": "stdout",
     "output_type": "stream",
     "text": [
      "Czerwone Maki P+R    36743\n",
      "Bronowice Małe       35937\n",
      "Krowodrza Górka      35372\n",
      "Nowy Bieżanów P+R    22648\n",
      "Wzgórza K.           22416\n",
      "Borek Fałęcki        18488\n",
      "Kurdwanów P+R        18293\n",
      "Os.Piastów           18169\n",
      "Salwator             16224\n",
      "Mistrzejowice        15089\n",
      "Mały Płaszów         13517\n",
      "Bronowice            10259\n",
      "Prokocim              9296\n",
      "Kopiec Wandy          7965\n",
      "Cichy Kącik           7480\n",
      "Walcownia             6276\n",
      "Łagiewniki            5410\n",
      "Dworzec Tow.          5393\n",
      "Cm. Rakowicki         1788\n",
      "Kombinat              1389\n",
      "Name: direction, dtype: int64 \n",
      "\n"
     ]
    }
   ],
   "source": [
    "print(df['direction'].value_counts(), '\\n')\n",
    "\n",
    "direction = pd.get_dummies(df['direction'], prefix = 'direction', drop_first=True)\n",
    "\n",
    "df.drop('direction', axis=1, inplace=True)"
   ]
  },
  {
   "cell_type": "code",
   "execution_count": 15,
   "id": "duplicate-desert",
   "metadata": {
    "scrolled": false
   },
   "outputs": [
    {
     "name": "stdout",
     "output_type": "stream",
     "text": [
      "Rondo Mogilskie                            6766\n",
      "Dworzec Główny                             6699\n",
      "Stradom                                    5062\n",
      "Rondo Grzegórzeckie                        5004\n",
      "Kabel                                      4800\n",
      "Starowiślna                                4755\n",
      "Rondo Czyżyńskie                           4516\n",
      "Bieżanowska                                4318\n",
      "Podgórze SKA                               4315\n",
      "Teatr Bagatela                             4289\n",
      "Poczta Główna                              4131\n",
      "Stary Kleparz                              4131\n",
      "Lubicz                                     4126\n",
      "Dworzec Towarowy                           3722\n",
      "Dworcowa                                   3674\n",
      "Filharmonia                                3592\n",
      "Korona                                     3571\n",
      "Cmentarz Podgórski                         3564\n",
      "Biprostal                                  3515\n",
      "Bratysławska                               3454\n",
      "Plac Wszystkich Świętych                   3445\n",
      "Urzędnicza                                 3425\n",
      "Uniwersytet Pedagogiczny                   3402\n",
      "Plac Inwalidów                             3378\n",
      "Rondo Kocmyrzowskie im. Ks. Gorzelanego    3338\n",
      "Wawel                                      3196\n",
      "Głowackiego                                3177\n",
      "Szpital Narutowicza                        3088\n",
      "TAURON Arena Kraków Wieczysta              3034\n",
      "Lipińskiego                                2968\n",
      "Centrum Kongresowe ICE                     2962\n",
      "Św.Gertrudy                                2944\n",
      "AWF                                        2925\n",
      "Cystersów                                  2910\n",
      "Batorego                                   2824\n",
      "Białucha                                   2783\n",
      "Czyżyny                                    2747\n",
      "Stella-Sawickiego                          2745\n",
      "Norymberska                                2720\n",
      "Grota-Roweckiego                           2680\n",
      "Politechnika                               2653\n",
      "Plac Bohaterów Getta                       2644\n",
      "Szwedzka                                   2638\n",
      "Bronowice Wiadukt                          2622\n",
      "Wlotowa                                    2622\n",
      "Słomiana                                   2621\n",
      "Kobierzyńska                               2616\n",
      "Chmieleniec                                2601\n",
      "Wesele                                     2593\n",
      "Kapelanka                                  2586\n",
      "Lipska                                     2579\n",
      "Orzeszkowej                                2578\n",
      "Kuklińskiego                               2551\n",
      "Ruczaj                                     2513\n",
      "Św.Wawrzyńca                               2488\n",
      "Kampus UJ                                  2485\n",
      "Bronowice                                  2467\n",
      "Rondo Matecznego                           2440\n",
      "Muzeum Lotnictwa                           2419\n",
      "Miodowa                                    2370\n",
      "Zabłocie                                   2294\n",
      "Gromadzka                                  2254\n",
      "Klimeckiego                                2225\n",
      "Plac Centralny im. R.Reagana               2208\n",
      "Smolki                                     2130\n",
      "DH Wanda                                   2081\n",
      "Rondo Hipokratesa                          2021\n",
      "Dworzec Główny Tunel                       2016\n",
      "Rzemieślnicza                              2015\n",
      "Os.Kolorowe                                1992\n",
      "Łagiewniki                                 1933\n",
      "Teligi                                     1892\n",
      "Limanowskiego                              1886\n",
      "Hala Targowa                               1886\n",
      "Dunikowskiego                              1872\n",
      "Ćwiklińskiej                               1835\n",
      "Plac Wolnica                               1835\n",
      "Salwator                                   1806\n",
      "Krowodrza Górka                            1797\n",
      "Nowy Prokocim                              1796\n",
      "Jubilat                                    1787\n",
      "Piaski Nowe                                1699\n",
      "Dworzec Płaszów Estakada                   1689\n",
      "Dauna                                      1675\n",
      "Teatr Variété                              1613\n",
      "Centralna                                  1590\n",
      "Ofiar Dąbia                                1564\n",
      "Dąbie                                      1559\n",
      "Bronowice Małe                             1557\n",
      "Czerwone Maki P+R                          1538\n",
      "M1 Al. Pokoju                              1519\n",
      "Darwina                                    1508\n",
      "Solvay                                     1458\n",
      "Rondo 308. Dywizjonu                       1455\n",
      "Nowosądecka                                1453\n",
      "TAURON Arena Kraków Al. Pokoju             1399\n",
      "Witosa                                     1371\n",
      "Struga                                     1361\n",
      "Rzebika                                    1348\n",
      "Teatr Ludowy                               1347\n",
      "Wiadukty                                   1340\n",
      "Jarzębiny                                  1318\n",
      "Francesco Nullo                            1314\n",
      "Prokocim Szpital                           1297\n",
      "Piasta Kołodzieja                          1290\n",
      "Plaza                                      1239\n",
      "Bieńczycka                                 1224\n",
      "Kombinat                                   1217\n",
      "Kleeberga                                  1199\n",
      "Fabryczna                                  1194\n",
      "Prokocim                                   1162\n",
      "Komorowskiego                              1134\n",
      "Wzgórza Krzesławickie                      1058\n",
      "Nowy Kleparz                               1042\n",
      "Muzeum Narodowe                             986\n",
      "Nowy Bieżanów P+R                           966\n",
      "Sanktuarium Bożego Miłosierdzia             960\n",
      "Wańkowicza                                  945\n",
      "Borsucza                                    898\n",
      "Oleandry                                    874\n",
      "Miśnieńska                                  855\n",
      "Borek Fałęcki                               847\n",
      "Rondo Piastowskie                           847\n",
      "Mały Płaszów                                838\n",
      "Borek Fałęcki I                             828\n",
      "Park Jordana                                781\n",
      "Pędzichów                                   703\n",
      "Os.Złotego Wieku                            693\n",
      "Os.Piastów                                  642\n",
      "Cichy Kącik                                 641\n",
      "Reymana                                     603\n",
      "Łagiewniki ZUS                              565\n",
      "Os.Zgody                                    510\n",
      "Zajezdnia Nowa Huta                         508\n",
      "Os.Na Skarpie                               500\n",
      "Dworzec Główny Zachód                       475\n",
      "Cmentarz Rakowicki                          456\n",
      "Uniwersytet Ekonomiczny                     441\n",
      "Klasztorna                                  436\n",
      "Cienista                                    424\n",
      "Brożka                                      413\n",
      "Mistrzejowice                               392\n",
      "Elektromontaż                               355\n",
      "Kurdwanów P+R                               291\n",
      "Suche Stawy                                 252\n",
      "Uniwersytet Jagielloński                    227\n",
      "Walcownia                                   189\n",
      "Blokowa                                     188\n",
      "Mrozowa                                     181\n",
      "Agencja Kraków Wschód                       149\n",
      "Rakowicka                                   109\n",
      "Bardosa                                      65\n",
      "Kopiec Wandy                                 45\n",
      "PH                                            1\n",
      "Name: stop_name, dtype: int64 \n",
      "\n"
     ]
    }
   ],
   "source": [
    "print(df['stop_name'].value_counts(), '\\n')\n",
    "\n",
    "stop_name = pd.get_dummies(df['stop_name'], prefix = 'stop_name', drop_first=True)\n",
    "\n",
    "df.drop('stop_name', axis=1, inplace=True)"
   ]
  },
  {
   "cell_type": "code",
   "execution_count": 16,
   "id": "dated-scheduling",
   "metadata": {},
   "outputs": [],
   "source": [
    "len(df['datetime'].unique()) \n",
    "\n",
    "# datatime column contains np.nan values when delay column (y label column) is also np.nan\n",
    "# delay column is the result of subtraction between planned_time column and datatime column\n",
    "\n",
    "df.drop('datetime', axis=1, inplace=True)"
   ]
  },
  {
   "cell_type": "code",
   "execution_count": 17,
   "id": "separated-chamber",
   "metadata": {
    "ExecuteTime": {
     "end_time": "2021-10-30T17:17:26.256388Z",
     "start_time": "2021-10-30T17:17:23.840875Z"
    }
   },
   "outputs": [],
   "source": [
    "#stop_name_delay = df_group_delay(df_train, [\"stop_name\"]) #Now let's use df_group_delay and that will be what we achieved recently.\n",
    "\n",
    "#if \"mean_stop_name_delay\" not in df: #concatting the main df with the dataframe in delays at specific tram stops.\n",
    "#    df = pd.merge(df, stop_name_delay, on=\"stop_name\", how=\"left\")\n",
    "\n",
    "#Let's add the driving direction (meaning `direction`). <strong>The same stop, but you can go in different directions so it will be different cases.  </strong>"
   ]
  },
  {
   "cell_type": "markdown",
   "id": "continental-individual",
   "metadata": {},
   "source": [
    "### NaN Values"
   ]
  },
  {
   "cell_type": "code",
   "execution_count": 18,
   "id": "creative-produce",
   "metadata": {},
   "outputs": [
    {
     "name": "stdout",
     "output_type": "stream",
     "text": [
      "['delay', 'seq_num', 'time_diff', 'stop_diff']\n"
     ]
    },
    {
     "data": {
      "text/plain": [
       "<AxesSubplot:>"
      ]
     },
     "execution_count": 18,
     "metadata": {},
     "output_type": "execute_result"
    },
    {
     "data": {
      "image/png": "[encoded data removed]",
      "text/plain": [
       "<Figure size 1800x720 with 2 Axes>"
      ]
     },
     "metadata": {
      "needs_background": "light"
     },
     "output_type": "display_data"
    }
   ],
   "source": [
    "import missingno as msno\n",
    "\n",
    "print(df.columns[df.isna().any()].tolist())\n",
    "msno.matrix(df.sample(250), labels=True)"
   ]
  },
  {
   "cell_type": "code",
   "execution_count": 19,
   "id": "private-friday",
   "metadata": {},
   "outputs": [
    {
     "data": {
      "text/plain": [
       "<AxesSubplot:xlabel='seq_num'>"
      ]
     },
     "execution_count": 19,
     "metadata": {},
     "output_type": "execute_result"
    },
    {
     "data": {
      "image/png": "[encoded data removed]",
      "text/plain": [
       "<Figure size 432x288 with 1 Axes>"
      ]
     },
     "metadata": {
      "needs_background": "light"
     },
     "output_type": "display_data"
    }
   ],
   "source": [
    "sns.boxplot(df['seq_num'])"
   ]
  },
  {
   "cell_type": "code",
   "execution_count": 20,
   "id": "certified-interstate",
   "metadata": {},
   "outputs": [
    {
     "name": "stdout",
     "output_type": "stream",
     "text": [
      "7.0     13410\n",
      "1.0     12939\n",
      "5.0     12813\n",
      "10.0    12808\n",
      "12.0    12527\n",
      "11.0    12421\n",
      "15.0    12383\n",
      "16.0    12238\n",
      "8.0     12227\n",
      "13.0    12209\n",
      "9.0     12103\n",
      "17.0    11998\n",
      "3.0     11990\n",
      "4.0     11885\n",
      "14.0    11582\n",
      "6.0     11541\n",
      "2.0     10810\n",
      "18.0    10500\n",
      "20.0     9137\n",
      "19.0     9119\n",
      "21.0     8883\n",
      "22.0     8311\n",
      "23.0     7797\n",
      "25.0     7162\n",
      "24.0     7024\n",
      "27.0     5470\n",
      "26.0     5233\n",
      "28.0     3240\n",
      "29.0     2909\n",
      "31.0     2747\n",
      "32.0     2633\n",
      "30.0     2604\n",
      "NaN      2382\n",
      "33.0     1974\n",
      "34.0     1819\n",
      "35.0      994\n",
      "36.0      258\n",
      "37.0       72\n",
      "Name: seq_num, dtype: int64\n"
     ]
    }
   ],
   "source": [
    "print(df['seq_num'].value_counts(dropna=False))\n",
    "\n",
    "df.dropna(subset=['seq_num'], inplace=True)"
   ]
  },
  {
   "cell_type": "code",
   "execution_count": 21,
   "id": "elementary-enforcement",
   "metadata": {},
   "outputs": [
    {
     "data": {
      "text/plain": [
       "<AxesSubplot:xlabel='time_diff'>"
      ]
     },
     "execution_count": 21,
     "metadata": {},
     "output_type": "execute_result"
    },
    {
     "data": {
      "image/png": "[encoded data removed]",
      "text/plain": [
       "<Figure size 432x288 with 1 Axes>"
      ]
     },
     "metadata": {
      "needs_background": "light"
     },
     "output_type": "display_data"
    }
   ],
   "source": [
    "sns.boxplot(df['time_diff'])"
   ]
  },
  {
   "cell_type": "code",
   "execution_count": 22,
   "id": "incorporated-turning",
   "metadata": {},
   "outputs": [
    {
     "name": "stdout",
     "output_type": "stream",
     "text": [
      " 0.0         83595\n",
      " 60.0        58595\n",
      "-60.0        56836\n",
      " 120.0       29321\n",
      "-120.0       28350\n",
      " 180.0       13479\n",
      "-180.0       12846\n",
      " 240.0        6081\n",
      "-240.0        5765\n",
      " 300.0        2697\n",
      "-300.0        2601\n",
      " 360.0        1298\n",
      "-360.0        1209\n",
      "-420.0         683\n",
      " 420.0         652\n",
      " 480.0         365\n",
      "-480.0         359\n",
      "-540.0         244\n",
      " 540.0         234\n",
      "-600.0         126\n",
      " 600.0         123\n",
      " 660.0          66\n",
      "-660.0          60\n",
      " 720.0          48\n",
      "-720.0          39\n",
      "-780.0          32\n",
      " 780.0          28\n",
      "-840.0          10\n",
      " 840.0          10\n",
      " 86520.0         2\n",
      " NaN             1\n",
      "-960.0           1\n",
      " 16680.0         1\n",
      " 15660.0         1\n",
      " 15420.0         1\n",
      " 1140.0          1\n",
      " 15300.0         1\n",
      "-900.0           1\n",
      " 86400.0         1\n",
      "-691620.0        1\n",
      " 86640.0         1\n",
      " 86820.0         1\n",
      "-1080.0          1\n",
      " 14280.0         1\n",
      " 187800.0        1\n",
      " 259080.0        1\n",
      "Name: time_diff, dtype: int64\n"
     ]
    }
   ],
   "source": [
    "print(df['time_diff'].value_counts(dropna=False))\n",
    "\n",
    "df.dropna(subset=['time_diff'], inplace=True)"
   ]
  },
  {
   "cell_type": "code",
   "execution_count": 23,
   "id": "promising-directive",
   "metadata": {},
   "outputs": [
    {
     "data": {
      "text/plain": [
       "<AxesSubplot:xlabel='stop_diff'>"
      ]
     },
     "execution_count": 23,
     "metadata": {},
     "output_type": "execute_result"
    },
    {
     "data": {
      "image/png": "[encoded data removed]",
      "text/plain": [
       "<Figure size 432x288 with 1 Axes>"
      ]
     },
     "metadata": {
      "needs_background": "light"
     },
     "output_type": "display_data"
    }
   ],
   "source": [
    "sns.boxplot(df['stop_diff'])"
   ]
  },
  {
   "cell_type": "code",
   "execution_count": 24,
   "id": "palestinian-private",
   "metadata": {},
   "outputs": [
    {
     "name": "stdout",
     "output_type": "stream",
     "text": [
      " 0.0       14361\n",
      "-1.0        5140\n",
      " 1.0        5102\n",
      " 5.0        2934\n",
      " 2.0        2922\n",
      "           ...  \n",
      " 2006.0        1\n",
      "-2289.0        1\n",
      " 2685.0        1\n",
      "-800.0         1\n",
      "-940.0         1\n",
      "Name: stop_diff, Length: 3155, dtype: int64\n"
     ]
    }
   ],
   "source": [
    "print(df['stop_diff'].value_counts(dropna=False))\n",
    "\n",
    "df.dropna(subset=['stop_diff'], inplace=True)"
   ]
  },
  {
   "cell_type": "code",
   "execution_count": 25,
   "id": "forced-spare",
   "metadata": {},
   "outputs": [
    {
     "name": "stdout",
     "output_type": "stream",
     "text": [
      "['delay']\n"
     ]
    },
    {
     "data": {
      "text/plain": [
       "<AxesSubplot:>"
      ]
     },
     "execution_count": 25,
     "metadata": {},
     "output_type": "execute_result"
    },
    {
     "data": {
      "image/png": "[encoded data removed]",
      "text/plain": [
       "<Figure size 1800x720 with 2 Axes>"
      ]
     },
     "metadata": {
      "needs_background": "light"
     },
     "output_type": "display_data"
    }
   ],
   "source": [
    "print(df.columns[df.isna().any()].tolist())\n",
    "msno.matrix(df.sample(250), labels=True)"
   ]
  },
  {
   "cell_type": "markdown",
   "id": "seeing-thanksgiving",
   "metadata": {},
   "source": [
    "### Standardization of features"
   ]
  },
  {
   "cell_type": "code",
   "execution_count": 26,
   "id": "becoming-breed",
   "metadata": {},
   "outputs": [
    {
     "name": "stdout",
     "output_type": "stream",
     "text": [
      "<class 'pandas.core.frame.DataFrame'>\n",
      "Int64Index: 305769 entries, 1 to 308145\n",
      "Data columns (total 17 columns):\n",
      " #   Column          Non-Null Count   Dtype  \n",
      "---  ------          --------------   -----  \n",
      " 0   delay           174650 non-null  float64\n",
      " 1   stop            305769 non-null  int64  \n",
      " 2   number          305769 non-null  int64  \n",
      " 3   vehicle_id      305769 non-null  float64\n",
      " 4   trip_id         305769 non-null  int64  \n",
      " 5   seq_num         305769 non-null  float64\n",
      " 6   day             305769 non-null  int64  \n",
      " 7   month           305769 non-null  int64  \n",
      " 8   hour            305769 non-null  int64  \n",
      " 9   minute          305769 non-null  int64  \n",
      " 10  time_diff       305769 non-null  float64\n",
      " 11  stop_diff       305769 non-null  float64\n",
      " 12  stop_hour       305769 non-null  float64\n",
      " 13  rush_hours      305769 non-null  int64  \n",
      " 14  night_hours     305769 non-null  int64  \n",
      " 15  vehicle_id_log  305769 non-null  float64\n",
      " 16  vehicle_id_cat  305769 non-null  int64  \n",
      "dtypes: float64(7), int64(10)\n",
      "memory usage: 42.0 MB\n"
     ]
    }
   ],
   "source": [
    "df.info()"
   ]
  },
  {
   "cell_type": "code",
   "execution_count": 27,
   "id": "circular-jungle",
   "metadata": {},
   "outputs": [
    {
     "name": "stdout",
     "output_type": "stream",
     "text": [
      "Main df's dataframe contains 17 columns\n",
      "stop_name's dataframe contains 153 columns\n",
      "direction's dataframe contains 308152 columns\n"
     ]
    }
   ],
   "source": [
    "print('Main df\\'s dataframe contains {} columns'.format(len(df.columns)))\n",
    "print('stop_name\\'s dataframe contains {} columns'.format(len(stop_name.columns)))\n",
    "print('direction\\'s dataframe contains {} columns'.format(len(direction)))"
   ]
  },
  {
   "cell_type": "markdown",
   "id": "novel-pantyhose",
   "metadata": {},
   "source": [
    "## Select features\n",
    "\n",
    "In addition, we can ignore some features, because if you check them more carefully, it turns out that they do not contribute much."
   ]
  },
  {
   "cell_type": "code",
   "execution_count": 37,
   "id": "front-given",
   "metadata": {
    "ExecuteTime": {
     "end_time": "2021-10-30T17:17:32.737633Z",
     "start_time": "2021-10-30T17:17:31.970565Z"
    }
   },
   "outputs": [
    {
     "data": {
      "text/plain": [
       "['stop',\n",
       " 'number',\n",
       " 'seq_num',\n",
       " 'day',\n",
       " 'month',\n",
       " 'hour',\n",
       " 'time_diff',\n",
       " 'stop_hour',\n",
       " 'rush_hours',\n",
       " 'night_hours',\n",
       " 'vehicle_id_log',\n",
       " 'vehicle_id_cat']"
      ]
     },
     "execution_count": 37,
     "metadata": {},
     "output_type": "execute_result"
    }
   ],
   "source": [
    "feats = df.select_dtypes(\"number\").columns\n",
    "black_list = [\"id\", \"delay\", \"trip_id\", 'trip_id_log', 'vehicle_id', 'super_seq', 'stop_name_cat', 'est_delay', 'minute', 'seq_num_^2_median', \n",
    "              'seq_num_tmp','no_delays_stops','seq_num_power2', 'trip_id_seq_num_number_m_frec','day_frec','trip_id_cat', 'stop_diff']\n",
    "feats = [x for x in feats if x not in black_list]\n",
    "\n",
    "feats"
   ]
  },
  {
   "cell_type": "code",
   "execution_count": 31,
   "id": "mexican-accent",
   "metadata": {},
   "outputs": [],
   "source": [
    "df['delay'] = delay\n",
    "\n",
    "y = df['delay'].dropna()\n",
    "\n",
    "X = df[~df['delay'].isna()]\n",
    "X.drop('delay', axis=1, inplace=True)\n",
    "\n",
    "X_test = df[df['delay'].isna()]\n",
    "X_test.drop('delay', axis=1, inplace=True)"
   ]
  },
  {
   "cell_type": "code",
   "execution_count": 34,
   "id": "structural-grain",
   "metadata": {},
   "outputs": [
    {
     "name": "stdout",
     "output_type": "stream",
     "text": [
      "(113522, 16) (61128, 16) (113522,) (61128,)\n"
     ]
    }
   ],
   "source": [
    "from sklearn.model_selection import train_test_split\n",
    "X_train, X_valid, y_train, y_valid = train_test_split(X, y, test_size=0.35)\n",
    "\n",
    "print(X_train.shape, X_valid.shape, y_train.shape, y_valid.shape, )"
   ]
  },
  {
   "cell_type": "code",
   "execution_count": 39,
   "id": "light-toner",
   "metadata": {
    "ExecuteTime": {
     "end_time": "2021-10-30T17:17:37.549812Z",
     "start_time": "2021-10-30T17:17:36.752658Z"
    }
   },
   "outputs": [],
   "source": [
    "#df_train = df[ df[\"delay\"].notnull() ].copy().fillna(-1)\n",
    "#df_test = df[ df[\"delay\"].isnull() ].copy().fillna(-1)\n",
    "\n",
    "#X_train = df_train[feats].fillna(-1).values\n",
    "#y_train = df_train[\"delay\"].values\n",
    "#X_test = df_test[feats].fillna(-1).values"
   ]
  },
  {
   "cell_type": "markdown",
   "id": "revised-underground",
   "metadata": {},
   "source": [
    "## Building the model"
   ]
  },
  {
   "cell_type": "markdown",
   "id": "strange-waste",
   "metadata": {},
   "source": [
    "<strong>Due to the large amount of data/records, most of the models available in scikit-learn will not be able to learn the model!</strong> For that, we can still use the capabilities of the XGBoost library."
   ]
  },
  {
   "cell_type": "code",
   "execution_count": 40,
   "id": "single-electric",
   "metadata": {},
   "outputs": [],
   "source": [
    "from sklearn.model_selection import cross_val_score\n",
    "import xgboost as xgb"
   ]
  },
  {
   "cell_type": "code",
   "execution_count": 41,
   "id": "charitable-circle",
   "metadata": {},
   "outputs": [],
   "source": [
    "model = xgb.XGBRegressor(max_depth=5, n_estimators=50, random_state=0)\n",
    "\n",
    "scores = cross_val_score(model, X_train, y_train, cv=3, scoring=\"neg_mean_absolute_error\")"
   ]
  },
  {
   "cell_type": "code",
   "execution_count": 42,
   "id": "northern-camcorder",
   "metadata": {},
   "outputs": [
    {
     "name": "stdout",
     "output_type": "stream",
     "text": [
      "32.466549130497775 0.9562357510311685\n"
     ]
    }
   ],
   "source": [
    "print(-np.mean(scores), np.std(scores))"
   ]
  },
  {
   "cell_type": "markdown",
   "id": "laughing-swaziland",
   "metadata": {},
   "source": [
    "## Predicting on unseen data"
   ]
  },
  {
   "cell_type": "code",
   "execution_count": 43,
   "id": "monetary-texture",
   "metadata": {},
   "outputs": [],
   "source": [
    "model.fit(X_train, y_train)\n",
    "y_pred = model.predict(X_test)\n",
    "y_pred[ y_pred < 0 ] = 0\n",
    "df_test[\"delay\"] = y_pred"
   ]
  },
  {
   "cell_type": "code",
   "execution_count": 45,
   "id": "eleven-smell",
   "metadata": {},
   "outputs": [],
   "source": [
    "df_test[ [\"id\", \"delay\"] ].to_csv('../output/simple_xgboost.csv', index=False) "
   ]
  }
 ],
 "metadata": {
  "kernelspec": {
   "display_name": "Python 3",
   "language": "python",
   "name": "python3"
  },
  "language_info": {
   "codemirror_mode": {
    "name": "ipython",
    "version": 3
   },
   "file_extension": ".py",
   "mimetype": "text/x-python",
   "name": "python",
   "nbconvert_exporter": "python",
   "pygments_lexer": "ipython3",
   "version": "3.8.6"
  }
 },
 "nbformat": 4,
 "nbformat_minor": 5
}
